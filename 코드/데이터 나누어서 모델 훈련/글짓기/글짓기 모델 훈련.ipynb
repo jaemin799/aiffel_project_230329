{
 "cells": [
  {
   "cell_type": "markdown",
   "id": "87efd6df",
   "metadata": {},
   "source": [
    "# 알집 풀기"
   ]
  },
  {
   "cell_type": "code",
   "execution_count": 8,
   "id": "b49babff",
   "metadata": {},
   "outputs": [],
   "source": [
    "from zipfile import ZipFile\n",
    "\n",
    "with ZipFile(\"train_data.zip\", 'r') as zip:\n",
    "    zip.extractall(\"train\")"
   ]
  },
  {
   "cell_type": "code",
   "execution_count": 9,
   "id": "4f2984a4",
   "metadata": {},
   "outputs": [],
   "source": [
    "with ZipFile(\"test_data.zip\", \"r\") as zip:\n",
    "    zip.extractall(\"test\")"
   ]
  },
  {
   "cell_type": "markdown",
   "id": "fc1c50e4",
   "metadata": {},
   "source": [
    "# 데이터 불러오기"
   ]
  },
  {
   "cell_type": "code",
   "execution_count": 10,
   "id": "ea7c8c92",
   "metadata": {},
   "outputs": [
    {
     "name": "stdout",
     "output_type": "stream",
     "text": [
      "['/aiffel/aiffel/aiffel_project/writing_model/train/train_data/▒█┴■▒Γ_░φ╡ε_1╟╨│Γ_ESSAY_66134.json', '/aiffel/aiffel/aiffel_project/writing_model/train/train_data/▒█┴■▒Γ_┴▀╡ε_1╟╨│Γ_ESSAY_42019.json', '/aiffel/aiffel/aiffel_project/writing_model/train/train_data/▒█┴■▒Γ_┴▀╡ε_2╟╨│Γ_ESSAY_82321.json', '/aiffel/aiffel/aiffel_project/writing_model/train/train_data/▒█┴■▒Γ_┴▀╡ε_2╟╨│Γ_ESSAY_81079.json', '/aiffel/aiffel/aiffel_project/writing_model/train/train_data/▒█┴■▒Γ_░φ╡ε_3╟╨│Γ_ESSAY_38369.json', '/aiffel/aiffel/aiffel_project/writing_model/train/train_data/▒█┴■▒Γ_┴▀╡ε_2╟╨│Γ_ESSAY_82280.json', '/aiffel/aiffel/aiffel_project/writing_model/train/train_data/▒█┴■▒Γ_░φ╡ε_2╟╨│Γ_ESSAY_57465.json', '/aiffel/aiffel/aiffel_project/writing_model/train/train_data/▒█┴■▒Γ_┴▀╡ε_1╟╨│Γ_ESSAY_37286.json', '/aiffel/aiffel/aiffel_project/writing_model/train/train_data/▒█┴■▒Γ_┴▀╡ε_1╟╨│Γ_ESSAY_75841.json', '/aiffel/aiffel/aiffel_project/writing_model/train/train_data/▒█┴■▒Γ_░φ╡ε_3╟╨│Γ_ESSAY_37538.json']\n"
     ]
    }
   ],
   "source": [
    "import os\n",
    "import glob\n",
    "\n",
    "train_dir = os.getenv(\"HOME\") + \"/aiffel/aiffel_project/writing_model/train/train_data/*\"\n",
    "train_list = glob.glob(train_dir)\n",
    "\n",
    "print(train_list[:10])"
   ]
  },
  {
   "cell_type": "code",
   "execution_count": 13,
   "id": "8a83ec34",
   "metadata": {},
   "outputs": [
    {
     "name": "stdout",
     "output_type": "stream",
     "text": [
      "['/aiffel/aiffel/aiffel_project/writing_model/test/test_data/▒█┴■▒Γ_░φ╡ε_2╟╨│Γ_ESSAY_79392.json', '/aiffel/aiffel/aiffel_project/writing_model/test/test_data/▒█┴■▒Γ_░φ╡ε_3╟╨│Γ_ESSAY_37698.json', '/aiffel/aiffel/aiffel_project/writing_model/test/test_data/▒█┴■▒Γ_┴▀╡ε_2╟╨│Γ_ESSAY_82398.json', '/aiffel/aiffel/aiffel_project/writing_model/test/test_data/▒█┴■▒Γ_┴▀╡ε_2╟╨│Γ_ESSAY_68003.json', '/aiffel/aiffel/aiffel_project/writing_model/test/test_data/▒█┴■▒Γ_┴▀╡ε_2╟╨│Γ_ESSAY_82335.json', '/aiffel/aiffel/aiffel_project/writing_model/test/test_data/▒█┴■▒Γ_░φ╡ε_2╟╨│Γ_ESSAY_87205.json', '/aiffel/aiffel/aiffel_project/writing_model/test/test_data/▒█┴■▒Γ_░φ╡ε_2╟╨│Γ_ESSAY_77725.json', '/aiffel/aiffel/aiffel_project/writing_model/test/test_data/▒█┴■▒Γ_░φ╡ε_3╟╨│Γ_ESSAY_44770.json', '/aiffel/aiffel/aiffel_project/writing_model/test/test_data/▒█┴■▒Γ_┴▀╡ε_2╟╨│Γ_ESSAY_82399.json', '/aiffel/aiffel/aiffel_project/writing_model/test/test_data/▒█┴■▒Γ_░φ╡ε_1╟╨│Γ_ESSAY_75429.json']\n"
     ]
    }
   ],
   "source": [
    "test_dir = os.getenv(\"HOME\") + \"/aiffel/aiffel_project/writing_model/test/test_data/*\"\n",
    "test_list = glob.glob(test_dir)\n",
    "\n",
    "print(test_list[:10])"
   ]
  },
  {
   "cell_type": "markdown",
   "id": "bb107e6e",
   "metadata": {},
   "source": [
    "# 데이터 전처리"
   ]
  },
  {
   "cell_type": "code",
   "execution_count": 12,
   "id": "233e0c7f",
   "metadata": {},
   "outputs": [
    {
     "name": "stdout",
     "output_type": "stream",
     "text": [
      "['우리는 살면서 아주 당연하게 생각하고 있는 것들이 있습니다. 그러나 당연하다고 여겼던 것이 알고 보니 정말이지 소중하고 중요한 존재였다는 것을 뒤늦게 깨닫곤 합니다. 소중한 것은 너무나도 많지만 그 중 한 가지 예는 바로 병원에서 볼수 있습니다. 바로, 사람의 건강이라고 할 수 있겠습니다. 건강 할 때에는 건강의 소중함에 대해 알지 못합니다. 당연히 누려야 할 권리라고 생각합니다. 그런데 어느 날 허리라도 아픈 상황이 찾아온다면? 의자에 앉아 있는 것도 곤욕이고 서서 어딘가 움직이는 것도 힘들 수 있습니다. 하루 종일 누워서 생활하다 보면 비로소 건강이 얼마나 중요한지 깨달을 수 있습니다. 우리는 건강의 소중함에 대해 뼈저리게 느끼는 일이 평소에 없습니다. 건강할 때 건강을 챙기는 현명한 모습을 보였으면 합니다. 건강을 챙긴다는 것에 의미는 두 가지가 있을 것입니다. 하나는 애초에 문제가 생기지 않게 잘하는 것이고 또 하나는 문제가 생기게 되었을 때, 더 큰 문제로 번지지 않게 빠르게 진압하는 것입니다. 노화는 자연스러운 현상이므로 배제하고, 모두가 공평한 상황에서 갑작스럽게 건강에 찾아올 수 있는 위기 상황으로는 교통사고가 대표적일 것입니다. 갑자기 사고라도 당하게 되면 우리의 건강은 크게 흔들릴 것입니다. 말 그대로 갑작스럽게 건강에 적신호가 켜지는 것입니다. 당장에는 별 문제 없다가 서서히 나타나 점점 심해지는 경우도 있습니다. 건강이 우리의 가장 소중한 것입니다. 그래야 소중한 것을 잃지 않습니다.', '미래의 도시에는 차가 날아다닐 것이고, 그때쯤으면 다른나라를 갔다오는데만 시간이 별로 안 걸릴 수도 있다. 또한 TV나 컴퓨터도 오직 터치만으로 떴다가 사라지는 홀로그램 기술이 생길 수도 있을 것 같다. 우주 사업도 진행되어 우주를 왕복선을 타고 여행이 가능할 수도 있을 것이다. 그때는 힘든 일은 로봇이 대체할 수도 있고 로봇이 대중화되어 사람들이 모르는 길이나 장소 등을 찾아주는 역할도 가능할 것이다. 하지만 환경이 오염되어 미세먼지가 극도로 심해져 평생 마스크를 써야될 수도 있을 것이다. 이처럼 많이 발전할 수 있지만 갑자기 발달하면 지구가 버티지 못해 위험한 상황이 발생할 수도 있다는 것을 명심해야 된다고 생각합니다.', '나는 최근에 자율주행자동차에 관한 관심이 부쩍 생기기 시작했다. 왜냐하면 원래는 일반적으로 자동차를 우리가 직접 운전해야 갈 수 있었던 것인데, 자율주행자동차는 우리가 운전하지 않아도 스스로 운전한다는 것이 신기했고 최근 현대자동차의 자율주행자동차인 아이오닉을 보면서 자율주행자동차의 현실이 가까이 오고 있다는 것을 체감했기 때문이다. 그런데 아이오닉 외에도 자율주행자동차의 디자인은 일반적인 자동차와는 다르다는 것을 느꼈고 내가 생각하기에는 답답해 보이고 딱딱한 느낌을 주고 있다고 느꼈다. 그래서 나는 자율주행자동차를 디자인할 수 있는 자동차디자이너가 되고 싶다는 생각을 했다. 그래서 10년 뒤의 나는 자동차를 디자인할 수 있는 학과에서 사람들이 더 친근하고 편한 느낌을 받을 수 있는 자율주행자동차의 디자인을 생각하며 공부할 것이다. 이런 모습이 되기 위해서는 꾸준한 자율주행자동차에 대한 관심과 디자인 서적을 읽으며 미적 감각을 키워 나가야한다고 생각한다. 20년 뒤의 나는 한 기업에서 자율주행자동차의 디자이너가 되어 일하고 있을 것이다. 이런 모습이 되기 위해서는 꾸준한 디자인 트렌드를 익히고 소비자들의 니즈를 파악하는 것이 필요할 것이다. 그리고 30년 뒤의 나는 유명한 자율주행자동차디자이너로 세상에 알려지며 사람들에게 찬사를 받을 것이다. 이런 모습이 되기 위해서는 꾸준히 자율주행자동차를 사랑하는 마음을 가지고 사람들이 좋아할 수 있는 디자인을 만드는 것이 필요하다고 생각한다.']\n"
     ]
    }
   ],
   "source": [
    "import json\n",
    "\n",
    "corpus = []\n",
    "\n",
    "for file in train_list:\n",
    "    with open(file, 'r') as f:\n",
    "        json_file = json.load(f)\n",
    "        only_txt = json_file['essay_txt']\n",
    "        only_txt = only_txt.replace(\"#@문장구분#\", \"\")\n",
    "        only_txt = only_txt.replace(\"\\n\", \"\")\n",
    "        only_txt = only_txt.replace(\"\\b\", \"\")\n",
    "        corpus.append(only_txt)\n",
    "        \n",
    "print(corpus[:3])"
   ]
  },
  {
   "cell_type": "code",
   "execution_count": 6,
   "id": "48f94c26",
   "metadata": {},
   "outputs": [
    {
     "name": "stdout",
     "output_type": "stream",
     "text": [
      "우리는 살면서 아주 당연하게 생각하고 있는 것들이 있습니다. 그러나 당연하다고 여겼던 것이 알고 보니 정말이지 소중하고 중요한 존재였다는 것을 뒤늦게 깨닫곤 합니다. 소중한 것은 \n"
     ]
    }
   ],
   "source": [
    "train_data = ' '.join(map(str, corpus))\n",
    "print(train_data[:100])"
   ]
  },
  {
   "cell_type": "code",
   "execution_count": 15,
   "id": "0b59a511",
   "metadata": {},
   "outputs": [
    {
     "name": "stdout",
     "output_type": "stream",
     "text": [
      "위성 인터넷으로 전세계를 연결하겠다는 일론 머스크 테슬라 창업자의 '스타링크' 프로젝트에 대한 반발이 나날이 확산되고 있는 추세이다. 소유권이 없고, 특별한 규제도 없는 우주 공간을 개인이 선점하고 사업에 활용하도록 방치해서는 안된다는 것이다. 요제프 아슈바허 유럽우주국 사무총장은 영국 파이낸셜타임스 인터뷰에서 다음과 같은 인터뷰를 하였다. \"전세계 위성의 절반을 머스크라는 한 사람이 차지하고 있다\"면서 \"머스크가 우주 경제를 지배하는 것을 막기 위해 규제를 도입해야 한다\"고 말했다. 머스크가 세운 민간우주회사 스페이스X는 4만개 이상의 위성을 지구 저궤도에 쏘아올려 전세계 어디에서나 기지국 없이 인터넷을 서비스하는 스타링크 사업을 진행하고 있다. 이미 2000대의 위성을 쏘아올렸고 지난해부터 상용 서비스도 시작했다. 하지만 스페이스X가 한정된 지구 궤도에 지나치게 많은 위성을 쏘아 올리면서 공간을 선점하고 있는 데에다, 다른 위성과의 충돌 위험도 높아졌다는 불만이 높아지고 있다. 프란츠 파이요 룩셈부르크 경제장관은 지난달 열린 뉴스페이스 컨퍼런스에서 \"우주에는 새 규제가 필수적\"이라며 \"우주의  식민지화를 막아야 한다\"고 했다. 과학자들도 비판에 동참했다. 영국 왕립천문학회는 지난 12월 2일 \"스페이스X가 소형 인공위성을 대량으로 쏘아 올리면서 광공해가 생겨, 천체를 분별하기 어려워졌다\"면서 \"위성이 전파를 방해해 우주 관측에 악영향을 끼칠 수 있다\"고 지적했다. 그의 이상과 그걸 행동하는 행동력은 항상 박수를 쳐주고 싶을 정도이다. 실제로 국제 사회에 중요한 역할을 맡고 있다고 생각하기 때문인데, 하지만 그도 이렇게 영향력있는 인물이 된 만큼 나무만을 볼 것이 아닌 숲을 봐야 할 시기가 되었다고 생각하는 바이며 많은 사람들이 우려하고 있는 부분을 놓쳐서는 안 된다고 생각한다.\n"
     ]
    }
   ],
   "source": [
    "corpus = []\n",
    "\n",
    "for file in test_list:\n",
    "    with open(file, 'r') as f:\n",
    "        json_file = json.load(f)\n",
    "        only_txt = json_file[\"essay_txt\"]\n",
    "        only_txt = only_txt.replace(\"#@문장구분#\", \"\")\n",
    "        only_txt = only_txt.replace(\"\\n\", \"\")\n",
    "        only_txt = only_txt.replace(\"\\b\", \"\")\n",
    "        corpus.append(only_txt)\n",
    "        \n",
    "print(corpus[0])"
   ]
  },
  {
   "cell_type": "code",
   "execution_count": 16,
   "id": "2b5c6b49",
   "metadata": {},
   "outputs": [
    {
     "name": "stdout",
     "output_type": "stream",
     "text": [
      "위성 인터넷으로 전세계를 연결하겠다는 일론 머스크 테슬라 창업자의 '스타링크' 프로젝트에 대한 반발이 나날이 확산되고 있는 추세이다. 소유권이 없고, 특별한 규제도 없는 우주 공간\n"
     ]
    }
   ],
   "source": [
    "test_data = ' '.join(map(str, corpus))\n",
    "print(test_data[:100])"
   ]
  },
  {
   "cell_type": "markdown",
   "id": "3379b268",
   "metadata": {},
   "source": [
    "# 프리트레인 모델 불러오기"
   ]
  },
  {
   "cell_type": "code",
   "execution_count": 17,
   "id": "f096d142",
   "metadata": {},
   "outputs": [
    {
     "name": "stderr",
     "output_type": "stream",
     "text": [
      "The tokenizer class you load from this checkpoint is not the same type as the class this function is called from. It may result in unexpected tokenization. \n",
      "The tokenizer class you load from this checkpoint is 'GPT2Tokenizer'. \n",
      "The class this function is called from is 'PreTrainedTokenizerFast'.\n",
      "/opt/conda/lib/python3.9/site-packages/transformers/models/auto/modeling_auto.py:660: FutureWarning: The class `AutoModelWithLMHead` is deprecated and will be removed in a future version. Please use `AutoModelForCausalLM` for causal language models, `AutoModelForMaskedLM` for masked language models and `AutoModelForSeq2SeqLM` for encoder-decoder models.\n",
      "  warnings.warn(\n"
     ]
    },
    {
     "data": {
      "application/vnd.jupyter.widget-view+json": {
       "model_id": "2d256cfd92c44394b79e8fe9c61159c6",
       "version_major": 2,
       "version_minor": 0
      },
      "text/plain": [
       "Downloading:   0%|          | 0.00/490M [00:00<?, ?B/s]"
      ]
     },
     "metadata": {},
     "output_type": "display_data"
    }
   ],
   "source": [
    "from transformers import AutoModelWithLMHead, PreTrainedTokenizerFast\n",
    "\n",
    "tokenizer = PreTrainedTokenizerFast.from_pretrained(\"skt/kogpt2-base-v2\",\n",
    "                                                   bos_token=\"</s>\",\n",
    "                                                   eos_token=\"</s>\",\n",
    "                                                   unk_token=\"<unk>\",\n",
    "                                                   pad_token=\"<pad>\",\n",
    "                                                   mask_token=\"<mask>\")\n",
    "\n",
    "model = AutoModelWithLMHead.from_pretrained(\"skt/kogpt2-base-v2\")"
   ]
  },
  {
   "cell_type": "markdown",
   "id": "133cbee0",
   "metadata": {},
   "source": [
    "# 토큰화 작업"
   ]
  },
  {
   "cell_type": "code",
   "execution_count": 19,
   "id": "1eb3f160",
   "metadata": {},
   "outputs": [
    {
     "name": "stdout",
     "output_type": "stream",
     "text": [
      "Requirement already satisfied: fastai in /opt/conda/lib/python3.9/site-packages (2.7.11)\n",
      "Requirement already satisfied: pip in /opt/conda/lib/python3.9/site-packages (from fastai) (21.3.1)\n",
      "Requirement already satisfied: pandas in /opt/conda/lib/python3.9/site-packages (from fastai) (1.3.3)\n",
      "Requirement already satisfied: torchvision>=0.8.2 in /opt/conda/lib/python3.9/site-packages (from fastai) (0.10.1+cu111)\n",
      "Requirement already satisfied: requests in /opt/conda/lib/python3.9/site-packages (from fastai) (2.26.0)\n",
      "Requirement already satisfied: fastcore<1.6,>=1.4.5 in /opt/conda/lib/python3.9/site-packages (from fastai) (1.5.28)\n",
      "Requirement already satisfied: packaging in /opt/conda/lib/python3.9/site-packages (from fastai) (21.3)\n",
      "Requirement already satisfied: matplotlib in /opt/conda/lib/python3.9/site-packages (from fastai) (3.4.3)\n",
      "Requirement already satisfied: fastprogress>=0.2.4 in /opt/conda/lib/python3.9/site-packages (from fastai) (1.0.3)\n",
      "Requirement already satisfied: scipy in /opt/conda/lib/python3.9/site-packages (from fastai) (1.7.1)\n",
      "Requirement already satisfied: spacy<4 in /opt/conda/lib/python3.9/site-packages (from fastai) (3.5.1)\n",
      "Requirement already satisfied: scikit-learn in /opt/conda/lib/python3.9/site-packages (from fastai) (1.0)\n",
      "Requirement already satisfied: pillow>6.0.0 in /opt/conda/lib/python3.9/site-packages (from fastai) (8.3.2)\n",
      "Requirement already satisfied: fastdownload<2,>=0.0.5 in /opt/conda/lib/python3.9/site-packages (from fastai) (0.0.7)\n",
      "Requirement already satisfied: pyyaml in /opt/conda/lib/python3.9/site-packages (from fastai) (6.0)\n",
      "Requirement already satisfied: torch<1.14,>=1.7 in /opt/conda/lib/python3.9/site-packages (from fastai) (1.9.1+cu111)\n",
      "Requirement already satisfied: wasabi<1.2.0,>=0.9.1 in /opt/conda/lib/python3.9/site-packages (from spacy<4->fastai) (1.1.1)\n",
      "Requirement already satisfied: langcodes<4.0.0,>=3.2.0 in /opt/conda/lib/python3.9/site-packages (from spacy<4->fastai) (3.3.0)\n",
      "Requirement already satisfied: smart-open<7.0.0,>=5.2.1 in /opt/conda/lib/python3.9/site-packages (from spacy<4->fastai) (5.2.1)\n",
      "Requirement already satisfied: jinja2 in /opt/conda/lib/python3.9/site-packages (from spacy<4->fastai) (3.0.3)\n",
      "Requirement already satisfied: setuptools in /opt/conda/lib/python3.9/site-packages (from spacy<4->fastai) (59.4.0)\n",
      "Requirement already satisfied: spacy-loggers<2.0.0,>=1.0.0 in /opt/conda/lib/python3.9/site-packages (from spacy<4->fastai) (1.0.4)\n",
      "Requirement already satisfied: pydantic!=1.8,!=1.8.1,<1.11.0,>=1.7.4 in /opt/conda/lib/python3.9/site-packages (from spacy<4->fastai) (1.10.6)\n",
      "Requirement already satisfied: catalogue<2.1.0,>=2.0.6 in /opt/conda/lib/python3.9/site-packages (from spacy<4->fastai) (2.0.8)\n",
      "Requirement already satisfied: pathy>=0.10.0 in /opt/conda/lib/python3.9/site-packages (from spacy<4->fastai) (0.10.1)\n",
      "Requirement already satisfied: murmurhash<1.1.0,>=0.28.0 in /opt/conda/lib/python3.9/site-packages (from spacy<4->fastai) (1.0.9)\n",
      "Requirement already satisfied: spacy-legacy<3.1.0,>=3.0.11 in /opt/conda/lib/python3.9/site-packages (from spacy<4->fastai) (3.0.12)\n",
      "Requirement already satisfied: srsly<3.0.0,>=2.4.3 in /opt/conda/lib/python3.9/site-packages (from spacy<4->fastai) (2.4.6)\n",
      "Requirement already satisfied: preshed<3.1.0,>=3.0.2 in /opt/conda/lib/python3.9/site-packages (from spacy<4->fastai) (3.0.8)\n",
      "Requirement already satisfied: tqdm<5.0.0,>=4.38.0 in /opt/conda/lib/python3.9/site-packages (from spacy<4->fastai) (4.62.3)\n",
      "Requirement already satisfied: thinc<8.2.0,>=8.1.8 in /opt/conda/lib/python3.9/site-packages (from spacy<4->fastai) (8.1.9)\n",
      "Requirement already satisfied: cymem<2.1.0,>=2.0.2 in /opt/conda/lib/python3.9/site-packages (from spacy<4->fastai) (2.0.7)\n",
      "Requirement already satisfied: numpy>=1.15.0 in /opt/conda/lib/python3.9/site-packages (from spacy<4->fastai) (1.21.4)\n",
      "Requirement already satisfied: typer<0.8.0,>=0.3.0 in /opt/conda/lib/python3.9/site-packages (from spacy<4->fastai) (0.7.0)\n",
      "Requirement already satisfied: pyparsing!=3.0.5,>=2.0.2 in /opt/conda/lib/python3.9/site-packages (from packaging->fastai) (3.0.6)\n",
      "Requirement already satisfied: idna<4,>=2.5 in /opt/conda/lib/python3.9/site-packages (from requests->fastai) (2.10)\n",
      "Requirement already satisfied: certifi>=2017.4.17 in /opt/conda/lib/python3.9/site-packages (from requests->fastai) (2021.10.8)\n",
      "Requirement already satisfied: charset-normalizer~=2.0.0 in /opt/conda/lib/python3.9/site-packages (from requests->fastai) (2.0.8)\n",
      "Requirement already satisfied: urllib3<1.27,>=1.21.1 in /opt/conda/lib/python3.9/site-packages (from requests->fastai) (1.26.7)\n",
      "Requirement already satisfied: typing-extensions in /opt/conda/lib/python3.9/site-packages (from torch<1.14,>=1.7->fastai) (4.5.0)\n",
      "Requirement already satisfied: kiwisolver>=1.0.1 in /opt/conda/lib/python3.9/site-packages (from matplotlib->fastai) (1.3.2)\n",
      "Requirement already satisfied: cycler>=0.10 in /opt/conda/lib/python3.9/site-packages (from matplotlib->fastai) (0.11.0)\n",
      "Requirement already satisfied: python-dateutil>=2.7 in /opt/conda/lib/python3.9/site-packages (from matplotlib->fastai) (2.8.2)\n",
      "Requirement already satisfied: pytz>=2017.3 in /opt/conda/lib/python3.9/site-packages (from pandas->fastai) (2021.3)\n",
      "Requirement already satisfied: joblib>=0.11 in /opt/conda/lib/python3.9/site-packages (from scikit-learn->fastai) (1.1.0)\n",
      "Requirement already satisfied: threadpoolctl>=2.0.0 in /opt/conda/lib/python3.9/site-packages (from scikit-learn->fastai) (3.0.0)\n",
      "Requirement already satisfied: six>=1.5 in /opt/conda/lib/python3.9/site-packages (from python-dateutil>=2.7->matplotlib->fastai) (1.16.0)\n",
      "Requirement already satisfied: confection<1.0.0,>=0.0.1 in /opt/conda/lib/python3.9/site-packages (from thinc<8.2.0,>=8.1.8->spacy<4->fastai) (0.0.4)\n",
      "Requirement already satisfied: blis<0.8.0,>=0.7.8 in /opt/conda/lib/python3.9/site-packages (from thinc<8.2.0,>=8.1.8->spacy<4->fastai) (0.7.9)\n",
      "Requirement already satisfied: click<9.0.0,>=7.1.1 in /opt/conda/lib/python3.9/site-packages (from typer<0.8.0,>=0.3.0->spacy<4->fastai) (8.0.3)\n",
      "Requirement already satisfied: MarkupSafe>=2.0 in /opt/conda/lib/python3.9/site-packages (from jinja2->spacy<4->fastai) (2.0.1)\n",
      "\u001b[33mWARNING: Running pip as the 'root' user can result in broken permissions and conflicting behaviour with the system package manager. It is recommended to use a virtual environment instead: https://pip.pypa.io/warnings/venv\u001b[0m\n"
     ]
    }
   ],
   "source": [
    "!pip install fastai"
   ]
  },
  {
   "cell_type": "code",
   "execution_count": 20,
   "id": "1da5613d",
   "metadata": {},
   "outputs": [],
   "source": [
    "from fastai.text.all import *"
   ]
  },
  {
   "cell_type": "code",
   "execution_count": 21,
   "id": "c5c13fc9",
   "metadata": {},
   "outputs": [],
   "source": [
    "class TransformersTokenizer(Transform):\n",
    "    def __init__(self, tokenizer):\n",
    "        self.tokenizer = tokenizer\n",
    "    def encodes(self, x):\n",
    "        toks = self.tokenizer.tokenize(x)\n",
    "        return tensor(self.tokenizer.convert_tokens_to_ids(toks))\n",
    "    def decodes(self, x):\n",
    "        return TitledStr(self.tokenizer.decode(x.cpu().numpy()))"
   ]
  },
  {
   "cell_type": "code",
   "execution_count": 22,
   "id": "8fac4aed",
   "metadata": {},
   "outputs": [],
   "source": [
    "splits = [[0], [1]]\n",
    "\n",
    "tls = TfmdLists([train_data, test_data], TransformersTokenizer(tokenizer),\n",
    "               splits=splits, dl_type=LMDataLoader)\n",
    "batch, seq_len = 8, 256\n",
    "dls = tls.dataloaders(bs=batch, seq_len=seq_len)"
   ]
  },
  {
   "cell_type": "markdown",
   "id": "2cb90cc2",
   "metadata": {},
   "source": [
    "# 모델 훈련"
   ]
  },
  {
   "cell_type": "code",
   "execution_count": 24,
   "id": "87eedf39",
   "metadata": {},
   "outputs": [
    {
     "data": {
      "text/html": [
       "\n",
       "<style>\n",
       "    /* Turns off some styling */\n",
       "    progress {\n",
       "        /* gets rid of default border in Firefox and Opera. */\n",
       "        border: none;\n",
       "        /* Needs to be in here for Safari polyfill so background images work as expected. */\n",
       "        background-size: auto;\n",
       "    }\n",
       "    progress:not([value]), progress:not([value])::-webkit-progress-bar {\n",
       "        background: repeating-linear-gradient(45deg, #7e7e7e, #7e7e7e 10px, #5c5c5c 10px, #5c5c5c 20px);\n",
       "    }\n",
       "    .progress-bar-interrupted, .progress-bar-interrupted::-webkit-progress-bar {\n",
       "        background: #F44336;\n",
       "    }\n",
       "</style>\n"
      ],
      "text/plain": [
       "<IPython.core.display.HTML object>"
      ]
     },
     "metadata": {},
     "output_type": "display_data"
    },
    {
     "data": {
      "text/html": [],
      "text/plain": [
       "<IPython.core.display.HTML object>"
      ]
     },
     "metadata": {},
     "output_type": "display_data"
    },
    {
     "name": "stdout",
     "output_type": "stream",
     "text": [
      "SuggestedLRs(valley=8.31763736641733e-06)\n"
     ]
    },
    {
     "data": {
      "text/html": [
       "\n",
       "<style>\n",
       "    /* Turns off some styling */\n",
       "    progress {\n",
       "        /* gets rid of default border in Firefox and Opera. */\n",
       "        border: none;\n",
       "        /* Needs to be in here for Safari polyfill so background images work as expected. */\n",
       "        background-size: auto;\n",
       "    }\n",
       "    progress:not([value]), progress:not([value])::-webkit-progress-bar {\n",
       "        background: repeating-linear-gradient(45deg, #7e7e7e, #7e7e7e 10px, #5c5c5c 10px, #5c5c5c 20px);\n",
       "    }\n",
       "    .progress-bar-interrupted, .progress-bar-interrupted::-webkit-progress-bar {\n",
       "        background: #F44336;\n",
       "    }\n",
       "</style>\n"
      ],
      "text/plain": [
       "<IPython.core.display.HTML object>"
      ]
     },
     "metadata": {},
     "output_type": "display_data"
    },
    {
     "data": {
      "text/html": [
       "<table border=\"1\" class=\"dataframe\">\n",
       "  <thead>\n",
       "    <tr style=\"text-align: left;\">\n",
       "      <th>epoch</th>\n",
       "      <th>train_loss</th>\n",
       "      <th>valid_loss</th>\n",
       "      <th>perplexity</th>\n",
       "      <th>time</th>\n",
       "    </tr>\n",
       "  </thead>\n",
       "  <tbody>\n",
       "    <tr>\n",
       "      <td>0</td>\n",
       "      <td>5.894165</td>\n",
       "      <td>5.845465</td>\n",
       "      <td>345.663300</td>\n",
       "      <td>02:57</td>\n",
       "    </tr>\n",
       "  </tbody>\n",
       "</table>"
      ],
      "text/plain": [
       "<IPython.core.display.HTML object>"
      ]
     },
     "metadata": {},
     "output_type": "display_data"
    },
    {
     "data": {
      "text/html": [
       "\n",
       "<style>\n",
       "    /* Turns off some styling */\n",
       "    progress {\n",
       "        /* gets rid of default border in Firefox and Opera. */\n",
       "        border: none;\n",
       "        /* Needs to be in here for Safari polyfill so background images work as expected. */\n",
       "        background-size: auto;\n",
       "    }\n",
       "    progress:not([value]), progress:not([value])::-webkit-progress-bar {\n",
       "        background: repeating-linear-gradient(45deg, #7e7e7e, #7e7e7e 10px, #5c5c5c 10px, #5c5c5c 20px);\n",
       "    }\n",
       "    .progress-bar-interrupted, .progress-bar-interrupted::-webkit-progress-bar {\n",
       "        background: #F44336;\n",
       "    }\n",
       "</style>\n"
      ],
      "text/plain": [
       "<IPython.core.display.HTML object>"
      ]
     },
     "metadata": {},
     "output_type": "display_data"
    },
    {
     "data": {
      "text/html": [
       "<table border=\"1\" class=\"dataframe\">\n",
       "  <thead>\n",
       "    <tr style=\"text-align: left;\">\n",
       "      <th>epoch</th>\n",
       "      <th>train_loss</th>\n",
       "      <th>valid_loss</th>\n",
       "      <th>perplexity</th>\n",
       "      <th>time</th>\n",
       "    </tr>\n",
       "  </thead>\n",
       "  <tbody>\n",
       "    <tr>\n",
       "      <td>0</td>\n",
       "      <td>4.459512</td>\n",
       "      <td>5.275143</td>\n",
       "      <td>195.418442</td>\n",
       "      <td>02:57</td>\n",
       "    </tr>\n",
       "    <tr>\n",
       "      <td>1</td>\n",
       "      <td>4.067909</td>\n",
       "      <td>5.327661</td>\n",
       "      <td>205.955582</td>\n",
       "      <td>02:58</td>\n",
       "    </tr>\n",
       "    <tr>\n",
       "      <td>2</td>\n",
       "      <td>3.193383</td>\n",
       "      <td>5.396924</td>\n",
       "      <td>220.726425</td>\n",
       "      <td>02:58</td>\n",
       "    </tr>\n",
       "    <tr>\n",
       "      <td>3</td>\n",
       "      <td>2.172849</td>\n",
       "      <td>5.460690</td>\n",
       "      <td>235.259583</td>\n",
       "      <td>02:58</td>\n",
       "    </tr>\n",
       "    <tr>\n",
       "      <td>4</td>\n",
       "      <td>1.458596</td>\n",
       "      <td>5.417713</td>\n",
       "      <td>225.363052</td>\n",
       "      <td>02:59</td>\n",
       "    </tr>\n",
       "  </tbody>\n",
       "</table>"
      ],
      "text/plain": [
       "<IPython.core.display.HTML object>"
      ]
     },
     "metadata": {},
     "output_type": "display_data"
    },
    {
     "data": {
      "image/png": "[encoded data removed]",
      "text/plain": [
       "<Figure size 432x288 with 1 Axes>"
      ]
     },
     "metadata": {
      "needs_background": "light"
     },
     "output_type": "display_data"
    }
   ],
   "source": [
    "class DropOutput(Callback):\n",
    "    def after_pred(self):\n",
    "        self.learn.pred = self.pred[0]\n",
    "        \n",
    "learn = Learner(dls, model, loss_func=CrossEntropyLossFlat(),\n",
    "                cbs=[DropOutput], metrics=Perplexity()).to_fp16()\n",
    "lr = learn.lr_find()\n",
    "print(lr)\n",
    "learn.fine_tune(5)"
   ]
  },
  {
   "cell_type": "code",
   "execution_count": 25,
   "id": "8d259a8e",
   "metadata": {},
   "outputs": [
    {
     "data": {
      "text/plain": [
       "'우리는 살면서 아주 당연하게 생각하고 있는 것들이 있습니다. 하지만 익숙함에 속아 소중함을 잊지 말자 라는 말이 있듯이 저는 이 말을 떠올려 볼때마다 항상 머릿속에 되새김질하면서 살고 있기에 그 강아지에게 귀하고 또 다른 방식으로 생각을 해보았습니다. 그래서 제가 생각하는 미래도시에는 환경오염이 더 심해지고 있고 그로 인해 해수면이 상승하여 육지 도시에서 살 것 같습니다 그리고 바다에 도시가 발달하면 바다 생물들과 함께 살아가는 세상이 올것같고 우리가 사는 도시를 만들면 해양 도시도 만들어질거 같고 로봇들이 많이 만들어 질수도 있을꺼 같아서 기분이 좋을 거 같다. 나는 미래에 해저도시가 건설되면 잠수'"
      ]
     },
     "execution_count": 25,
     "metadata": {},
     "output_type": "execute_result"
    }
   ],
   "source": [
    "prompt=\"우리는 살면서 아주 당연하게 생각하고 있는 것들이 있습니다.\"\n",
    "prompt_ids = tokenizer.encode(prompt)\n",
    "inp = tensor(prompt_ids)[None].cuda()\n",
    "preds = learn.model.generate(inp,\n",
    "                           max_length=128,\n",
    "                           pad_token_id=tokenizer.pad_token_id,\n",
    "                           eos_token_id=tokenizer.eos_token_id,\n",
    "                           bos_token_id=tokenizer.bos_token_id,\n",
    "                           repetition_penalty=2.0,       \n",
    "                           use_cache=True\n",
    "                          ) \n",
    "tokenizer.decode(preds[0].cpu().numpy())"
   ]
  },
  {
   "cell_type": "code",
   "execution_count": 28,
   "id": "2cf211a2",
   "metadata": {},
   "outputs": [],
   "source": [
    "import pickle\n",
    "\n",
    "with open('writing_model.pkl', 'wb') as file:\n",
    "    pickle.dump(learn, file)"
   ]
  }
 ],
 "metadata": {
  "kernelspec": {
   "display_name": "Python 3 (ipykernel)",
   "language": "python",
   "name": "python3"
  },
  "language_info": {
   "codemirror_mode": {
    "name": "ipython",
    "version": 3
   },
   "file_extension": ".py",
   "mimetype": "text/x-python",
   "name": "python",
   "nbconvert_exporter": "python",
   "pygments_lexer": "ipython3",
   "version": "3.9.7"
  }
 },
 "nbformat": 4,
 "nbformat_minor": 5
}
