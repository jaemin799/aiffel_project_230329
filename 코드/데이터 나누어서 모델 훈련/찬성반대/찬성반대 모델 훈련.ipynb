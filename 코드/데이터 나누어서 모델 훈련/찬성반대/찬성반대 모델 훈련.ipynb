{
 "cells": [
  {
   "cell_type": "markdown",
   "id": "fe8e3fa6",
   "metadata": {},
   "source": [
    "# 알집 풀기"
   ]
  },
  {
   "cell_type": "code",
   "execution_count": 1,
   "id": "d2cf4c64",
   "metadata": {},
   "outputs": [],
   "source": [
    "from zipfile import ZipFile\n",
    "\n",
    "with ZipFile('yes_or_no_train.zip', 'r') as zip:\n",
    "    zip.extractall(\"train\")"
   ]
  },
  {
   "cell_type": "code",
   "execution_count": 2,
   "id": "74c1ef49",
   "metadata": {},
   "outputs": [],
   "source": [
    "with ZipFile('yes_or_no_test.zip', 'r') as zip:\n",
    "    zip.extractall('test')"
   ]
  },
  {
   "cell_type": "markdown",
   "id": "870b880a",
   "metadata": {},
   "source": [
    "# 데이터 불러오기"
   ]
  },
  {
   "cell_type": "code",
   "execution_count": 4,
   "id": "8117bc24",
   "metadata": {},
   "outputs": [
    {
     "name": "stdout",
     "output_type": "stream",
     "text": [
      "['/aiffel/aiffel/aiffel_project/yes_or_no/train/┬∙╝║╣▌┤δ/┬∙╝║╣▌┤δ_┴▀╡ε_3╟╨│Γ_ESSAY_82563.json', '/aiffel/aiffel/aiffel_project/yes_or_no/train/┬∙╝║╣▌┤δ/┬∙╝║╣▌┤δ_┴▀╡ε_1╟╨│Γ_ESSAY_66466.json', '/aiffel/aiffel/aiffel_project/yes_or_no/train/┬∙╝║╣▌┤δ/┬∙╝║╣▌┤δ_┴▀╡ε_1╟╨│Γ_ESSAY_69607.json', '/aiffel/aiffel/aiffel_project/yes_or_no/train/┬∙╝║╣▌┤δ/┬∙╝║╣▌┤δ_┴▀╡ε_2╟╨│Γ_ESSAY_81475.json', '/aiffel/aiffel/aiffel_project/yes_or_no/train/┬∙╝║╣▌┤δ/┬∙╝║╣▌┤δ_┴▀╡ε_2╟╨│Γ_ESSAY_74288.json', '/aiffel/aiffel/aiffel_project/yes_or_no/train/┬∙╝║╣▌┤δ/┬∙╝║╣▌┤δ_┴▀╡ε_2╟╨│Γ_ESSAY_35299.json', '/aiffel/aiffel/aiffel_project/yes_or_no/train/┬∙╝║╣▌┤δ/┬∙╝║╣▌┤δ_┴▀╡ε_1╟╨│Γ_ESSAY_69362.json', '/aiffel/aiffel/aiffel_project/yes_or_no/train/┬∙╝║╣▌┤δ/┬∙╝║╣▌┤δ_┴▀╡ε_3╟╨│Γ_ESSAY_59120.json', '/aiffel/aiffel/aiffel_project/yes_or_no/train/┬∙╝║╣▌┤δ/┬∙╝║╣▌┤δ_░φ╡ε_1╟╨│Γ_ESSAY_71369.json', '/aiffel/aiffel/aiffel_project/yes_or_no/train/┬∙╝║╣▌┤δ/┬∙╝║╣▌┤δ_┴▀╡ε_3╟╨│Γ_ESSAY_59274.json']\n"
     ]
    }
   ],
   "source": [
    "import os\n",
    "import glob\n",
    "\n",
    "train_dir = os.getenv(\"HOME\") + '/aiffel/aiffel_project/yes_or_no/train/┬∙╝║╣▌┤δ/*'\n",
    "train_list = glob.glob(train_dir)\n",
    "\n",
    "print(train_list[:10])"
   ]
  },
  {
   "cell_type": "code",
   "execution_count": 5,
   "id": "90e7dd37",
   "metadata": {},
   "outputs": [
    {
     "name": "stdout",
     "output_type": "stream",
     "text": [
      "['/aiffel/aiffel/aiffel_project/yes_or_no/test/┬∙╝║╣▌┤δ/┬∙╝║╣▌┤δ_┴▀╡ε_3╟╨│Γ_ESSAY_72972.json', '/aiffel/aiffel/aiffel_project/yes_or_no/test/┬∙╝║╣▌┤δ/┬∙╝║╣▌┤δ_░φ╡ε_2╟╨│Γ_ESSAY_86610.json', '/aiffel/aiffel/aiffel_project/yes_or_no/test/┬∙╝║╣▌┤δ/┬∙╝║╣▌┤δ_░φ╡ε_1╟╨│Γ_ESSAY_76758.json', '/aiffel/aiffel/aiffel_project/yes_or_no/test/┬∙╝║╣▌┤δ/┬∙╝║╣▌┤δ_┴▀╡ε_3╟╨│Γ_ESSAY_82641.json', '/aiffel/aiffel/aiffel_project/yes_or_no/test/┬∙╝║╣▌┤δ/┬∙╝║╣▌┤δ_┴▀╡ε_2╟╨│Γ_ESSAY_32861.json', '/aiffel/aiffel/aiffel_project/yes_or_no/test/┬∙╝║╣▌┤δ/┬∙╝║╣▌┤δ_░φ╡ε_1╟╨│Γ_ESSAY_78468.json', '/aiffel/aiffel/aiffel_project/yes_or_no/test/┬∙╝║╣▌┤δ/┬∙╝║╣▌┤δ_┴▀╡ε_1╟╨│Γ_ESSAY_65895.json', '/aiffel/aiffel/aiffel_project/yes_or_no/test/┬∙╝║╣▌┤δ/┬∙╝║╣▌┤δ_┴▀╡ε_1╟╨│Γ_ESSAY_33483.json', '/aiffel/aiffel/aiffel_project/yes_or_no/test/┬∙╝║╣▌┤δ/┬∙╝║╣▌┤δ_┴▀╡ε_3╟╨│Γ_ESSAY_85338.json', '/aiffel/aiffel/aiffel_project/yes_or_no/test/┬∙╝║╣▌┤δ/┬∙╝║╣▌┤δ_░φ╡ε_2╟╨│Γ_ESSAY_86229.json']\n"
     ]
    }
   ],
   "source": [
    "test_dir = os.getenv('HOME') + '/aiffel/aiffel_project/yes_or_no/test/┬∙╝║╣▌┤δ/*'\n",
    "test_list = glob.glob(test_dir)\n",
    "\n",
    "print(test_list[:10])"
   ]
  },
  {
   "cell_type": "markdown",
   "id": "c78d4dc7",
   "metadata": {},
   "source": [
    "# 데이터 전처리"
   ]
  },
  {
   "cell_type": "code",
   "execution_count": 7,
   "id": "7391f3b8",
   "metadata": {},
   "outputs": [],
   "source": [
    "import json\n",
    "\n",
    "corpus = []\n",
    "\n",
    "for file in train_list:\n",
    "    with open(file, 'r') as f:\n",
    "        json_file = json.load(f)\n",
    "        only_txt = json_file['essay_txt']\n",
    "        only_txt = only_txt.replace(\"#@문장구분#\", \"\")\n",
    "        only_txt = only_txt.replace(\"\\b\", \"\")\n",
    "        only_txt = only_txt.replace(\"\\n\", \"\")\n",
    "        corpus.append(only_txt)\n",
    "        train_data = ' '.join(map(str, corpus))"
   ]
  },
  {
   "cell_type": "code",
   "execution_count": 8,
   "id": "9d126519",
   "metadata": {},
   "outputs": [
    {
     "name": "stdout",
     "output_type": "stream",
     "text": [
      "저는 동물사육을 법\n"
     ]
    }
   ],
   "source": [
    "print(train_data[:10])"
   ]
  },
  {
   "cell_type": "code",
   "execution_count": 9,
   "id": "fdcd04d1",
   "metadata": {},
   "outputs": [],
   "source": [
    "corpus = []\n",
    "\n",
    "for file in test_list:\n",
    "    with open(file, 'r') as f:\n",
    "        json_file = json.load(f)\n",
    "        only_txt = json_file['essay_txt']\n",
    "        only_txt = only_txt.replace(\"#@문장구분#\", \"\")\n",
    "        only_txt = only_txt.replace(\"\\b\", \"\")\n",
    "        only_txt = only_txt.replace(\"\\n\", \"\")\n",
    "        corpus.append(only_txt)\n",
    "        test_data = ' '.join(map(str, corpus))"
   ]
  },
  {
   "cell_type": "code",
   "execution_count": 10,
   "id": "d9b38565",
   "metadata": {},
   "outputs": [
    {
     "data": {
      "text/plain": [
       "'나는 공동주택에서 '"
      ]
     },
     "execution_count": 10,
     "metadata": {},
     "output_type": "execute_result"
    }
   ],
   "source": [
    "test_data[:10]"
   ]
  },
  {
   "cell_type": "code",
   "execution_count": 21,
   "id": "23f3d703",
   "metadata": {},
   "outputs": [
    {
     "data": {
      "text/plain": [
       "'나는 공동주택에서 반려동물을 키우는 것을 금지하는 법은 불필요하다고 생각한다. 이미 반려동물은 우리를 해치지 못하게 할 안전장치가 잘 되어있다. 예전에는 사람들이 물리거나 해코지를 당하는 경우가 왕왕존재했지만, 요즘은 입마개를 하고, 목줄을 차지 않으면 나갈 수 없도록 만들어놓았기 때문에 상관없다고 생각한다. 많은 사람들이 개에 공포증을 가지고 있기 때문에 이런 법을 제정해야한다는 의견도 있다. 하지만, 나는 이 주장이 굉장히 터무니없다고 생각한다. 물이 무서우면 물 근처에 안가면 된다고 생각한다. 대부분의 견주들을 정말 사랑하는 개가 사람을 다치게 하는 것을 원치 않기 때문에 대부분 정말 조심한다. 상대방이 개를 무서워할 것이라는 무지에서 비롯되었어도 대부분 이야기하면 강아지를 들어올려주시거나 엘레베이터의 경우에는 먼저 올라가라고 배려해주시는 경우가 굉장히 많다. 나는 이처럼 본인이 의사를 더 확실하게 표현할 필요도 있다고 생각한다. 견주와 강아지는 사람들과 어울려 살기 위한 필사적인 노력을 하고 있다. 불편한 부분도 감수해가면서 말이다. 하지만, 왜 다른 사람들을 노력하지 않고 불평불만만 하는가. 물이 무서우면 물 근처에 안가면 되고, 개가 무서우면 개 근처에 안가면 된다. 이처럼 나는 사람들이 무작정 개가 무섭다는 이유로 공동주택에서 개를 쫓아낼 것이 아니라, 함께 개선하고자 하는 노력을 해야한다고 생각한다. 반려동물은 동물이기 전에 사람들에게 너무나도 소중한 가족구성원이다. 나는 이처럼 조금 더 서로서로 배려해가며 좋은 가족을 꾸려나갔으면 좋겠다고 생각하는 입장이다.'"
      ]
     },
     "execution_count": 21,
     "metadata": {},
     "output_type": "execute_result"
    }
   ],
   "source": [
    "corpus[0]"
   ]
  },
  {
   "cell_type": "markdown",
   "id": "f8f3f136",
   "metadata": {},
   "source": [
    "# 프리트레인 모델 불러오기"
   ]
  },
  {
   "cell_type": "code",
   "execution_count": 14,
   "id": "fdf158c7",
   "metadata": {},
   "outputs": [
    {
     "name": "stderr",
     "output_type": "stream",
     "text": [
      "The tokenizer class you load from this checkpoint is not the same type as the class this function is called from. It may result in unexpected tokenization. \n",
      "The tokenizer class you load from this checkpoint is 'GPT2Tokenizer'. \n",
      "The class this function is called from is 'PreTrainedTokenizerFast'.\n",
      "/opt/conda/lib/python3.9/site-packages/transformers/models/auto/modeling_auto.py:660: FutureWarning: The class `AutoModelWithLMHead` is deprecated and will be removed in a future version. Please use `AutoModelForCausalLM` for causal language models, `AutoModelForMaskedLM` for masked language models and `AutoModelForSeq2SeqLM` for encoder-decoder models.\n",
      "  warnings.warn(\n"
     ]
    }
   ],
   "source": [
    "from transformers import PreTrainedTokenizerFast, AutoModelWithLMHead\n",
    "\n",
    "tokenizer = PreTrainedTokenizerFast.from_pretrained(\"skt/kogpt2-base-v2\",\n",
    "                                                   bos_token = '</s>',\n",
    "                                                   eos_token = '</s>',\n",
    "                                                   unk_token = '<unk>',\n",
    "                                                   pad_token = '<pad>',\n",
    "                                                   mask_token = '<mask>')\n",
    "model = AutoModelWithLMHead.from_pretrained(\"skt/kogpt2-base-v2\")"
   ]
  },
  {
   "cell_type": "markdown",
   "id": "05fd0992",
   "metadata": {},
   "source": [
    "# 토큰화"
   ]
  },
  {
   "cell_type": "code",
   "execution_count": 11,
   "id": "9282fd7d",
   "metadata": {},
   "outputs": [
    {
     "name": "stdout",
     "output_type": "stream",
     "text": [
      "Requirement already satisfied: fastai in /opt/conda/lib/python3.9/site-packages (2.7.11)\n",
      "Requirement already satisfied: scikit-learn in /opt/conda/lib/python3.9/site-packages (from fastai) (1.0)\n",
      "Requirement already satisfied: fastcore<1.6,>=1.4.5 in /opt/conda/lib/python3.9/site-packages (from fastai) (1.5.28)\n",
      "Requirement already satisfied: pandas in /opt/conda/lib/python3.9/site-packages (from fastai) (1.3.3)\n",
      "Requirement already satisfied: matplotlib in /opt/conda/lib/python3.9/site-packages (from fastai) (3.4.3)\n",
      "Requirement already satisfied: requests in /opt/conda/lib/python3.9/site-packages (from fastai) (2.26.0)\n",
      "Requirement already satisfied: scipy in /opt/conda/lib/python3.9/site-packages (from fastai) (1.7.1)\n",
      "Requirement already satisfied: torch<1.14,>=1.7 in /opt/conda/lib/python3.9/site-packages (from fastai) (1.9.1+cu111)\n",
      "Requirement already satisfied: fastprogress>=0.2.4 in /opt/conda/lib/python3.9/site-packages (from fastai) (1.0.3)\n",
      "Requirement already satisfied: spacy<4 in /opt/conda/lib/python3.9/site-packages (from fastai) (3.5.1)\n",
      "Requirement already satisfied: pip in /opt/conda/lib/python3.9/site-packages (from fastai) (21.3.1)\n",
      "Requirement already satisfied: fastdownload<2,>=0.0.5 in /opt/conda/lib/python3.9/site-packages (from fastai) (0.0.7)\n",
      "Requirement already satisfied: packaging in /opt/conda/lib/python3.9/site-packages (from fastai) (21.3)\n",
      "Requirement already satisfied: torchvision>=0.8.2 in /opt/conda/lib/python3.9/site-packages (from fastai) (0.10.1+cu111)\n",
      "Requirement already satisfied: pyyaml in /opt/conda/lib/python3.9/site-packages (from fastai) (6.0)\n",
      "Requirement already satisfied: pillow>6.0.0 in /opt/conda/lib/python3.9/site-packages (from fastai) (8.3.2)\n",
      "Requirement already satisfied: srsly<3.0.0,>=2.4.3 in /opt/conda/lib/python3.9/site-packages (from spacy<4->fastai) (2.4.6)\n",
      "Requirement already satisfied: langcodes<4.0.0,>=3.2.0 in /opt/conda/lib/python3.9/site-packages (from spacy<4->fastai) (3.3.0)\n",
      "Requirement already satisfied: murmurhash<1.1.0,>=0.28.0 in /opt/conda/lib/python3.9/site-packages (from spacy<4->fastai) (1.0.9)\n",
      "Requirement already satisfied: smart-open<7.0.0,>=5.2.1 in /opt/conda/lib/python3.9/site-packages (from spacy<4->fastai) (5.2.1)\n",
      "Requirement already satisfied: numpy>=1.15.0 in /opt/conda/lib/python3.9/site-packages (from spacy<4->fastai) (1.21.4)\n",
      "Requirement already satisfied: setuptools in /opt/conda/lib/python3.9/site-packages (from spacy<4->fastai) (59.4.0)\n",
      "Requirement already satisfied: cymem<2.1.0,>=2.0.2 in /opt/conda/lib/python3.9/site-packages (from spacy<4->fastai) (2.0.7)\n",
      "Requirement already satisfied: catalogue<2.1.0,>=2.0.6 in /opt/conda/lib/python3.9/site-packages (from spacy<4->fastai) (2.0.8)\n",
      "Requirement already satisfied: spacy-loggers<2.0.0,>=1.0.0 in /opt/conda/lib/python3.9/site-packages (from spacy<4->fastai) (1.0.4)\n",
      "Requirement already satisfied: spacy-legacy<3.1.0,>=3.0.11 in /opt/conda/lib/python3.9/site-packages (from spacy<4->fastai) (3.0.12)\n",
      "Requirement already satisfied: preshed<3.1.0,>=3.0.2 in /opt/conda/lib/python3.9/site-packages (from spacy<4->fastai) (3.0.8)\n",
      "Requirement already satisfied: thinc<8.2.0,>=8.1.8 in /opt/conda/lib/python3.9/site-packages (from spacy<4->fastai) (8.1.9)\n",
      "Requirement already satisfied: pathy>=0.10.0 in /opt/conda/lib/python3.9/site-packages (from spacy<4->fastai) (0.10.1)\n",
      "Requirement already satisfied: typer<0.8.0,>=0.3.0 in /opt/conda/lib/python3.9/site-packages (from spacy<4->fastai) (0.7.0)\n",
      "Requirement already satisfied: tqdm<5.0.0,>=4.38.0 in /opt/conda/lib/python3.9/site-packages (from spacy<4->fastai) (4.62.3)\n",
      "Requirement already satisfied: jinja2 in /opt/conda/lib/python3.9/site-packages (from spacy<4->fastai) (3.0.3)\n",
      "Requirement already satisfied: pydantic!=1.8,!=1.8.1,<1.11.0,>=1.7.4 in /opt/conda/lib/python3.9/site-packages (from spacy<4->fastai) (1.10.7)\n",
      "Requirement already satisfied: wasabi<1.2.0,>=0.9.1 in /opt/conda/lib/python3.9/site-packages (from spacy<4->fastai) (1.1.1)\n",
      "Requirement already satisfied: pyparsing!=3.0.5,>=2.0.2 in /opt/conda/lib/python3.9/site-packages (from packaging->fastai) (3.0.6)\n",
      "Requirement already satisfied: certifi>=2017.4.17 in /opt/conda/lib/python3.9/site-packages (from requests->fastai) (2021.10.8)\n",
      "Requirement already satisfied: urllib3<1.27,>=1.21.1 in /opt/conda/lib/python3.9/site-packages (from requests->fastai) (1.26.7)\n",
      "Requirement already satisfied: idna<4,>=2.5 in /opt/conda/lib/python3.9/site-packages (from requests->fastai) (2.10)\n",
      "Requirement already satisfied: charset-normalizer~=2.0.0 in /opt/conda/lib/python3.9/site-packages (from requests->fastai) (2.0.8)\n",
      "Requirement already satisfied: typing-extensions in /opt/conda/lib/python3.9/site-packages (from torch<1.14,>=1.7->fastai) (4.5.0)\n",
      "Requirement already satisfied: python-dateutil>=2.7 in /opt/conda/lib/python3.9/site-packages (from matplotlib->fastai) (2.8.2)\n",
      "Requirement already satisfied: cycler>=0.10 in /opt/conda/lib/python3.9/site-packages (from matplotlib->fastai) (0.11.0)\n",
      "Requirement already satisfied: kiwisolver>=1.0.1 in /opt/conda/lib/python3.9/site-packages (from matplotlib->fastai) (1.3.2)\n",
      "Requirement already satisfied: pytz>=2017.3 in /opt/conda/lib/python3.9/site-packages (from pandas->fastai) (2021.3)\n",
      "Requirement already satisfied: joblib>=0.11 in /opt/conda/lib/python3.9/site-packages (from scikit-learn->fastai) (1.1.0)\n",
      "Requirement already satisfied: threadpoolctl>=2.0.0 in /opt/conda/lib/python3.9/site-packages (from scikit-learn->fastai) (3.0.0)\n",
      "Requirement already satisfied: six>=1.5 in /opt/conda/lib/python3.9/site-packages (from python-dateutil>=2.7->matplotlib->fastai) (1.16.0)\n",
      "Requirement already satisfied: blis<0.8.0,>=0.7.8 in /opt/conda/lib/python3.9/site-packages (from thinc<8.2.0,>=8.1.8->spacy<4->fastai) (0.7.9)\n",
      "Requirement already satisfied: confection<1.0.0,>=0.0.1 in /opt/conda/lib/python3.9/site-packages (from thinc<8.2.0,>=8.1.8->spacy<4->fastai) (0.0.4)\n",
      "Requirement already satisfied: click<9.0.0,>=7.1.1 in /opt/conda/lib/python3.9/site-packages (from typer<0.8.0,>=0.3.0->spacy<4->fastai) (8.0.3)\n",
      "Requirement already satisfied: MarkupSafe>=2.0 in /opt/conda/lib/python3.9/site-packages (from jinja2->spacy<4->fastai) (2.0.1)\n",
      "\u001b[33mWARNING: Running pip as the 'root' user can result in broken permissions and conflicting behaviour with the system package manager. It is recommended to use a virtual environment instead: https://pip.pypa.io/warnings/venv\u001b[0m\n"
     ]
    }
   ],
   "source": [
    "!pip install fastai"
   ]
  },
  {
   "cell_type": "code",
   "execution_count": 12,
   "id": "727a4798",
   "metadata": {},
   "outputs": [],
   "source": [
    "import fastai\n",
    "from fastai.text.all import *\n",
    "import torch"
   ]
  },
  {
   "cell_type": "code",
   "execution_count": 13,
   "id": "14229d0b",
   "metadata": {},
   "outputs": [],
   "source": [
    "class TransformersTokenizer(Transform):\n",
    "    def __init__(self, tokenizer):\n",
    "        self.tokenizer = tokenizer\n",
    "        \n",
    "    def encodes(self, x):\n",
    "        toks = self.tokenizer.tokenize(x)\n",
    "        return tensor(self.tokenizer.convert_tokens_to_ids(toks))\n",
    "    \n",
    "    def decodes(self, x):\n",
    "        return TitledStr(self.tokenizer.decode(x.cpu().numpy()))"
   ]
  },
  {
   "cell_type": "code",
   "execution_count": 15,
   "id": "ba77262f",
   "metadata": {},
   "outputs": [],
   "source": [
    "splits = [[0], [1]]\n",
    "tls = TfmdLists([train_data, test_data], TransformersTokenizer(tokenizer), splits=splits,\n",
    "               dl_type=LMDataLoader)\n",
    "batch, seq_len = 8, 256\n",
    "dls = tls.dataloaders(bs=batch, seq_len=seq_len)"
   ]
  },
  {
   "cell_type": "markdown",
   "id": "494514ad",
   "metadata": {},
   "source": [
    "# 모델 학습"
   ]
  },
  {
   "cell_type": "code",
   "execution_count": 20,
   "id": "daae4040",
   "metadata": {},
   "outputs": [
    {
     "data": {
      "text/html": [
       "\n",
       "<style>\n",
       "    /* Turns off some styling */\n",
       "    progress {\n",
       "        /* gets rid of default border in Firefox and Opera. */\n",
       "        border: none;\n",
       "        /* Needs to be in here for Safari polyfill so background images work as expected. */\n",
       "        background-size: auto;\n",
       "    }\n",
       "    progress:not([value]), progress:not([value])::-webkit-progress-bar {\n",
       "        background: repeating-linear-gradient(45deg, #7e7e7e, #7e7e7e 10px, #5c5c5c 10px, #5c5c5c 20px);\n",
       "    }\n",
       "    .progress-bar-interrupted, .progress-bar-interrupted::-webkit-progress-bar {\n",
       "        background: #F44336;\n",
       "    }\n",
       "</style>\n"
      ],
      "text/plain": [
       "<IPython.core.display.HTML object>"
      ]
     },
     "metadata": {},
     "output_type": "display_data"
    },
    {
     "data": {
      "text/html": [],
      "text/plain": [
       "<IPython.core.display.HTML object>"
      ]
     },
     "metadata": {},
     "output_type": "display_data"
    },
    {
     "name": "stdout",
     "output_type": "stream",
     "text": [
      "SuggestedLRs(valley=1.737800812406931e-05)\n"
     ]
    },
    {
     "data": {
      "text/html": [
       "\n",
       "<style>\n",
       "    /* Turns off some styling */\n",
       "    progress {\n",
       "        /* gets rid of default border in Firefox and Opera. */\n",
       "        border: none;\n",
       "        /* Needs to be in here for Safari polyfill so background images work as expected. */\n",
       "        background-size: auto;\n",
       "    }\n",
       "    progress:not([value]), progress:not([value])::-webkit-progress-bar {\n",
       "        background: repeating-linear-gradient(45deg, #7e7e7e, #7e7e7e 10px, #5c5c5c 10px, #5c5c5c 20px);\n",
       "    }\n",
       "    .progress-bar-interrupted, .progress-bar-interrupted::-webkit-progress-bar {\n",
       "        background: #F44336;\n",
       "    }\n",
       "</style>\n"
      ],
      "text/plain": [
       "<IPython.core.display.HTML object>"
      ]
     },
     "metadata": {},
     "output_type": "display_data"
    },
    {
     "data": {
      "text/html": [
       "<table border=\"1\" class=\"dataframe\">\n",
       "  <thead>\n",
       "    <tr style=\"text-align: left;\">\n",
       "      <th>epoch</th>\n",
       "      <th>train_loss</th>\n",
       "      <th>valid_loss</th>\n",
       "      <th>perplexity</th>\n",
       "      <th>time</th>\n",
       "    </tr>\n",
       "  </thead>\n",
       "  <tbody>\n",
       "    <tr>\n",
       "      <td>0</td>\n",
       "      <td>4.953885</td>\n",
       "      <td>5.052677</td>\n",
       "      <td>156.440643</td>\n",
       "      <td>03:02</td>\n",
       "    </tr>\n",
       "  </tbody>\n",
       "</table>"
      ],
      "text/plain": [
       "<IPython.core.display.HTML object>"
      ]
     },
     "metadata": {},
     "output_type": "display_data"
    },
    {
     "data": {
      "text/html": [
       "\n",
       "<style>\n",
       "    /* Turns off some styling */\n",
       "    progress {\n",
       "        /* gets rid of default border in Firefox and Opera. */\n",
       "        border: none;\n",
       "        /* Needs to be in here for Safari polyfill so background images work as expected. */\n",
       "        background-size: auto;\n",
       "    }\n",
       "    progress:not([value]), progress:not([value])::-webkit-progress-bar {\n",
       "        background: repeating-linear-gradient(45deg, #7e7e7e, #7e7e7e 10px, #5c5c5c 10px, #5c5c5c 20px);\n",
       "    }\n",
       "    .progress-bar-interrupted, .progress-bar-interrupted::-webkit-progress-bar {\n",
       "        background: #F44336;\n",
       "    }\n",
       "</style>\n"
      ],
      "text/plain": [
       "<IPython.core.display.HTML object>"
      ]
     },
     "metadata": {},
     "output_type": "display_data"
    },
    {
     "data": {
      "text/html": [
       "<table border=\"1\" class=\"dataframe\">\n",
       "  <thead>\n",
       "    <tr style=\"text-align: left;\">\n",
       "      <th>epoch</th>\n",
       "      <th>train_loss</th>\n",
       "      <th>valid_loss</th>\n",
       "      <th>perplexity</th>\n",
       "      <th>time</th>\n",
       "    </tr>\n",
       "  </thead>\n",
       "  <tbody>\n",
       "    <tr>\n",
       "      <td>0</td>\n",
       "      <td>3.777644</td>\n",
       "      <td>4.524324</td>\n",
       "      <td>92.233597</td>\n",
       "      <td>03:02</td>\n",
       "    </tr>\n",
       "    <tr>\n",
       "      <td>1</td>\n",
       "      <td>3.505942</td>\n",
       "      <td>4.533819</td>\n",
       "      <td>93.113457</td>\n",
       "      <td>03:02</td>\n",
       "    </tr>\n",
       "    <tr>\n",
       "      <td>2</td>\n",
       "      <td>2.804885</td>\n",
       "      <td>4.501006</td>\n",
       "      <td>90.107704</td>\n",
       "      <td>03:02</td>\n",
       "    </tr>\n",
       "    <tr>\n",
       "      <td>3</td>\n",
       "      <td>1.950737</td>\n",
       "      <td>4.532462</td>\n",
       "      <td>92.987183</td>\n",
       "      <td>03:02</td>\n",
       "    </tr>\n",
       "    <tr>\n",
       "      <td>4</td>\n",
       "      <td>1.340574</td>\n",
       "      <td>4.544481</td>\n",
       "      <td>94.111549</td>\n",
       "      <td>03:02</td>\n",
       "    </tr>\n",
       "  </tbody>\n",
       "</table>"
      ],
      "text/plain": [
       "<IPython.core.display.HTML object>"
      ]
     },
     "metadata": {},
     "output_type": "display_data"
    },
    {
     "data": {
      "image/png": "[encoded data removed]",
      "text/plain": [
       "<Figure size 432x288 with 1 Axes>"
      ]
     },
     "metadata": {
      "needs_background": "light"
     },
     "output_type": "display_data"
    }
   ],
   "source": [
    "class DropOutput(Callback):\n",
    "    def after_pred(self):\n",
    "        self.learn.pred = learn.pred[0]\n",
    "    \n",
    "learn = Learner(dls, model, loss_func=CrossEntropyLossFlat(), cbs=[DropOutput],\n",
    "                metrics=Perplexity()).to_fp16()\n",
    "lr = learn.lr_find()\n",
    "print(lr)\n",
    "learn.fine_tune(5)"
   ]
  },
  {
   "cell_type": "markdown",
   "id": "75f5f3a2",
   "metadata": {},
   "source": [
    "# 문장생성"
   ]
  },
  {
   "cell_type": "code",
   "execution_count": 24,
   "id": "cd6ede9a",
   "metadata": {},
   "outputs": [
    {
     "name": "stdout",
     "output_type": "stream",
     "text": [
      "나는 공동주택에서 반려동물을 키우는 것을 금지하는 법은 불필요하다고 생각한다. 물론 동물을 싫어하는 사람이 있다면 동물들을 좋아하지 않거나 무서워하는 사람들은 피해를 입을 수 있다. 하지만 이러한 방법은 제시문에 나온 것처럼 인증제도 자격증 제도와 같은 것들이 많다. 그리고 이 제도를 통해 자신이 살고 있는 지역에만 골라낸다면 더 좋을 것 같다. 저는 카피레프트 운동에 대해 찬성합니다. 왜냐하면 저작권을 공유하게 되면 그 사람의 권리를 보장해주어야 한다고 생각하게 됩니다. 예를 들어 어떤사람이 자신의 창작물을 허락없이 마음대로 사용하게 되어도 안된다고 합니다. 그런데 그런걸 악용해서 도움을 요청한다면 그것을 만든 사람은 매우 화가 날 것입니다. 그래서 만약에 이런 상황이 발생\n"
     ]
    }
   ],
   "source": [
    "prompt = \"나는 공동주택에서 반려동물을 키우는 것을 금지하는 법은 불필요하다고 생각한다.\"\n",
    "prompt_ids = tokenizer.encode(prompt)\n",
    "inp = tensor(prompt_ids)[None].cuda()\n",
    "preds = learn.model.generate(inp,\n",
    "                            max_length=128,\n",
    "                            pad_token_id=tokenizer.pad_token_id,\n",
    "                            eos_token_id=tokenizer.eos_token_id,\n",
    "                            bos_token_id=tokenizer.bos_token_id,\n",
    "                            repetition_penalty=2.0,\n",
    "                            use_cache=True)\n",
    "src_input = tokenizer.decode(preds[0].cpu().numpy())\n",
    "print(src_input)"
   ]
  },
  {
   "cell_type": "markdown",
   "id": "9bb94c0f",
   "metadata": {},
   "source": [
    "# bleu  score"
   ]
  },
  {
   "cell_type": "code",
   "execution_count": 25,
   "id": "24712467",
   "metadata": {},
   "outputs": [
    {
     "name": "stdout",
     "output_type": "stream",
     "text": [
      "huggingface/tokenizers: The current process just got forked, after parallelism has already been used. Disabling parallelism to avoid deadlocks...\n",
      "To disable this warning, you can either:\n",
      "\t- Avoid using `tokenizers` before the fork if possible\n",
      "\t- Explicitly set the environment variable TOKENIZERS_PARALLELISM=(true | false)\n",
      "Requirement already satisfied: datasets in /opt/conda/lib/python3.9/site-packages (1.14.0)\n",
      "Requirement already satisfied: dill in /opt/conda/lib/python3.9/site-packages (from datasets) (0.3.4)\n",
      "Requirement already satisfied: tqdm>=4.62.1 in /opt/conda/lib/python3.9/site-packages (from datasets) (4.62.3)\n",
      "Requirement already satisfied: pandas in /opt/conda/lib/python3.9/site-packages (from datasets) (1.3.3)\n",
      "Requirement already satisfied: multiprocess in /opt/conda/lib/python3.9/site-packages (from datasets) (0.70.12.2)\n",
      "Requirement already satisfied: numpy>=1.17 in /opt/conda/lib/python3.9/site-packages (from datasets) (1.21.4)\n",
      "Requirement already satisfied: requests>=2.19.0 in /opt/conda/lib/python3.9/site-packages (from datasets) (2.26.0)\n",
      "Requirement already satisfied: fsspec[http]>=2021.05.0 in /opt/conda/lib/python3.9/site-packages (from datasets) (2021.11.1)\n",
      "Requirement already satisfied: huggingface-hub<0.1.0,>=0.0.19 in /opt/conda/lib/python3.9/site-packages (from datasets) (0.0.19)\n",
      "Requirement already satisfied: pyarrow!=4.0.0,>=1.0.0 in /opt/conda/lib/python3.9/site-packages (from datasets) (6.0.1)\n",
      "Requirement already satisfied: packaging in /opt/conda/lib/python3.9/site-packages (from datasets) (21.3)\n",
      "Requirement already satisfied: xxhash in /opt/conda/lib/python3.9/site-packages (from datasets) (2.0.2)\n",
      "Requirement already satisfied: aiohttp in /opt/conda/lib/python3.9/site-packages (from datasets) (3.8.1)\n",
      "Requirement already satisfied: pyyaml in /opt/conda/lib/python3.9/site-packages (from huggingface-hub<0.1.0,>=0.0.19->datasets) (6.0)\n",
      "Requirement already satisfied: filelock in /opt/conda/lib/python3.9/site-packages (from huggingface-hub<0.1.0,>=0.0.19->datasets) (3.4.0)\n",
      "Requirement already satisfied: typing-extensions in /opt/conda/lib/python3.9/site-packages (from huggingface-hub<0.1.0,>=0.0.19->datasets) (4.5.0)\n",
      "Requirement already satisfied: pyparsing!=3.0.5,>=2.0.2 in /opt/conda/lib/python3.9/site-packages (from packaging->datasets) (3.0.6)\n",
      "Requirement already satisfied: charset-normalizer~=2.0.0 in /opt/conda/lib/python3.9/site-packages (from requests>=2.19.0->datasets) (2.0.8)\n",
      "Requirement already satisfied: idna<4,>=2.5 in /opt/conda/lib/python3.9/site-packages (from requests>=2.19.0->datasets) (2.10)\n",
      "Requirement already satisfied: certifi>=2017.4.17 in /opt/conda/lib/python3.9/site-packages (from requests>=2.19.0->datasets) (2021.10.8)\n",
      "Requirement already satisfied: urllib3<1.27,>=1.21.1 in /opt/conda/lib/python3.9/site-packages (from requests>=2.19.0->datasets) (1.26.7)\n",
      "Requirement already satisfied: frozenlist>=1.1.1 in /opt/conda/lib/python3.9/site-packages (from aiohttp->datasets) (1.2.0)\n",
      "Requirement already satisfied: multidict<7.0,>=4.5 in /opt/conda/lib/python3.9/site-packages (from aiohttp->datasets) (5.2.0)\n",
      "Requirement already satisfied: aiosignal>=1.1.2 in /opt/conda/lib/python3.9/site-packages (from aiohttp->datasets) (1.2.0)\n",
      "Requirement already satisfied: async-timeout<5.0,>=4.0.0a3 in /opt/conda/lib/python3.9/site-packages (from aiohttp->datasets) (4.0.1)\n",
      "Requirement already satisfied: attrs>=17.3.0 in /opt/conda/lib/python3.9/site-packages (from aiohttp->datasets) (21.2.0)\n",
      "Requirement already satisfied: yarl<2.0,>=1.0 in /opt/conda/lib/python3.9/site-packages (from aiohttp->datasets) (1.7.2)\n",
      "Requirement already satisfied: python-dateutil>=2.7.3 in /opt/conda/lib/python3.9/site-packages (from pandas->datasets) (2.8.2)\n",
      "Requirement already satisfied: pytz>=2017.3 in /opt/conda/lib/python3.9/site-packages (from pandas->datasets) (2021.3)\n",
      "Requirement already satisfied: six>=1.5 in /opt/conda/lib/python3.9/site-packages (from python-dateutil>=2.7.3->pandas->datasets) (1.16.0)\n",
      "\u001b[33mWARNING: Running pip as the 'root' user can result in broken permissions and conflicting behaviour with the system package manager. It is recommended to use a virtual environment instead: https://pip.pypa.io/warnings/venv\u001b[0m\n"
     ]
    }
   ],
   "source": [
    "!pip install datasets"
   ]
  },
  {
   "cell_type": "code",
   "execution_count": 26,
   "id": "6d1bf2ae",
   "metadata": {},
   "outputs": [],
   "source": [
    "from datasets import load_metric"
   ]
  },
  {
   "cell_type": "code",
   "execution_count": 27,
   "id": "dcc95746",
   "metadata": {},
   "outputs": [
    {
     "name": "stdout",
     "output_type": "stream",
     "text": [
      "huggingface/tokenizers: The current process just got forked, after parallelism has already been used. Disabling parallelism to avoid deadlocks...\n",
      "To disable this warning, you can either:\n",
      "\t- Avoid using `tokenizers` before the fork if possible\n",
      "\t- Explicitly set the environment variable TOKENIZERS_PARALLELISM=(true | false)\n",
      "Collecting sacrebleu\n",
      "  Downloading sacrebleu-2.3.1-py3-none-any.whl (118 kB)\n",
      "     |████████████████████████████████| 118 kB 6.0 MB/s            \n",
      "\u001b[?25hRequirement already satisfied: numpy>=1.17 in /opt/conda/lib/python3.9/site-packages (from sacrebleu) (1.21.4)\n",
      "Requirement already satisfied: portalocker in /opt/conda/lib/python3.9/site-packages (from sacrebleu) (2.3.2)\n",
      "Requirement already satisfied: tabulate>=0.8.9 in /opt/conda/lib/python3.9/site-packages (from sacrebleu) (0.8.9)\n",
      "Requirement already satisfied: colorama in /opt/conda/lib/python3.9/site-packages (from sacrebleu) (0.4.4)\n",
      "Requirement already satisfied: lxml in /opt/conda/lib/python3.9/site-packages (from sacrebleu) (4.6.3)\n",
      "Requirement already satisfied: regex in /opt/conda/lib/python3.9/site-packages (from sacrebleu) (2021.11.10)\n",
      "Installing collected packages: sacrebleu\n",
      "Successfully installed sacrebleu-2.3.1\n",
      "\u001b[33mWARNING: Running pip as the 'root' user can result in broken permissions and conflicting behaviour with the system package manager. It is recommended to use a virtual environment instead: https://pip.pypa.io/warnings/venv\u001b[0m\n"
     ]
    }
   ],
   "source": [
    "!pip install sacrebleu"
   ]
  },
  {
   "cell_type": "code",
   "execution_count": 28,
   "id": "4d134ec7",
   "metadata": {},
   "outputs": [],
   "source": [
    "import pandas as pd\n",
    "import numpy as np"
   ]
  },
  {
   "cell_type": "code",
   "execution_count": 29,
   "id": "d739c2a9",
   "metadata": {},
   "outputs": [],
   "source": [
    "reference = [\"나는 공동주택에서 반려동물을 키우는 것을 금지하는 법은 불필요하다고 생각한다. 이미 반려동물은 우리를 해치지 못하게 할 안전장치가 잘 되어있다. 예전에는 사람들이 물리거나 해코지를 당하는 경우가 왕왕존재했지만, 요즘은 입마개를 하고, 목줄을 차지 않으면 나갈 수 없도록 만들어놓았기 때문에 상관없다고 생각한다. 많은 사람들이 개에 공포증을 가지고 있기 때문에 이런 법을 제정해야한다는 의견도 있다. 하지만, 나는 이 주장이 굉장히 터무니없다고 생각한다. 물이 무서우면 물 근처에 안가면 된다고 생각한다. 대부분의 견주들을 정말 사랑하는 개가 사람을 다치게 하는 것을 원치 않기 때문에 대부분 정말 조심한다. 상대방이 개를 무서워할 것이라는 무지에서 비롯되었어도 대부분 이야기하면 강아지를 들어올려주시거나 엘레베이터의 경우에는 먼저 올라가라고 배려해주시는 경우가 굉장히 많다. 나는 이처럼 본인이 의사를 더 확실하게 표현할 필요도 있다고 생각한다. 견주와 강아지는 사람들과 어울려 살기 위한 필사적인 노력을 하고 있다. 불편한 부분도 감수해가면서 말이다. 하지만, 왜 다른 사람들을 노력하지 않고 불평불만만 하는가. 물이 무서우면 물 근처에 안가면 되고, 개가 무서우면 개 근처에 안가면 된다. 이처럼 나는 사람들이 무작정 개가 무섭다는 이유로 공동주택에서 개를 쫓아낼 것이 아니라, 함께 개선하고자 하는 노력을 해야한다고 생각한다. 반려동물은 동물이기 전에 사람들에게 너무나도 소중한 가족구성원이다. 나는 이처럼 조금 더 서로서로 배려해가며 좋은 가족을 꾸려나갔으면 좋겠다고 생각하는 입장이다.\"]"
   ]
  },
  {
   "cell_type": "code",
   "execution_count": 30,
   "id": "112d8c10",
   "metadata": {},
   "outputs": [
    {
     "data": {
      "application/vnd.jupyter.widget-view+json": {
       "model_id": "659a384455614fd08d6326d548fd1913",
       "version_major": 2,
       "version_minor": 0
      },
      "text/plain": [
       "Downloading:   0%|          | 0.00/2.37k [00:00<?, ?B/s]"
      ]
     },
     "metadata": {},
     "output_type": "display_data"
    }
   ],
   "source": [
    "bleu_metric = load_metric('sacrebleu')"
   ]
  },
  {
   "cell_type": "code",
   "execution_count": 31,
   "id": "4d849b89",
   "metadata": {},
   "outputs": [],
   "source": [
    "bleu_metric.add(\n",
    "    prediction=src_input, reference=reference)"
   ]
  },
  {
   "cell_type": "code",
   "execution_count": 32,
   "id": "27705a4d",
   "metadata": {},
   "outputs": [],
   "source": [
    "results = bleu_metric.compute(smooth_method='floor', smooth_value=0)"
   ]
  },
  {
   "cell_type": "code",
   "execution_count": 33,
   "id": "01ffeafd",
   "metadata": {},
   "outputs": [],
   "source": [
    "results['precisions'] = [np.round(p, 2) for p in results['precisions']]"
   ]
  },
  {
   "cell_type": "code",
   "execution_count": 34,
   "id": "b65230bd",
   "metadata": {},
   "outputs": [
    {
     "data": {
      "text/html": [
       "<div>\n",
       "<style scoped>\n",
       "    .dataframe tbody tr th:only-of-type {\n",
       "        vertical-align: middle;\n",
       "    }\n",
       "\n",
       "    .dataframe tbody tr th {\n",
       "        vertical-align: top;\n",
       "    }\n",
       "\n",
       "    .dataframe thead th {\n",
       "        text-align: right;\n",
       "    }\n",
       "</style>\n",
       "<table border=\"1\" class=\"dataframe\">\n",
       "  <thead>\n",
       "    <tr style=\"text-align: right;\">\n",
       "      <th></th>\n",
       "      <th>Value</th>\n",
       "    </tr>\n",
       "  </thead>\n",
       "  <tbody>\n",
       "    <tr>\n",
       "      <th>score</th>\n",
       "      <td>4.334914</td>\n",
       "    </tr>\n",
       "    <tr>\n",
       "      <th>counts</th>\n",
       "      <td>[24, 12, 9, 7]</td>\n",
       "    </tr>\n",
       "    <tr>\n",
       "      <th>totals</th>\n",
       "      <td>[100, 99, 98, 97]</td>\n",
       "    </tr>\n",
       "    <tr>\n",
       "      <th>precisions</th>\n",
       "      <td>[24.0, 12.12, 9.18, 7.22]</td>\n",
       "    </tr>\n",
       "    <tr>\n",
       "      <th>bp</th>\n",
       "      <td>0.367879</td>\n",
       "    </tr>\n",
       "    <tr>\n",
       "      <th>sys_len</th>\n",
       "      <td>100</td>\n",
       "    </tr>\n",
       "    <tr>\n",
       "      <th>ref_len</th>\n",
       "      <td>200</td>\n",
       "    </tr>\n",
       "  </tbody>\n",
       "</table>\n",
       "</div>"
      ],
      "text/plain": [
       "                                Value\n",
       "score                        4.334914\n",
       "counts                 [24, 12, 9, 7]\n",
       "totals              [100, 99, 98, 97]\n",
       "precisions  [24.0, 12.12, 9.18, 7.22]\n",
       "bp                           0.367879\n",
       "sys_len                           100\n",
       "ref_len                           200"
      ]
     },
     "execution_count": 34,
     "metadata": {},
     "output_type": "execute_result"
    }
   ],
   "source": [
    "pd.DataFrame.from_dict(results, orient='index', columns=['Value'])"
   ]
  },
  {
   "cell_type": "code",
   "execution_count": null,
   "id": "25d1b0b0",
   "metadata": {},
   "outputs": [],
   "source": []
  },
  {
   "cell_type": "code",
   "execution_count": null,
   "id": "e5c57d33",
   "metadata": {},
   "outputs": [],
   "source": []
  }
 ],
 "metadata": {
  "kernelspec": {
   "display_name": "Python 3 (ipykernel)",
   "language": "python",
   "name": "python3"
  },
  "language_info": {
   "codemirror_mode": {
    "name": "ipython",
    "version": 3
   },
   "file_extension": ".py",
   "mimetype": "text/x-python",
   "name": "python",
   "nbconvert_exporter": "python",
   "pygments_lexer": "ipython3",
   "version": "3.9.7"
  }
 },
 "nbformat": 4,
 "nbformat_minor": 5
}
