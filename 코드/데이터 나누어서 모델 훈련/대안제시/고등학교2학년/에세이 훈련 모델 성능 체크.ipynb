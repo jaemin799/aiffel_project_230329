{
 "cells": [
  {
   "cell_type": "markdown",
   "id": "416cbb42",
   "metadata": {},
   "source": [
    "# 알집 풀기"
   ]
  },
  {
   "cell_type": "code",
   "execution_count": 1,
   "id": "6c665513",
   "metadata": {},
   "outputs": [],
   "source": [
    "from zipfile import ZipFile"
   ]
  },
  {
   "cell_type": "code",
   "execution_count": 2,
   "id": "6bed5380",
   "metadata": {},
   "outputs": [],
   "source": [
    "with ZipFile('고등학교 2학년_훈련.zip') as zip:\n",
    "    zip.extractall(\"train\")"
   ]
  },
  {
   "cell_type": "code",
   "execution_count": 3,
   "id": "b8810a2e",
   "metadata": {},
   "outputs": [],
   "source": [
    "with ZipFile(\"고등학교 2학년_검증.zip\", \"r\") as zip:\n",
    "    zip.extractall(\"test\")"
   ]
  },
  {
   "cell_type": "markdown",
   "id": "94841ccd",
   "metadata": {},
   "source": [
    "# 데이터 불러오기"
   ]
  },
  {
   "cell_type": "code",
   "execution_count": 4,
   "id": "5c3d7d0d",
   "metadata": {},
   "outputs": [],
   "source": [
    "import os\n",
    "import glob"
   ]
  },
  {
   "cell_type": "code",
   "execution_count": 5,
   "id": "6f90c87f",
   "metadata": {},
   "outputs": [],
   "source": [
    "test_dir = os.getenv(\"HOME\") + '/aiffel/aiffel_project/Suggestion_of_alternative/part_model/고등학교 2학년/test/░φ╡ε╟╨▒│ 2╟╨│Γ/*'"
   ]
  },
  {
   "cell_type": "code",
   "execution_count": 6,
   "id": "2fd5b458",
   "metadata": {},
   "outputs": [],
   "source": [
    "test_list = glob.glob(test_dir)"
   ]
  },
  {
   "cell_type": "code",
   "execution_count": 7,
   "id": "79fe5591",
   "metadata": {},
   "outputs": [
    {
     "data": {
      "text/plain": [
       "['/aiffel/aiffel/aiffel_project/Suggestion_of_alternative/part_model/고등학교 2학년/test/░φ╡ε╟╨▒│ 2╟╨│Γ/┤δ╛╚┴ª╜├_░φ╡ε_2╟╨│Γ_ESSAY_86269.json',\n",
       " '/aiffel/aiffel/aiffel_project/Suggestion_of_alternative/part_model/고등학교 2학년/test/░φ╡ε╟╨▒│ 2╟╨│Γ/┤δ╛╚┴ª╜├_░φ╡ε_2╟╨│Γ_ESSAY_86500.json',\n",
       " '/aiffel/aiffel/aiffel_project/Suggestion_of_alternative/part_model/고등학교 2학년/test/░φ╡ε╟╨▒│ 2╟╨│Γ/┤δ╛╚┴ª╜├_░φ╡ε_2╟╨│Γ_ESSAY_86278.json',\n",
       " '/aiffel/aiffel/aiffel_project/Suggestion_of_alternative/part_model/고등학교 2학년/test/░φ╡ε╟╨▒│ 2╟╨│Γ/┤δ╛╚┴ª╜├_░φ╡ε_2╟╨│Γ_ESSAY_86288.json',\n",
       " '/aiffel/aiffel/aiffel_project/Suggestion_of_alternative/part_model/고등학교 2학년/test/░φ╡ε╟╨▒│ 2╟╨│Γ/┤δ╛╚┴ª╜├_░φ╡ε_2╟╨│Γ_ESSAY_86263.json',\n",
       " '/aiffel/aiffel/aiffel_project/Suggestion_of_alternative/part_model/고등학교 2학년/test/░φ╡ε╟╨▒│ 2╟╨│Γ/┤δ╛╚┴ª╜├_░φ╡ε_2╟╨│Γ_ESSAY_86450.json',\n",
       " '/aiffel/aiffel/aiffel_project/Suggestion_of_alternative/part_model/고등학교 2학년/test/░φ╡ε╟╨▒│ 2╟╨│Γ/┤δ╛╚┴ª╜├_░φ╡ε_2╟╨│Γ_ESSAY_86551.json',\n",
       " '/aiffel/aiffel/aiffel_project/Suggestion_of_alternative/part_model/고등학교 2학년/test/░φ╡ε╟╨▒│ 2╟╨│Γ/┤δ╛╚┴ª╜├_░φ╡ε_2╟╨│Γ_ESSAY_86524.json',\n",
       " '/aiffel/aiffel/aiffel_project/Suggestion_of_alternative/part_model/고등학교 2학년/test/░φ╡ε╟╨▒│ 2╟╨│Γ/┤δ╛╚┴ª╜├_░φ╡ε_2╟╨│Γ_ESSAY_86309.json',\n",
       " '/aiffel/aiffel/aiffel_project/Suggestion_of_alternative/part_model/고등학교 2학년/test/░φ╡ε╟╨▒│ 2╟╨│Γ/┤δ╛╚┴ª╜├_░φ╡ε_2╟╨│Γ_ESSAY_86481.json']"
      ]
     },
     "execution_count": 7,
     "metadata": {},
     "output_type": "execute_result"
    }
   ],
   "source": [
    "test_list[:10]"
   ]
  },
  {
   "cell_type": "code",
   "execution_count": 8,
   "id": "50c3b03e",
   "metadata": {},
   "outputs": [],
   "source": [
    "import json\n",
    "\n",
    "corpus = []\n",
    "\n",
    "for file in test_list:\n",
    "    with open(file, 'r') as f:\n",
    "        json_file = json.load(f)\n",
    "        only_txt = json_file['essay_txt']\n",
    "        only_txt = only_txt.replace('#@문장구분#', '')\n",
    "        only_txt = only_txt.replace('\\n', '')\n",
    "        only_txt = only_txt.replace('\\b', '')\n",
    "        corpus.append(only_txt)"
   ]
  },
  {
   "cell_type": "code",
   "execution_count": 9,
   "id": "5fe1afaf",
   "metadata": {},
   "outputs": [
    {
     "data": {
      "text/plain": [
       "'저는 장애인과 비장애인이 서로 같은 처지에 있는 사람이라고 생각합니다. 왜냐하면 장애인들도 감정이 있고 생각만 다를 뿐이지 그런 이유 때문에 차별받는 것은 불합리하다고 생각합니다. 우리도 한 순간에 장애인이 될 수도 있고 그리고 입장을 바꿔서 생각할 때 자신이 장애인이라는 그 이유로 차별을 받아야 하나?라고 생각합니다. 이런 부당한 이유로 사회적으로 차별받고 대우받지 못하는 사회의 인식을 개선해야 할 필요가 있다고 생각합니다. 장애인들도 친구들과 어울려서 이야기도 할 수 있고 게임도 같이 할 수 있는데 장애인이라는 이유만으로 차별하는 건 불합리하다고 생각합니다. 그래서 나는 장애인에 대한 인식을 개선하기 위해서는 일반사람들의 인식을 개선해야 한다고 생각합니다. 우선 자신도 어느 한 순간의 사고로 인해 장애인이 될 수 있기 때문에 장에 대한 생각을 계속 머릿속에 경각심을 심어주어야 한다고 생각합니다. 장애인들도 몸만 불편할 뿐이지 우리와 다르지 않은 사람이라는 생각을 계속 머릿속에 심어주는 것입니다. 계속 반복적으로 머릿속에 이러한 인식들을 심어주면 무의식적인 행동을 하더라도 장애인들을 배려해주는 행동을 하게 된다고 생각합니다. 또 장애인들에게도 교육하는 것이 저는 필요하다고 생각합니다. 장애인들은 자신이 가진 장애 때문에 행동 하나하나가 위축되어서 소심해지는 경향이 있습니다. 저는 장애인들이 위축되거나 소심해지지 않았으면 좋겠습니다. 그래서 장애인들에게 당당해지는 그런 교육을 하는 것이 필요하다고 생각합니다. 그리고 우리 일반인들에게도 교육이 필요하다고 생각한다고 합니다. 학교에서나 회사에서 계속해서 장애인들이 겪는 차별과 부당함에 대해 설명해주고 어떻게 하면 그러한 차별과 부당함을 없앨 수 있을지에 대해 토론을 해본다거나 해결책을 논의 해보는 것도 일종의 방법이라고 생각합니다. 따라서 우리는 누구도 평등하고 인간이 누려야 할 권리는 제한하지말고 누려야 한다고 생각합니다.'"
      ]
     },
     "execution_count": 9,
     "metadata": {},
     "output_type": "execute_result"
    }
   ],
   "source": [
    "corpus[0]"
   ]
  },
  {
   "cell_type": "code",
   "execution_count": null,
   "id": "056d80aa",
   "metadata": {},
   "outputs": [],
   "source": []
  },
  {
   "cell_type": "markdown",
   "id": "bdf6e792",
   "metadata": {},
   "source": [
    "# 프리트레인 토크나이저 불러오기"
   ]
  },
  {
   "cell_type": "code",
   "execution_count": 10,
   "id": "b858b833",
   "metadata": {},
   "outputs": [],
   "source": [
    "from transformers import PreTrainedTokenizerFast"
   ]
  },
  {
   "cell_type": "code",
   "execution_count": 11,
   "id": "7778530c",
   "metadata": {},
   "outputs": [
    {
     "name": "stderr",
     "output_type": "stream",
     "text": [
      "The tokenizer class you load from this checkpoint is not the same type as the class this function is called from. It may result in unexpected tokenization. \n",
      "The tokenizer class you load from this checkpoint is 'GPT2Tokenizer'. \n",
      "The class this function is called from is 'PreTrainedTokenizerFast'.\n"
     ]
    }
   ],
   "source": [
    "tokenizer = PreTrainedTokenizerFast.from_pretrained(\"skt/kogpt2-base-v2\",\n",
    "                                                   bod_token = '</s>',\n",
    "                                                   eos_token = '</s>',\n",
    "                                                   pad_token = '<pad>',\n",
    "                                                   unk_token = '<unk>',\n",
    "                                                   mask_token = '<mask>')"
   ]
  },
  {
   "cell_type": "markdown",
   "id": "d6d19f63",
   "metadata": {},
   "source": [
    "# 함수"
   ]
  },
  {
   "cell_type": "code",
   "execution_count": 12,
   "id": "1b637744",
   "metadata": {},
   "outputs": [
    {
     "name": "stdout",
     "output_type": "stream",
     "text": [
      "Requirement already satisfied: fastai in /opt/conda/lib/python3.9/site-packages (2.7.11)\n",
      "Requirement already satisfied: packaging in /opt/conda/lib/python3.9/site-packages (from fastai) (21.3)\n",
      "Requirement already satisfied: fastprogress>=0.2.4 in /opt/conda/lib/python3.9/site-packages (from fastai) (1.0.3)\n",
      "Requirement already satisfied: pandas in /opt/conda/lib/python3.9/site-packages (from fastai) (1.3.3)\n",
      "Requirement already satisfied: matplotlib in /opt/conda/lib/python3.9/site-packages (from fastai) (3.4.3)\n",
      "Requirement already satisfied: fastcore<1.6,>=1.4.5 in /opt/conda/lib/python3.9/site-packages (from fastai) (1.5.28)\n",
      "Requirement already satisfied: pyyaml in /opt/conda/lib/python3.9/site-packages (from fastai) (6.0)\n",
      "Requirement already satisfied: scikit-learn in /opt/conda/lib/python3.9/site-packages (from fastai) (1.0)\n",
      "Requirement already satisfied: scipy in /opt/conda/lib/python3.9/site-packages (from fastai) (1.7.1)\n",
      "Requirement already satisfied: pillow>6.0.0 in /opt/conda/lib/python3.9/site-packages (from fastai) (8.3.2)\n",
      "Requirement already satisfied: torch<1.14,>=1.7 in /opt/conda/lib/python3.9/site-packages (from fastai) (1.9.1+cu111)\n",
      "Requirement already satisfied: fastdownload<2,>=0.0.5 in /opt/conda/lib/python3.9/site-packages (from fastai) (0.0.7)\n",
      "Requirement already satisfied: requests in /opt/conda/lib/python3.9/site-packages (from fastai) (2.26.0)\n",
      "Requirement already satisfied: pip in /opt/conda/lib/python3.9/site-packages (from fastai) (21.3.1)\n",
      "Requirement already satisfied: spacy<4 in /opt/conda/lib/python3.9/site-packages (from fastai) (3.5.1)\n",
      "Requirement already satisfied: torchvision>=0.8.2 in /opt/conda/lib/python3.9/site-packages (from fastai) (0.10.1+cu111)\n",
      "Requirement already satisfied: pydantic!=1.8,!=1.8.1,<1.11.0,>=1.7.4 in /opt/conda/lib/python3.9/site-packages (from spacy<4->fastai) (1.10.7)\n",
      "Requirement already satisfied: typer<0.8.0,>=0.3.0 in /opt/conda/lib/python3.9/site-packages (from spacy<4->fastai) (0.7.0)\n",
      "Requirement already satisfied: jinja2 in /opt/conda/lib/python3.9/site-packages (from spacy<4->fastai) (3.0.3)\n",
      "Requirement already satisfied: smart-open<7.0.0,>=5.2.1 in /opt/conda/lib/python3.9/site-packages (from spacy<4->fastai) (5.2.1)\n",
      "Requirement already satisfied: cymem<2.1.0,>=2.0.2 in /opt/conda/lib/python3.9/site-packages (from spacy<4->fastai) (2.0.7)\n",
      "Requirement already satisfied: srsly<3.0.0,>=2.4.3 in /opt/conda/lib/python3.9/site-packages (from spacy<4->fastai) (2.4.6)\n",
      "Requirement already satisfied: murmurhash<1.1.0,>=0.28.0 in /opt/conda/lib/python3.9/site-packages (from spacy<4->fastai) (1.0.9)\n",
      "Requirement already satisfied: catalogue<2.1.0,>=2.0.6 in /opt/conda/lib/python3.9/site-packages (from spacy<4->fastai) (2.0.8)\n",
      "Requirement already satisfied: tqdm<5.0.0,>=4.38.0 in /opt/conda/lib/python3.9/site-packages (from spacy<4->fastai) (4.62.3)\n",
      "Requirement already satisfied: spacy-loggers<2.0.0,>=1.0.0 in /opt/conda/lib/python3.9/site-packages (from spacy<4->fastai) (1.0.4)\n",
      "Requirement already satisfied: preshed<3.1.0,>=3.0.2 in /opt/conda/lib/python3.9/site-packages (from spacy<4->fastai) (3.0.8)\n",
      "Requirement already satisfied: numpy>=1.15.0 in /opt/conda/lib/python3.9/site-packages (from spacy<4->fastai) (1.21.4)\n",
      "Requirement already satisfied: langcodes<4.0.0,>=3.2.0 in /opt/conda/lib/python3.9/site-packages (from spacy<4->fastai) (3.3.0)\n",
      "Requirement already satisfied: wasabi<1.2.0,>=0.9.1 in /opt/conda/lib/python3.9/site-packages (from spacy<4->fastai) (1.1.1)\n",
      "Requirement already satisfied: spacy-legacy<3.1.0,>=3.0.11 in /opt/conda/lib/python3.9/site-packages (from spacy<4->fastai) (3.0.12)\n",
      "Requirement already satisfied: thinc<8.2.0,>=8.1.8 in /opt/conda/lib/python3.9/site-packages (from spacy<4->fastai) (8.1.9)\n",
      "Requirement already satisfied: setuptools in /opt/conda/lib/python3.9/site-packages (from spacy<4->fastai) (59.4.0)\n",
      "Requirement already satisfied: pathy>=0.10.0 in /opt/conda/lib/python3.9/site-packages (from spacy<4->fastai) (0.10.1)\n",
      "Requirement already satisfied: pyparsing!=3.0.5,>=2.0.2 in /opt/conda/lib/python3.9/site-packages (from packaging->fastai) (3.0.6)\n",
      "Requirement already satisfied: idna<4,>=2.5 in /opt/conda/lib/python3.9/site-packages (from requests->fastai) (2.10)\n",
      "Requirement already satisfied: certifi>=2017.4.17 in /opt/conda/lib/python3.9/site-packages (from requests->fastai) (2021.10.8)\n",
      "Requirement already satisfied: urllib3<1.27,>=1.21.1 in /opt/conda/lib/python3.9/site-packages (from requests->fastai) (1.26.7)\n",
      "Requirement already satisfied: charset-normalizer~=2.0.0 in /opt/conda/lib/python3.9/site-packages (from requests->fastai) (2.0.8)\n",
      "Requirement already satisfied: typing-extensions in /opt/conda/lib/python3.9/site-packages (from torch<1.14,>=1.7->fastai) (4.5.0)\n",
      "Requirement already satisfied: kiwisolver>=1.0.1 in /opt/conda/lib/python3.9/site-packages (from matplotlib->fastai) (1.3.2)\n",
      "Requirement already satisfied: cycler>=0.10 in /opt/conda/lib/python3.9/site-packages (from matplotlib->fastai) (0.11.0)\n",
      "Requirement already satisfied: python-dateutil>=2.7 in /opt/conda/lib/python3.9/site-packages (from matplotlib->fastai) (2.8.2)\n",
      "Requirement already satisfied: pytz>=2017.3 in /opt/conda/lib/python3.9/site-packages (from pandas->fastai) (2021.3)\n",
      "Requirement already satisfied: joblib>=0.11 in /opt/conda/lib/python3.9/site-packages (from scikit-learn->fastai) (1.1.0)\n",
      "Requirement already satisfied: threadpoolctl>=2.0.0 in /opt/conda/lib/python3.9/site-packages (from scikit-learn->fastai) (3.0.0)\n",
      "Requirement already satisfied: six>=1.5 in /opt/conda/lib/python3.9/site-packages (from python-dateutil>=2.7->matplotlib->fastai) (1.16.0)\n",
      "Requirement already satisfied: blis<0.8.0,>=0.7.8 in /opt/conda/lib/python3.9/site-packages (from thinc<8.2.0,>=8.1.8->spacy<4->fastai) (0.7.9)\n",
      "Requirement already satisfied: confection<1.0.0,>=0.0.1 in /opt/conda/lib/python3.9/site-packages (from thinc<8.2.0,>=8.1.8->spacy<4->fastai) (0.0.4)\n",
      "Requirement already satisfied: click<9.0.0,>=7.1.1 in /opt/conda/lib/python3.9/site-packages (from typer<0.8.0,>=0.3.0->spacy<4->fastai) (8.0.3)\n",
      "Requirement already satisfied: MarkupSafe>=2.0 in /opt/conda/lib/python3.9/site-packages (from jinja2->spacy<4->fastai) (2.0.1)\n",
      "\u001b[33mWARNING: Running pip as the 'root' user can result in broken permissions and conflicting behaviour with the system package manager. It is recommended to use a virtual environment instead: https://pip.pypa.io/warnings/venv\u001b[0m\n"
     ]
    }
   ],
   "source": [
    "!pip install fastai"
   ]
  },
  {
   "cell_type": "code",
   "execution_count": 13,
   "id": "b209cdf4",
   "metadata": {},
   "outputs": [],
   "source": [
    "import fastai\n",
    "from fastai.text.all import *\n",
    "import torch"
   ]
  },
  {
   "cell_type": "code",
   "execution_count": 14,
   "id": "0c742222",
   "metadata": {},
   "outputs": [],
   "source": [
    "class TransformersTokenizer(Transform):\n",
    "    def __init__(self, tokenizer):\n",
    "        self.tokenizer = tokenizer\n",
    "    def encodes(self, x):\n",
    "        toks = self.tokenizer.tokenize(x)\n",
    "        return tensor(self.tokenizer.convert_tokens_to_ids(toks))\n",
    "    def decodes(self, x):\n",
    "        return TitledStr(self.tokenizer.decode(x.cpu().numpy()))"
   ]
  },
  {
   "cell_type": "code",
   "execution_count": 15,
   "id": "9971d810",
   "metadata": {},
   "outputs": [],
   "source": [
    "class DropOutput(Callback):\n",
    "    def after_pred(self):\n",
    "        self.learn.pred = pred[0]"
   ]
  },
  {
   "cell_type": "markdown",
   "id": "91662232",
   "metadata": {},
   "source": [
    "# 저장한 모델 불러오기"
   ]
  },
  {
   "cell_type": "code",
   "execution_count": 16,
   "id": "0e9b4a2c",
   "metadata": {},
   "outputs": [],
   "source": [
    "import pickle"
   ]
  },
  {
   "cell_type": "code",
   "execution_count": 25,
   "id": "dd8260af",
   "metadata": {},
   "outputs": [],
   "source": [
    "model_dir = os.getenv('HOME') + '/aiffel/aiffel_project/fianl_model_train_all_data/soa_model.pkl'"
   ]
  },
  {
   "cell_type": "code",
   "execution_count": 26,
   "id": "55674af0",
   "metadata": {},
   "outputs": [],
   "source": [
    "with open(model_dir, 'rb') as f:\n",
    "    model = pickle.load(f)"
   ]
  },
  {
   "cell_type": "code",
   "execution_count": 27,
   "id": "5ad389b2",
   "metadata": {},
   "outputs": [
    {
     "name": "stdout",
     "output_type": "stream",
     "text": [
      "저는 장애인과 비장애인이 서로 같은 처지에 있는 사람이라고 생각합니다. 그래서 그런지 더욱 더 마음이 편해지는 것 같습니다. 그리고 이런 사람들이 많아졌으면 좋겠고 우리도 같이 어울려 살 수 있었음 좋을것같다는 생각이 들었습니다.그리고 장애를 가진 사람들에 대한 인식을 바꿀수있을까요?  아직은 어렵다고 생각하고 있습니다. 하지만 장애인분들이 무조건 잘못되었다는 것을 알고 계신다면 그들도 옳지 않음을 알 것입니다. 그러니 우리는 먼저 다가가서 친하게 지내야 한다고 생각하는 것이 중요할 것이라고 생각을 합니다. 그래야만 우리가 함께 살아갈 때 좋은 결과가 나올 것이기 때문입니다. 나는 카피레프트 운동에 대해서 반대한다. 왜냐하면 사회적 자산을 기반으로 만들어진 것들은 저작권의 보호를 받을 권리가 있기 때문이다. 아무리 과거에 누군가 열심히 만든 것들을 다른 사람이 사용했다고 해도 그것을 아무런 대가 없이 무료로 사용하게 된다면, 그것은 제작자의 노력과 시간을 무시하는 것이다. 만약에 내가 창작물을 만들었는데 저작권 보호로 인해서 돈을 벌어야한다면 억울하다고 생각할 수도 있을 거 같다. 물론 모든 사람들에게 공유되는 것은 아니다. 그러나 개발자가 노력을 해서 만들어낸 결과물이기 때문에 그에 따른 보상을 주어야한다고 주장하는 사람들은 지식과 정보는 독점되어서는 안 되며 모두가 자유롭게 사용할 수가 있어야 한다. 그렇기 때문에, 이러한 권리를 보장해줘서야 많은 지식들을 얻을 필요가 있다. 그렇게 되면 지금\n"
     ]
    }
   ],
   "source": [
    "prompt = \"저는 장애인과 비장애인이 서로 같은 처지에 있는 사람이라고 생각합니다.\"\n",
    "prompt_ids = tokenizer.encode(prompt)\n",
    "inp = tensor(prompt_ids)[None].cuda()\n",
    "preds = model.generate(inp,\n",
    "                            max_length=250,\n",
    "                            pad_token_id=tokenizer.pad_token_id,\n",
    "                            eos_token_id=tokenizer.eos_token_id,\n",
    "                            bos_token_id=tokenizer.bos_token_id,\n",
    "                            repetition_penalty=2.0,\n",
    "                            use_cache=True)\n",
    "src_input = tokenizer.decode(preds[0].cpu().numpy())\n",
    "print(src_input)"
   ]
  },
  {
   "cell_type": "markdown",
   "id": "ec553221",
   "metadata": {},
   "source": [
    "# 블루 스코어"
   ]
  },
  {
   "cell_type": "code",
   "execution_count": 20,
   "id": "c7818e84",
   "metadata": {},
   "outputs": [
    {
     "name": "stdout",
     "output_type": "stream",
     "text": [
      "huggingface/tokenizers: The current process just got forked, after parallelism has already been used. Disabling parallelism to avoid deadlocks...\n",
      "To disable this warning, you can either:\n",
      "\t- Avoid using `tokenizers` before the fork if possible\n",
      "\t- Explicitly set the environment variable TOKENIZERS_PARALLELISM=(true | false)\n",
      "Requirement already satisfied: datasets in /opt/conda/lib/python3.9/site-packages (1.14.0)\n",
      "Requirement already satisfied: requests>=2.19.0 in /opt/conda/lib/python3.9/site-packages (from datasets) (2.26.0)\n",
      "Requirement already satisfied: xxhash in /opt/conda/lib/python3.9/site-packages (from datasets) (2.0.2)\n",
      "Requirement already satisfied: multiprocess in /opt/conda/lib/python3.9/site-packages (from datasets) (0.70.12.2)\n",
      "Requirement already satisfied: pandas in /opt/conda/lib/python3.9/site-packages (from datasets) (1.3.3)\n",
      "Requirement already satisfied: numpy>=1.17 in /opt/conda/lib/python3.9/site-packages (from datasets) (1.21.4)\n",
      "Requirement already satisfied: dill in /opt/conda/lib/python3.9/site-packages (from datasets) (0.3.4)\n",
      "Requirement already satisfied: aiohttp in /opt/conda/lib/python3.9/site-packages (from datasets) (3.8.1)\n",
      "Requirement already satisfied: huggingface-hub<0.1.0,>=0.0.19 in /opt/conda/lib/python3.9/site-packages (from datasets) (0.0.19)\n",
      "Requirement already satisfied: pyarrow!=4.0.0,>=1.0.0 in /opt/conda/lib/python3.9/site-packages (from datasets) (6.0.1)\n",
      "Requirement already satisfied: fsspec[http]>=2021.05.0 in /opt/conda/lib/python3.9/site-packages (from datasets) (2021.11.1)\n",
      "Requirement already satisfied: packaging in /opt/conda/lib/python3.9/site-packages (from datasets) (21.3)\n",
      "Requirement already satisfied: tqdm>=4.62.1 in /opt/conda/lib/python3.9/site-packages (from datasets) (4.62.3)\n",
      "Requirement already satisfied: filelock in /opt/conda/lib/python3.9/site-packages (from huggingface-hub<0.1.0,>=0.0.19->datasets) (3.4.0)\n",
      "Requirement already satisfied: typing-extensions in /opt/conda/lib/python3.9/site-packages (from huggingface-hub<0.1.0,>=0.0.19->datasets) (4.5.0)\n",
      "Requirement already satisfied: pyyaml in /opt/conda/lib/python3.9/site-packages (from huggingface-hub<0.1.0,>=0.0.19->datasets) (6.0)\n",
      "Requirement already satisfied: pyparsing!=3.0.5,>=2.0.2 in /opt/conda/lib/python3.9/site-packages (from packaging->datasets) (3.0.6)\n",
      "Requirement already satisfied: urllib3<1.27,>=1.21.1 in /opt/conda/lib/python3.9/site-packages (from requests>=2.19.0->datasets) (1.26.7)\n",
      "Requirement already satisfied: idna<4,>=2.5 in /opt/conda/lib/python3.9/site-packages (from requests>=2.19.0->datasets) (2.10)\n",
      "Requirement already satisfied: charset-normalizer~=2.0.0 in /opt/conda/lib/python3.9/site-packages (from requests>=2.19.0->datasets) (2.0.8)\n",
      "Requirement already satisfied: certifi>=2017.4.17 in /opt/conda/lib/python3.9/site-packages (from requests>=2.19.0->datasets) (2021.10.8)\n",
      "Requirement already satisfied: yarl<2.0,>=1.0 in /opt/conda/lib/python3.9/site-packages (from aiohttp->datasets) (1.7.2)\n",
      "Requirement already satisfied: frozenlist>=1.1.1 in /opt/conda/lib/python3.9/site-packages (from aiohttp->datasets) (1.2.0)\n",
      "Requirement already satisfied: attrs>=17.3.0 in /opt/conda/lib/python3.9/site-packages (from aiohttp->datasets) (21.2.0)\n",
      "Requirement already satisfied: aiosignal>=1.1.2 in /opt/conda/lib/python3.9/site-packages (from aiohttp->datasets) (1.2.0)\n",
      "Requirement already satisfied: async-timeout<5.0,>=4.0.0a3 in /opt/conda/lib/python3.9/site-packages (from aiohttp->datasets) (4.0.1)\n",
      "Requirement already satisfied: multidict<7.0,>=4.5 in /opt/conda/lib/python3.9/site-packages (from aiohttp->datasets) (5.2.0)\n",
      "Requirement already satisfied: python-dateutil>=2.7.3 in /opt/conda/lib/python3.9/site-packages (from pandas->datasets) (2.8.2)\n",
      "Requirement already satisfied: pytz>=2017.3 in /opt/conda/lib/python3.9/site-packages (from pandas->datasets) (2021.3)\n",
      "Requirement already satisfied: six>=1.5 in /opt/conda/lib/python3.9/site-packages (from python-dateutil>=2.7.3->pandas->datasets) (1.16.0)\n",
      "\u001b[33mWARNING: Running pip as the 'root' user can result in broken permissions and conflicting behaviour with the system package manager. It is recommended to use a virtual environment instead: https://pip.pypa.io/warnings/venv\u001b[0m\n"
     ]
    }
   ],
   "source": [
    "!pip install datasets"
   ]
  },
  {
   "cell_type": "code",
   "execution_count": 21,
   "id": "b76e5124",
   "metadata": {},
   "outputs": [
    {
     "name": "stdout",
     "output_type": "stream",
     "text": [
      "huggingface/tokenizers: The current process just got forked, after parallelism has already been used. Disabling parallelism to avoid deadlocks...\n",
      "To disable this warning, you can either:\n",
      "\t- Avoid using `tokenizers` before the fork if possible\n",
      "\t- Explicitly set the environment variable TOKENIZERS_PARALLELISM=(true | false)\n",
      "Requirement already satisfied: sacrebleu in /opt/conda/lib/python3.9/site-packages (2.3.1)\n",
      "Requirement already satisfied: colorama in /opt/conda/lib/python3.9/site-packages (from sacrebleu) (0.4.4)\n",
      "Requirement already satisfied: lxml in /opt/conda/lib/python3.9/site-packages (from sacrebleu) (4.6.3)\n",
      "Requirement already satisfied: portalocker in /opt/conda/lib/python3.9/site-packages (from sacrebleu) (2.3.2)\n",
      "Requirement already satisfied: tabulate>=0.8.9 in /opt/conda/lib/python3.9/site-packages (from sacrebleu) (0.8.9)\n",
      "Requirement already satisfied: regex in /opt/conda/lib/python3.9/site-packages (from sacrebleu) (2021.11.10)\n",
      "Requirement already satisfied: numpy>=1.17 in /opt/conda/lib/python3.9/site-packages (from sacrebleu) (1.21.4)\n",
      "\u001b[33mWARNING: Running pip as the 'root' user can result in broken permissions and conflicting behaviour with the system package manager. It is recommended to use a virtual environment instead: https://pip.pypa.io/warnings/venv\u001b[0m\n"
     ]
    }
   ],
   "source": [
    "!pip install sacrebleu"
   ]
  },
  {
   "cell_type": "code",
   "execution_count": 22,
   "id": "f12118ef",
   "metadata": {},
   "outputs": [],
   "source": [
    "from datasets import load_metric\n",
    "import pandas as pd\n",
    "import numpy as np"
   ]
  },
  {
   "cell_type": "code",
   "execution_count": 23,
   "id": "2a5a7ae5",
   "metadata": {},
   "outputs": [],
   "source": [
    "reference=[\"\"\"저는 장애인과 비장애인이 서로 같은 처지에 있는 사람이라고 생각합니다. 왜냐하면 장애인들도 감정이 있고 생각만 다를 뿐이지 그런 이유 때문에 차별받는 것은 불합리하다고 생각합니다. 우리도 한 순간에 장애인이 될 수도 있고 그리고 입장을 바꿔서 생각할 때 자신이 장애인이라는 그 이유로 차별을 받아야 하나?라고 생각합니다. 이런 부당한 이유로 사회적으로 차별받고 대우받지 못하는 사회의 인식을 개선해야 할 필요가 있다고 생각합니다. 장애인들도 친구들과 어울려서 이야기도 할 수 있고 게임도 같이 할 수 있는데 장애인이라는 이유만으로 차별하는 건 불합리하다고 생각합니다. 그래서 나는 장애인에 대한 인식을 개선하기 위해서는 일반사람들의 인식을 개선해야 한다고 생각합니다. 우선 자신도 어느 한 순간의 사고로 인해 장애인이 될 수 있기 때문에 장에 대한 생각을 계속 머릿속에 경각심을 심어주어야 한다고 생각합니다. 장애인들도 몸만 불편할 뿐이지 우리와 다르지 않은 사람이라는 생각을 계속 머릿속에 심어주는 것입니다. 계속 반복적으로 머릿속에 이러한 인식들을 심어주면 무의식적인 행동을 하더라도 장애인들을 배려해주는 행동을 하게 된다고 생각합니다. 또 장애인들에게도 교육하는 것이 저는 필요하다고 생각합니다. 장애인들은 자신이 가진 장애 때문에 행동 하나하나가 위축되어서 소심해지는 경향이 있습니다. 저는 장애인들이 위축되거나 소심해지지 않았으면 좋겠습니다. 그래서 장애인들에게 당당해지는 그런 교육을 하는 것이 필요하다고 생각합니다. 그리고 우리 일반인들에게도 교육이 필요하다고 생각한다고 합니다. 학교에서나 회사에서 계속해서 장애인들이 겪는 차별과 부당함에 대해 설명해주고 어떻게 하면 그러한 차별과 부당함을 없앨 수 있을지에 대해 토론을 해본다거나 해결책을 논의 해보는 것도 일종의 방법이라고 생각합니다. 따라서 우리는 누구도 평등하고 인간이 누려야 할 권리는 제한하지말고 누려야 한다고 생각합니다.\"\"\"]"
   ]
  },
  {
   "cell_type": "code",
   "execution_count": 28,
   "id": "e8ecbea7",
   "metadata": {},
   "outputs": [
    {
     "data": {
      "text/html": [
       "<div>\n",
       "<style scoped>\n",
       "    .dataframe tbody tr th:only-of-type {\n",
       "        vertical-align: middle;\n",
       "    }\n",
       "\n",
       "    .dataframe tbody tr th {\n",
       "        vertical-align: top;\n",
       "    }\n",
       "\n",
       "    .dataframe thead th {\n",
       "        text-align: right;\n",
       "    }\n",
       "</style>\n",
       "<table border=\"1\" class=\"dataframe\">\n",
       "  <thead>\n",
       "    <tr style=\"text-align: right;\">\n",
       "      <th></th>\n",
       "      <th>Value</th>\n",
       "    </tr>\n",
       "  </thead>\n",
       "  <tbody>\n",
       "    <tr>\n",
       "      <th>score</th>\n",
       "      <td>6.415618</td>\n",
       "    </tr>\n",
       "    <tr>\n",
       "      <th>counts</th>\n",
       "      <td>[52, 16, 9, 7]</td>\n",
       "    </tr>\n",
       "    <tr>\n",
       "      <th>totals</th>\n",
       "      <td>[192, 191, 190, 189]</td>\n",
       "    </tr>\n",
       "    <tr>\n",
       "      <th>precisions</th>\n",
       "      <td>[27.08, 8.38, 4.74, 3.7]</td>\n",
       "    </tr>\n",
       "    <tr>\n",
       "      <th>bp</th>\n",
       "      <td>0.807719</td>\n",
       "    </tr>\n",
       "    <tr>\n",
       "      <th>sys_len</th>\n",
       "      <td>192</td>\n",
       "    </tr>\n",
       "    <tr>\n",
       "      <th>ref_len</th>\n",
       "      <td>233</td>\n",
       "    </tr>\n",
       "  </tbody>\n",
       "</table>\n",
       "</div>"
      ],
      "text/plain": [
       "                               Value\n",
       "score                       6.415618\n",
       "counts                [52, 16, 9, 7]\n",
       "totals          [192, 191, 190, 189]\n",
       "precisions  [27.08, 8.38, 4.74, 3.7]\n",
       "bp                          0.807719\n",
       "sys_len                          192\n",
       "ref_len                          233"
      ]
     },
     "execution_count": 28,
     "metadata": {},
     "output_type": "execute_result"
    }
   ],
   "source": [
    "bleu_metric = load_metric(\"sacrebleu\")\n",
    "\n",
    "bleu_metric.add(\n",
    "    prediction=src_input, reference=reference)\n",
    "results = bleu_metric.compute(smooth_method=\"floor\", smooth_value=0)\n",
    "results[\"precisions\"] = [np.round(p, 2) for p in results[\"precisions\"]]\n",
    "pd.DataFrame.from_dict(results, orient=\"index\", columns=[\"Value\"])"
   ]
  }
 ],
 "metadata": {
  "kernelspec": {
   "display_name": "Python 3 (ipykernel)",
   "language": "python",
   "name": "python3"
  },
  "language_info": {
   "codemirror_mode": {
    "name": "ipython",
    "version": 3
   },
   "file_extension": ".py",
   "mimetype": "text/x-python",
   "name": "python",
   "nbconvert_exporter": "python",
   "pygments_lexer": "ipython3",
   "version": "3.9.7"
  }
 },
 "nbformat": 4,
 "nbformat_minor": 5
}
