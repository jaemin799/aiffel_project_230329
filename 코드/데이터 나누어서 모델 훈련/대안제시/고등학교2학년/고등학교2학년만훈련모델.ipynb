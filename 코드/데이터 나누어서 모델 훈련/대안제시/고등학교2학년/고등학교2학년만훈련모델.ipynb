{
 "cells": [
  {
   "cell_type": "markdown",
   "id": "b21faa45",
   "metadata": {},
   "source": [
    "# 데이터 불러오기"
   ]
  },
  {
   "cell_type": "code",
   "execution_count": 1,
   "id": "cccf4aa3",
   "metadata": {},
   "outputs": [],
   "source": [
    "import os\n",
    "import glob"
   ]
  },
  {
   "cell_type": "code",
   "execution_count": 2,
   "id": "ac794c5e",
   "metadata": {},
   "outputs": [],
   "source": [
    "train_dir = os.getenv(\"HOME\") + '/aiffel/aiffel_project/Suggestion_of_alternative/part_model/고등학교 2학년/train/░φ╡ε╟╨▒│ 2╟╨│Γ/*'"
   ]
  },
  {
   "cell_type": "code",
   "execution_count": 3,
   "id": "9e2da484",
   "metadata": {},
   "outputs": [],
   "source": [
    "train_list = glob.glob(train_dir)"
   ]
  },
  {
   "cell_type": "code",
   "execution_count": 4,
   "id": "990e8ee6",
   "metadata": {},
   "outputs": [
    {
     "data": {
      "text/plain": [
       "['/aiffel/aiffel/aiffel_project/Suggestion_of_alternative/part_model/고등학교 2학년/train/░φ╡ε╟╨▒│ 2╟╨│Γ/┤δ╛╚┴ª╜├_░φ╡ε_2╟╨│Γ_ESSAY_80880.json',\n",
       " '/aiffel/aiffel/aiffel_project/Suggestion_of_alternative/part_model/고등학교 2학년/train/░φ╡ε╟╨▒│ 2╟╨│Γ/┤δ╛╚┴ª╜├_░φ╡ε_2╟╨│Γ_ESSAY_77304.json',\n",
       " '/aiffel/aiffel/aiffel_project/Suggestion_of_alternative/part_model/고등학교 2학년/train/░φ╡ε╟╨▒│ 2╟╨│Γ/┤δ╛╚┴ª╜├_░φ╡ε_2╟╨│Γ_ESSAY_38804.json',\n",
       " '/aiffel/aiffel/aiffel_project/Suggestion_of_alternative/part_model/고등학교 2학년/train/░φ╡ε╟╨▒│ 2╟╨│Γ/┤δ╛╚┴ª╜├_░φ╡ε_2╟╨│Γ_ESSAY_77350.json',\n",
       " '/aiffel/aiffel/aiffel_project/Suggestion_of_alternative/part_model/고등학교 2학년/train/░φ╡ε╟╨▒│ 2╟╨│Γ/┤δ╛╚┴ª╜├_░φ╡ε_2╟╨│Γ_ESSAY_77312.json',\n",
       " '/aiffel/aiffel/aiffel_project/Suggestion_of_alternative/part_model/고등학교 2학년/train/░φ╡ε╟╨▒│ 2╟╨│Γ/┤δ╛╚┴ª╜├_░φ╡ε_2╟╨│Γ_ESSAY_83548.json',\n",
       " '/aiffel/aiffel/aiffel_project/Suggestion_of_alternative/part_model/고등학교 2학년/train/░φ╡ε╟╨▒│ 2╟╨│Γ/┤δ╛╚┴ª╜├_░φ╡ε_2╟╨│Γ_ESSAY_83560.json',\n",
       " '/aiffel/aiffel/aiffel_project/Suggestion_of_alternative/part_model/고등학교 2학년/train/░φ╡ε╟╨▒│ 2╟╨│Γ/┤δ╛╚┴ª╜├_░φ╡ε_2╟╨│Γ_ESSAY_81248.json',\n",
       " '/aiffel/aiffel/aiffel_project/Suggestion_of_alternative/part_model/고등학교 2학년/train/░φ╡ε╟╨▒│ 2╟╨│Γ/┤δ╛╚┴ª╜├_░φ╡ε_2╟╨│Γ_ESSAY_80887.json',\n",
       " '/aiffel/aiffel/aiffel_project/Suggestion_of_alternative/part_model/고등학교 2학년/train/░φ╡ε╟╨▒│ 2╟╨│Γ/┤δ╛╚┴ª╜├_░φ╡ε_2╟╨│Γ_ESSAY_37944.json']"
      ]
     },
     "execution_count": 4,
     "metadata": {},
     "output_type": "execute_result"
    }
   ],
   "source": [
    "train_list[:10]"
   ]
  },
  {
   "cell_type": "code",
   "execution_count": 5,
   "id": "18a4e7d4",
   "metadata": {},
   "outputs": [],
   "source": [
    "test_dir = os.getenv(\"HOME\") + '/aiffel/aiffel_project/Suggestion_of_alternative/part_model/고등학교 2학년/test/░φ╡ε╟╨▒│ 2╟╨│Γ/*'"
   ]
  },
  {
   "cell_type": "code",
   "execution_count": 6,
   "id": "600d77f9",
   "metadata": {},
   "outputs": [],
   "source": [
    "test_list = glob.glob(test_dir)"
   ]
  },
  {
   "cell_type": "code",
   "execution_count": 7,
   "id": "25dbb3ac",
   "metadata": {},
   "outputs": [
    {
     "data": {
      "text/plain": [
       "['/aiffel/aiffel/aiffel_project/Suggestion_of_alternative/part_model/고등학교 2학년/test/░φ╡ε╟╨▒│ 2╟╨│Γ/┤δ╛╚┴ª╜├_░φ╡ε_2╟╨│Γ_ESSAY_86269.json',\n",
       " '/aiffel/aiffel/aiffel_project/Suggestion_of_alternative/part_model/고등학교 2학년/test/░φ╡ε╟╨▒│ 2╟╨│Γ/┤δ╛╚┴ª╜├_░φ╡ε_2╟╨│Γ_ESSAY_86500.json',\n",
       " '/aiffel/aiffel/aiffel_project/Suggestion_of_alternative/part_model/고등학교 2학년/test/░φ╡ε╟╨▒│ 2╟╨│Γ/┤δ╛╚┴ª╜├_░φ╡ε_2╟╨│Γ_ESSAY_86278.json',\n",
       " '/aiffel/aiffel/aiffel_project/Suggestion_of_alternative/part_model/고등학교 2학년/test/░φ╡ε╟╨▒│ 2╟╨│Γ/┤δ╛╚┴ª╜├_░φ╡ε_2╟╨│Γ_ESSAY_86288.json',\n",
       " '/aiffel/aiffel/aiffel_project/Suggestion_of_alternative/part_model/고등학교 2학년/test/░φ╡ε╟╨▒│ 2╟╨│Γ/┤δ╛╚┴ª╜├_░φ╡ε_2╟╨│Γ_ESSAY_86263.json',\n",
       " '/aiffel/aiffel/aiffel_project/Suggestion_of_alternative/part_model/고등학교 2학년/test/░φ╡ε╟╨▒│ 2╟╨│Γ/┤δ╛╚┴ª╜├_░φ╡ε_2╟╨│Γ_ESSAY_86450.json',\n",
       " '/aiffel/aiffel/aiffel_project/Suggestion_of_alternative/part_model/고등학교 2학년/test/░φ╡ε╟╨▒│ 2╟╨│Γ/┤δ╛╚┴ª╜├_░φ╡ε_2╟╨│Γ_ESSAY_86551.json',\n",
       " '/aiffel/aiffel/aiffel_project/Suggestion_of_alternative/part_model/고등학교 2학년/test/░φ╡ε╟╨▒│ 2╟╨│Γ/┤δ╛╚┴ª╜├_░φ╡ε_2╟╨│Γ_ESSAY_86524.json',\n",
       " '/aiffel/aiffel/aiffel_project/Suggestion_of_alternative/part_model/고등학교 2학년/test/░φ╡ε╟╨▒│ 2╟╨│Γ/┤δ╛╚┴ª╜├_░φ╡ε_2╟╨│Γ_ESSAY_86309.json',\n",
       " '/aiffel/aiffel/aiffel_project/Suggestion_of_alternative/part_model/고등학교 2학년/test/░φ╡ε╟╨▒│ 2╟╨│Γ/┤δ╛╚┴ª╜├_░φ╡ε_2╟╨│Γ_ESSAY_86481.json']"
      ]
     },
     "execution_count": 7,
     "metadata": {},
     "output_type": "execute_result"
    }
   ],
   "source": [
    "test_list[:10]"
   ]
  },
  {
   "cell_type": "markdown",
   "id": "28036553",
   "metadata": {},
   "source": [
    "# 데이터 전처리"
   ]
  },
  {
   "cell_type": "code",
   "execution_count": 8,
   "id": "d2428b4e",
   "metadata": {},
   "outputs": [],
   "source": [
    "import json"
   ]
  },
  {
   "cell_type": "code",
   "execution_count": 9,
   "id": "7047c083",
   "metadata": {},
   "outputs": [],
   "source": [
    "corpus = []\n",
    "\n",
    "for file in train_list:\n",
    "    with open(file, 'r') as f:\n",
    "        json_file = json.load(f)\n",
    "        only_txt = json_file['essay_txt']\n",
    "        only_txt = only_txt.replace(\"#@문장구분#\", \"\")\n",
    "        only_txt = only_txt.replace(\"\\n\", \"\")\n",
    "        only_txt = only_txt.replace(\"\\b\", \"\")\n",
    "        corpus.append(only_txt)"
   ]
  },
  {
   "cell_type": "code",
   "execution_count": 10,
   "id": "0fe2b40a",
   "metadata": {},
   "outputs": [
    {
     "data": {
      "text/plain": [
       "\"나는 중학교 때 국립중학교를 다녀서 장애인 학생을 일부 수용할 수 있도록 하는 제도가 있어 반에 장애인 친구가 있었다. 장애 중에서도 심한 장애를 가지고 있지는 않았다. 반 친구들은 장애를 가지고 있는 친구를 도와주고 가끔씩 놀며 잘 지냈지만, 가끔씩 친구들끼리 이야기하다 보면 장애를 가지고 있는 친구를 '놀아준다.'라고 이야기하며 자신들이 더 잘난 존재임을 암시하는 말을 하고 외모적인 비하 발언을 하며 그 친구가 있지 않을 때 가끔씩 그런 이야기를 하고 했다. 우리도 몸이 불편한 친구라는 인식도 있지만 우리의 무의식 속에서는 우리와 확실히 다른 존재라고 생각하며 선을 긋고 있고 차별하는 생각들이 존재하고 있다고 생각한다. 이처럼 학교나 직장 내에서 장애인이 생활할 수 있도록 하지만 이것으로 장애인에게 도움이 되는지는 알 수 없고 사람들의 인식도 크게 변하지 않을 것이라고 생각한다. 그래서 내가 생각하는 학교나 직장 내에서 장애인에 대한 인식을 개선하는 방법은 현재는 장애를 가지고 있지 않은 다수의 사람들 속에서 장애를 가지고 있는 소수의 사람들이 존재하는데, 이렇게 만들었기 때문에 다름이 확연히 보여서 차별을 하고 있는 것이라고 생각한다. 그래서 나는 아예 장애를 가지고 있지 않은 사람과 장애를 가지고 있는 사람의 비율을 반반으로 나누어서 장애를 가지고 있는 사람들이 우리와 다를 것이 없다는 것을 생각할 수 있도록 유도하고 서로 어울릴 수 있고 서로 도와줄 수 있도록 하며 장애인에 대한 인식을 변화해 가는 것이 좋은 방법이라고 생각한다. 그리고 내가 알기로는 대부분의 사람들이 아주 사소한 것으로 보면 다들 장애를 가지고 있다고 한다. 이처럼 우리가 장애로 생각하는 것을 넓게 보면 모두가 조금씩은 가지고 있는 것으로 볼 수 있기 때문에 모두가 같은 존재임을 인식하고 살아갔으면 좋겠다. 장애인이 빈곤속이 아닌 사회인들과 함께 살아갈 수 있도록 지원을 해야한다. 장애인에 대한 부정적 인식은 개인만이 아닌 국가의 책임이기도 함으로 개인적인 노력 뿐만이 아닌 정부도 노력을 해야한다.\""
      ]
     },
     "execution_count": 10,
     "metadata": {},
     "output_type": "execute_result"
    }
   ],
   "source": [
    "corpus[0]"
   ]
  },
  {
   "cell_type": "code",
   "execution_count": 11,
   "id": "70306699",
   "metadata": {},
   "outputs": [],
   "source": [
    "train_data = ' '.join(map(str, corpus))"
   ]
  },
  {
   "cell_type": "code",
   "execution_count": 12,
   "id": "fbbde8ab",
   "metadata": {},
   "outputs": [
    {
     "data": {
      "text/plain": [
       "'나는 중학교 때 국립중학교를 다녀서 장애인 학생을 일부 수용할 수 있도록 하는 제도가 있어 반에 장애인 친구가 있었다. 장애 중에서도 심한 장애를 가지고 있지는 않았다. 반 친구들'"
      ]
     },
     "execution_count": 12,
     "metadata": {},
     "output_type": "execute_result"
    }
   ],
   "source": [
    "train_data[:100]"
   ]
  },
  {
   "cell_type": "code",
   "execution_count": 13,
   "id": "01d04aef",
   "metadata": {},
   "outputs": [],
   "source": [
    "corpus = []\n",
    "\n",
    "for file in test_list:\n",
    "    with open(file, 'r') as f:\n",
    "        json_file = json.load(f)\n",
    "        only_txt = json_file['essay_txt']\n",
    "        only_txt = only_txt.replace(\"#@문장구분#\", \"\")\n",
    "        only_txt = only_txt.replace(\"\\n\", \"\")\n",
    "        only_txt = only_txt.replace(\"\\b\", \"\")\n",
    "        corpus.append(only_txt)"
   ]
  },
  {
   "cell_type": "code",
   "execution_count": 14,
   "id": "83b7d5d7",
   "metadata": {},
   "outputs": [
    {
     "data": {
      "text/plain": [
       "'저는 장애인과 비장애인이 서로 같은 처지에 있는 사람이라고 생각합니다. 왜냐하면 장애인들도 감정이 있고 생각만 다를 뿐이지 그런 이유 때문에 차별받는 것은 불합리하다고 생각합니다. 우리도 한 순간에 장애인이 될 수도 있고 그리고 입장을 바꿔서 생각할 때 자신이 장애인이라는 그 이유로 차별을 받아야 하나?라고 생각합니다. 이런 부당한 이유로 사회적으로 차별받고 대우받지 못하는 사회의 인식을 개선해야 할 필요가 있다고 생각합니다. 장애인들도 친구들과 어울려서 이야기도 할 수 있고 게임도 같이 할 수 있는데 장애인이라는 이유만으로 차별하는 건 불합리하다고 생각합니다. 그래서 나는 장애인에 대한 인식을 개선하기 위해서는 일반사람들의 인식을 개선해야 한다고 생각합니다. 우선 자신도 어느 한 순간의 사고로 인해 장애인이 될 수 있기 때문에 장에 대한 생각을 계속 머릿속에 경각심을 심어주어야 한다고 생각합니다. 장애인들도 몸만 불편할 뿐이지 우리와 다르지 않은 사람이라는 생각을 계속 머릿속에 심어주는 것입니다. 계속 반복적으로 머릿속에 이러한 인식들을 심어주면 무의식적인 행동을 하더라도 장애인들을 배려해주는 행동을 하게 된다고 생각합니다. 또 장애인들에게도 교육하는 것이 저는 필요하다고 생각합니다. 장애인들은 자신이 가진 장애 때문에 행동 하나하나가 위축되어서 소심해지는 경향이 있습니다. 저는 장애인들이 위축되거나 소심해지지 않았으면 좋겠습니다. 그래서 장애인들에게 당당해지는 그런 교육을 하는 것이 필요하다고 생각합니다. 그리고 우리 일반인들에게도 교육이 필요하다고 생각한다고 합니다. 학교에서나 회사에서 계속해서 장애인들이 겪는 차별과 부당함에 대해 설명해주고 어떻게 하면 그러한 차별과 부당함을 없앨 수 있을지에 대해 토론을 해본다거나 해결책을 논의 해보는 것도 일종의 방법이라고 생각합니다. 따라서 우리는 누구도 평등하고 인간이 누려야 할 권리는 제한하지말고 누려야 한다고 생각합니다.'"
      ]
     },
     "execution_count": 14,
     "metadata": {},
     "output_type": "execute_result"
    }
   ],
   "source": [
    "corpus[0]"
   ]
  },
  {
   "cell_type": "code",
   "execution_count": 15,
   "id": "0829078b",
   "metadata": {},
   "outputs": [],
   "source": [
    "test_data = ' '.join(map(str, corpus))"
   ]
  },
  {
   "cell_type": "code",
   "execution_count": 16,
   "id": "245e23db",
   "metadata": {},
   "outputs": [
    {
     "data": {
      "text/plain": [
       "'저는 장애인과 비장애인이 서로 같은 처지에 있는 사람이라고 생각합니다. 왜냐하면 장애인들도 감정이 있고 생각만 다를 뿐이지 그런 이유 때문에 차별받는 것은 불합리하다고 생각합니다.'"
      ]
     },
     "execution_count": 16,
     "metadata": {},
     "output_type": "execute_result"
    }
   ],
   "source": [
    "test_data[:100]"
   ]
  },
  {
   "cell_type": "markdown",
   "id": "cf7fb2bd",
   "metadata": {},
   "source": [
    "# 프리트레인 모델 불러오기"
   ]
  },
  {
   "cell_type": "code",
   "execution_count": 17,
   "id": "fe8a5b94",
   "metadata": {},
   "outputs": [
    {
     "name": "stderr",
     "output_type": "stream",
     "text": [
      "The tokenizer class you load from this checkpoint is not the same type as the class this function is called from. It may result in unexpected tokenization. \n",
      "The tokenizer class you load from this checkpoint is 'GPT2Tokenizer'. \n",
      "The class this function is called from is 'PreTrainedTokenizerFast'.\n",
      "/opt/conda/lib/python3.9/site-packages/transformers/models/auto/modeling_auto.py:660: FutureWarning: The class `AutoModelWithLMHead` is deprecated and will be removed in a future version. Please use `AutoModelForCausalLM` for causal language models, `AutoModelForMaskedLM` for masked language models and `AutoModelForSeq2SeqLM` for encoder-decoder models.\n",
      "  warnings.warn(\n"
     ]
    }
   ],
   "source": [
    "from transformers import AutoModelWithLMHead, PreTrainedTokenizerFast\n",
    "\n",
    "tokenizer = PreTrainedTokenizerFast.from_pretrained(\"skt/kogpt2-base-v2\",\n",
    "                                                   bos_token=\"</s>\",\n",
    "                                                   eos_token=\"</s>\",\n",
    "                                                   unk_token=\"<unk>\",\n",
    "                                                   pad_token=\"<pad>\",\n",
    "                                                   mask_token=\"<mask>\")\n",
    "\n",
    "model = AutoModelWithLMHead.from_pretrained(\"skt/kogpt2-base-v2\")"
   ]
  },
  {
   "cell_type": "markdown",
   "id": "f7f156f4",
   "metadata": {},
   "source": [
    "# 토큰화 작업"
   ]
  },
  {
   "cell_type": "code",
   "execution_count": 18,
   "id": "77bf7094",
   "metadata": {},
   "outputs": [
    {
     "name": "stdout",
     "output_type": "stream",
     "text": [
      "Requirement already satisfied: fastai in /opt/conda/lib/python3.9/site-packages (2.7.11)\n",
      "Requirement already satisfied: pip in /opt/conda/lib/python3.9/site-packages (from fastai) (21.3.1)\n",
      "Requirement already satisfied: pandas in /opt/conda/lib/python3.9/site-packages (from fastai) (1.3.3)\n",
      "Requirement already satisfied: pillow>6.0.0 in /opt/conda/lib/python3.9/site-packages (from fastai) (8.3.2)\n",
      "Requirement already satisfied: torch<1.14,>=1.7 in /opt/conda/lib/python3.9/site-packages (from fastai) (1.9.1+cu111)\n",
      "Requirement already satisfied: pyyaml in /opt/conda/lib/python3.9/site-packages (from fastai) (6.0)\n",
      "Requirement already satisfied: packaging in /opt/conda/lib/python3.9/site-packages (from fastai) (21.3)\n",
      "Requirement already satisfied: requests in /opt/conda/lib/python3.9/site-packages (from fastai) (2.26.0)\n",
      "Requirement already satisfied: scipy in /opt/conda/lib/python3.9/site-packages (from fastai) (1.7.1)\n",
      "Requirement already satisfied: fastdownload<2,>=0.0.5 in /opt/conda/lib/python3.9/site-packages (from fastai) (0.0.7)\n",
      "Requirement already satisfied: scikit-learn in /opt/conda/lib/python3.9/site-packages (from fastai) (1.0)\n",
      "Requirement already satisfied: fastcore<1.6,>=1.4.5 in /opt/conda/lib/python3.9/site-packages (from fastai) (1.5.28)\n",
      "Requirement already satisfied: torchvision>=0.8.2 in /opt/conda/lib/python3.9/site-packages (from fastai) (0.10.1+cu111)\n",
      "Requirement already satisfied: spacy<4 in /opt/conda/lib/python3.9/site-packages (from fastai) (3.5.1)\n",
      "Requirement already satisfied: matplotlib in /opt/conda/lib/python3.9/site-packages (from fastai) (3.4.3)\n",
      "Requirement already satisfied: fastprogress>=0.2.4 in /opt/conda/lib/python3.9/site-packages (from fastai) (1.0.3)\n",
      "Requirement already satisfied: thinc<8.2.0,>=8.1.8 in /opt/conda/lib/python3.9/site-packages (from spacy<4->fastai) (8.1.9)\n",
      "Requirement already satisfied: catalogue<2.1.0,>=2.0.6 in /opt/conda/lib/python3.9/site-packages (from spacy<4->fastai) (2.0.8)\n",
      "Requirement already satisfied: typer<0.8.0,>=0.3.0 in /opt/conda/lib/python3.9/site-packages (from spacy<4->fastai) (0.7.0)\n",
      "Requirement already satisfied: tqdm<5.0.0,>=4.38.0 in /opt/conda/lib/python3.9/site-packages (from spacy<4->fastai) (4.62.3)\n",
      "Requirement already satisfied: srsly<3.0.0,>=2.4.3 in /opt/conda/lib/python3.9/site-packages (from spacy<4->fastai) (2.4.6)\n",
      "Requirement already satisfied: wasabi<1.2.0,>=0.9.1 in /opt/conda/lib/python3.9/site-packages (from spacy<4->fastai) (1.1.1)\n",
      "Requirement already satisfied: setuptools in /opt/conda/lib/python3.9/site-packages (from spacy<4->fastai) (59.4.0)\n",
      "Requirement already satisfied: langcodes<4.0.0,>=3.2.0 in /opt/conda/lib/python3.9/site-packages (from spacy<4->fastai) (3.3.0)\n",
      "Requirement already satisfied: cymem<2.1.0,>=2.0.2 in /opt/conda/lib/python3.9/site-packages (from spacy<4->fastai) (2.0.7)\n",
      "Requirement already satisfied: pydantic!=1.8,!=1.8.1,<1.11.0,>=1.7.4 in /opt/conda/lib/python3.9/site-packages (from spacy<4->fastai) (1.10.7)\n",
      "Requirement already satisfied: numpy>=1.15.0 in /opt/conda/lib/python3.9/site-packages (from spacy<4->fastai) (1.21.4)\n",
      "Requirement already satisfied: spacy-loggers<2.0.0,>=1.0.0 in /opt/conda/lib/python3.9/site-packages (from spacy<4->fastai) (1.0.4)\n",
      "Requirement already satisfied: smart-open<7.0.0,>=5.2.1 in /opt/conda/lib/python3.9/site-packages (from spacy<4->fastai) (5.2.1)\n",
      "Requirement already satisfied: spacy-legacy<3.1.0,>=3.0.11 in /opt/conda/lib/python3.9/site-packages (from spacy<4->fastai) (3.0.12)\n",
      "Requirement already satisfied: murmurhash<1.1.0,>=0.28.0 in /opt/conda/lib/python3.9/site-packages (from spacy<4->fastai) (1.0.9)\n",
      "Requirement already satisfied: preshed<3.1.0,>=3.0.2 in /opt/conda/lib/python3.9/site-packages (from spacy<4->fastai) (3.0.8)\n",
      "Requirement already satisfied: jinja2 in /opt/conda/lib/python3.9/site-packages (from spacy<4->fastai) (3.0.3)\n",
      "Requirement already satisfied: pathy>=0.10.0 in /opt/conda/lib/python3.9/site-packages (from spacy<4->fastai) (0.10.1)\n",
      "Requirement already satisfied: pyparsing!=3.0.5,>=2.0.2 in /opt/conda/lib/python3.9/site-packages (from packaging->fastai) (3.0.6)\n",
      "Requirement already satisfied: charset-normalizer~=2.0.0 in /opt/conda/lib/python3.9/site-packages (from requests->fastai) (2.0.8)\n",
      "Requirement already satisfied: certifi>=2017.4.17 in /opt/conda/lib/python3.9/site-packages (from requests->fastai) (2021.10.8)\n",
      "Requirement already satisfied: idna<4,>=2.5 in /opt/conda/lib/python3.9/site-packages (from requests->fastai) (2.10)\n",
      "Requirement already satisfied: urllib3<1.27,>=1.21.1 in /opt/conda/lib/python3.9/site-packages (from requests->fastai) (1.26.7)\n",
      "Requirement already satisfied: typing-extensions in /opt/conda/lib/python3.9/site-packages (from torch<1.14,>=1.7->fastai) (4.5.0)\n",
      "Requirement already satisfied: kiwisolver>=1.0.1 in /opt/conda/lib/python3.9/site-packages (from matplotlib->fastai) (1.3.2)\n",
      "Requirement already satisfied: cycler>=0.10 in /opt/conda/lib/python3.9/site-packages (from matplotlib->fastai) (0.11.0)\n",
      "Requirement already satisfied: python-dateutil>=2.7 in /opt/conda/lib/python3.9/site-packages (from matplotlib->fastai) (2.8.2)\n",
      "Requirement already satisfied: pytz>=2017.3 in /opt/conda/lib/python3.9/site-packages (from pandas->fastai) (2021.3)\n",
      "Requirement already satisfied: joblib>=0.11 in /opt/conda/lib/python3.9/site-packages (from scikit-learn->fastai) (1.1.0)\n",
      "Requirement already satisfied: threadpoolctl>=2.0.0 in /opt/conda/lib/python3.9/site-packages (from scikit-learn->fastai) (3.0.0)\n",
      "Requirement already satisfied: six>=1.5 in /opt/conda/lib/python3.9/site-packages (from python-dateutil>=2.7->matplotlib->fastai) (1.16.0)\n",
      "Requirement already satisfied: blis<0.8.0,>=0.7.8 in /opt/conda/lib/python3.9/site-packages (from thinc<8.2.0,>=8.1.8->spacy<4->fastai) (0.7.9)\n",
      "Requirement already satisfied: confection<1.0.0,>=0.0.1 in /opt/conda/lib/python3.9/site-packages (from thinc<8.2.0,>=8.1.8->spacy<4->fastai) (0.0.4)\n",
      "Requirement already satisfied: click<9.0.0,>=7.1.1 in /opt/conda/lib/python3.9/site-packages (from typer<0.8.0,>=0.3.0->spacy<4->fastai) (8.0.3)\n",
      "Requirement already satisfied: MarkupSafe>=2.0 in /opt/conda/lib/python3.9/site-packages (from jinja2->spacy<4->fastai) (2.0.1)\n",
      "\u001b[33mWARNING: Running pip as the 'root' user can result in broken permissions and conflicting behaviour with the system package manager. It is recommended to use a virtual environment instead: https://pip.pypa.io/warnings/venv\u001b[0m\n"
     ]
    }
   ],
   "source": [
    "!pip install fastai"
   ]
  },
  {
   "cell_type": "code",
   "execution_count": 19,
   "id": "2b26abbf",
   "metadata": {},
   "outputs": [],
   "source": [
    "from fastai.text.all import *"
   ]
  },
  {
   "cell_type": "code",
   "execution_count": 20,
   "id": "e337e69b",
   "metadata": {},
   "outputs": [],
   "source": [
    "class TransformersTokenizer(Transform):\n",
    "    def __init__(self, tokenizer):\n",
    "        self.tokenizer = tokenizer\n",
    "    def encodes(self, x):\n",
    "        toks = self.tokenizer.tokenize(x)\n",
    "        return tensor(self.tokenizer.convert_tokens_to_ids(toks))\n",
    "    def decodes(self, x):\n",
    "        return TitledStr(self.tokenizer.decode(x.cpu().numpy()))"
   ]
  },
  {
   "cell_type": "code",
   "execution_count": 21,
   "id": "02b367fd",
   "metadata": {},
   "outputs": [],
   "source": [
    "splits = [[0], [1]]\n",
    "\n",
    "tls = TfmdLists([train_data, test_data], TransformersTokenizer(tokenizer),\n",
    "               splits=splits, dl_type=LMDataLoader)\n",
    "batch, seq_len = 8, 256\n",
    "dls = tls.dataloaders(bs=batch, seq_len=seq_len)"
   ]
  },
  {
   "cell_type": "markdown",
   "id": "3acf14f3",
   "metadata": {},
   "source": [
    "# 모델 훈련"
   ]
  },
  {
   "cell_type": "code",
   "execution_count": 22,
   "id": "562fc457",
   "metadata": {},
   "outputs": [
    {
     "data": {
      "text/html": [
       "\n",
       "<style>\n",
       "    /* Turns off some styling */\n",
       "    progress {\n",
       "        /* gets rid of default border in Firefox and Opera. */\n",
       "        border: none;\n",
       "        /* Needs to be in here for Safari polyfill so background images work as expected. */\n",
       "        background-size: auto;\n",
       "    }\n",
       "    progress:not([value]), progress:not([value])::-webkit-progress-bar {\n",
       "        background: repeating-linear-gradient(45deg, #7e7e7e, #7e7e7e 10px, #5c5c5c 10px, #5c5c5c 20px);\n",
       "    }\n",
       "    .progress-bar-interrupted, .progress-bar-interrupted::-webkit-progress-bar {\n",
       "        background: #F44336;\n",
       "    }\n",
       "</style>\n"
      ],
      "text/plain": [
       "<IPython.core.display.HTML object>"
      ]
     },
     "metadata": {},
     "output_type": "display_data"
    },
    {
     "data": {
      "text/html": [],
      "text/plain": [
       "<IPython.core.display.HTML object>"
      ]
     },
     "metadata": {},
     "output_type": "display_data"
    },
    {
     "name": "stdout",
     "output_type": "stream",
     "text": [
      "SuggestedLRs(valley=5.248074739938602e-05)\n"
     ]
    },
    {
     "data": {
      "text/html": [
       "\n",
       "<style>\n",
       "    /* Turns off some styling */\n",
       "    progress {\n",
       "        /* gets rid of default border in Firefox and Opera. */\n",
       "        border: none;\n",
       "        /* Needs to be in here for Safari polyfill so background images work as expected. */\n",
       "        background-size: auto;\n",
       "    }\n",
       "    progress:not([value]), progress:not([value])::-webkit-progress-bar {\n",
       "        background: repeating-linear-gradient(45deg, #7e7e7e, #7e7e7e 10px, #5c5c5c 10px, #5c5c5c 20px);\n",
       "    }\n",
       "    .progress-bar-interrupted, .progress-bar-interrupted::-webkit-progress-bar {\n",
       "        background: #F44336;\n",
       "    }\n",
       "</style>\n"
      ],
      "text/plain": [
       "<IPython.core.display.HTML object>"
      ]
     },
     "metadata": {},
     "output_type": "display_data"
    },
    {
     "data": {
      "text/html": [
       "<table border=\"1\" class=\"dataframe\">\n",
       "  <thead>\n",
       "    <tr style=\"text-align: left;\">\n",
       "      <th>epoch</th>\n",
       "      <th>train_loss</th>\n",
       "      <th>valid_loss</th>\n",
       "      <th>perplexity</th>\n",
       "      <th>time</th>\n",
       "    </tr>\n",
       "  </thead>\n",
       "  <tbody>\n",
       "    <tr>\n",
       "      <td>0</td>\n",
       "      <td>6.571111</td>\n",
       "      <td>8.447518</td>\n",
       "      <td>4663.485352</td>\n",
       "      <td>00:33</td>\n",
       "    </tr>\n",
       "  </tbody>\n",
       "</table>"
      ],
      "text/plain": [
       "<IPython.core.display.HTML object>"
      ]
     },
     "metadata": {},
     "output_type": "display_data"
    },
    {
     "data": {
      "text/html": [
       "\n",
       "<style>\n",
       "    /* Turns off some styling */\n",
       "    progress {\n",
       "        /* gets rid of default border in Firefox and Opera. */\n",
       "        border: none;\n",
       "        /* Needs to be in here for Safari polyfill so background images work as expected. */\n",
       "        background-size: auto;\n",
       "    }\n",
       "    progress:not([value]), progress:not([value])::-webkit-progress-bar {\n",
       "        background: repeating-linear-gradient(45deg, #7e7e7e, #7e7e7e 10px, #5c5c5c 10px, #5c5c5c 20px);\n",
       "    }\n",
       "    .progress-bar-interrupted, .progress-bar-interrupted::-webkit-progress-bar {\n",
       "        background: #F44336;\n",
       "    }\n",
       "</style>\n"
      ],
      "text/plain": [
       "<IPython.core.display.HTML object>"
      ]
     },
     "metadata": {},
     "output_type": "display_data"
    },
    {
     "data": {
      "text/html": [
       "<table border=\"1\" class=\"dataframe\">\n",
       "  <thead>\n",
       "    <tr style=\"text-align: left;\">\n",
       "      <th>epoch</th>\n",
       "      <th>train_loss</th>\n",
       "      <th>valid_loss</th>\n",
       "      <th>perplexity</th>\n",
       "      <th>time</th>\n",
       "    </tr>\n",
       "  </thead>\n",
       "  <tbody>\n",
       "    <tr>\n",
       "      <td>0</td>\n",
       "      <td>6.918952</td>\n",
       "      <td>7.468284</td>\n",
       "      <td>1751.598633</td>\n",
       "      <td>00:33</td>\n",
       "    </tr>\n",
       "    <tr>\n",
       "      <td>1</td>\n",
       "      <td>6.221303</td>\n",
       "      <td>7.028858</td>\n",
       "      <td>1128.741089</td>\n",
       "      <td>00:33</td>\n",
       "    </tr>\n",
       "    <tr>\n",
       "      <td>2</td>\n",
       "      <td>5.622035</td>\n",
       "      <td>6.946948</td>\n",
       "      <td>1039.970459</td>\n",
       "      <td>00:33</td>\n",
       "    </tr>\n",
       "    <tr>\n",
       "      <td>3</td>\n",
       "      <td>5.042631</td>\n",
       "      <td>6.834153</td>\n",
       "      <td>929.040833</td>\n",
       "      <td>00:33</td>\n",
       "    </tr>\n",
       "    <tr>\n",
       "      <td>4</td>\n",
       "      <td>4.566402</td>\n",
       "      <td>6.902106</td>\n",
       "      <td>994.366943</td>\n",
       "      <td>00:33</td>\n",
       "    </tr>\n",
       "  </tbody>\n",
       "</table>"
      ],
      "text/plain": [
       "<IPython.core.display.HTML object>"
      ]
     },
     "metadata": {},
     "output_type": "display_data"
    },
    {
     "data": {
      "image/png": "[encoded data removed]",
      "text/plain": [
       "<Figure size 432x288 with 1 Axes>"
      ]
     },
     "metadata": {
      "needs_background": "light"
     },
     "output_type": "display_data"
    }
   ],
   "source": [
    "class DropOutput(Callback):\n",
    "    def after_pred(self):\n",
    "        self.learn.pred = self.pred[0]\n",
    "        \n",
    "learn = Learner(dls, model, loss_func=CrossEntropyLossFlat(),\n",
    "                cbs=[DropOutput], metrics=Perplexity()).to_fp16()\n",
    "lr = learn.lr_find()\n",
    "print(lr)\n",
    "learn.fine_tune(5)"
   ]
  },
  {
   "cell_type": "markdown",
   "id": "08a137df",
   "metadata": {},
   "source": [
    "# 문장 생성"
   ]
  },
  {
   "cell_type": "code",
   "execution_count": 23,
   "id": "90c0ff9a",
   "metadata": {},
   "outputs": [],
   "source": [
    "prompt=\"저는 장애인과 비장애인이 서로 같은 처지에 있는 사람이라고 생각합니다.\"\n",
    "prompt_ids = tokenizer.encode(prompt)\n",
    "inp = tensor(prompt_ids)[None].cuda()\n",
    "preds = learn.model.generate(inp,\n",
    "                           max_length=250,\n",
    "                           pad_token_id=tokenizer.pad_token_id,\n",
    "                           eos_token_id=tokenizer.eos_token_id,\n",
    "                           bos_token_id=tokenizer.bos_token_id,\n",
    "                           repetition_penalty=2.0,       \n",
    "                           use_cache=True\n",
    "                          ) \n",
    "src_input = tokenizer.decode(preds[0].cpu().numpy())"
   ]
  },
  {
   "cell_type": "code",
   "execution_count": 24,
   "id": "5f0dcc64",
   "metadata": {},
   "outputs": [
    {
     "data": {
      "text/plain": [
       "'저는 장애인과 비장애인이 서로 같은 처지에 있는 사람이라고 생각합니다. 괜찮아동이 불편할 수 있을 것이다. 그래서 우리는 어떻게 대해야 한다고 생각을 합니다. 그리고 우리와 다르지 않다는 것을 알려주면 좋겠다. 하지만 우리가 생각하는 사람들이 많이 개선하는 것이 아니라 다른 사람으로 취급하지 않은 사람들도 있지만 이러한 교육이 필요하다고 생각이 든다면 어릴 때부터 장애인들도 일반인들이 겪는 시선만 해보는 것도 좋을 것 같다. 학교나 직장 내에서 교육을 통해 장애를 가진 사람들에 대한 인식을 개선하기 위해서는 학교에서 실시하고 있다고 해서 자신이 직접 체험해 뉴스를 보면 몸이 조금은 안대를 착용하게 되면 그 분들의 인식개선 교육 프로그램을 통해서 아이들에게 도움이 필요한지에 따라 수업을 듣거나 체험을 하게 될 수도 있다. 왜냐하면 어렸을 때 이런 시선으로 바라보는 인식이 바뀌어야 한다. 또 나쁘게 생각할수 있도록 노력과 부정적인 시선을 바로잡기 때문에 나는 유치원때부터라도 머릿속에 심어주고 토론을 하는지 않을 것이라고 본 적이 있는데 내가 먼저 할 필요가 있습니다. 예를 들면 초등학교 아이들은 어린 세대분들이 많습니다. 또한 학교를 다닐 때는 초등학생에 재학 중 하나만으로 느껴지고 싶어서 강의를 하면 무의식적인 부분을 하나하나 이야기해보자. 이렇게 아이들의 생각은 이렇다보면 아마 나의 처럼 그런 방법이라는 이유로 차별받는 것은 사실 이 말은 아니다. 물론 막상 시간을 벌금이나 시설들을 생각해본적이게'"
      ]
     },
     "execution_count": 24,
     "metadata": {},
     "output_type": "execute_result"
    }
   ],
   "source": [
    "src_input"
   ]
  },
  {
   "cell_type": "markdown",
   "id": "41c92628",
   "metadata": {},
   "source": [
    "# bleu score"
   ]
  },
  {
   "cell_type": "code",
   "execution_count": 25,
   "id": "ef2ad33b",
   "metadata": {},
   "outputs": [
    {
     "name": "stdout",
     "output_type": "stream",
     "text": [
      "huggingface/tokenizers: The current process just got forked, after parallelism has already been used. Disabling parallelism to avoid deadlocks...\n",
      "To disable this warning, you can either:\n",
      "\t- Avoid using `tokenizers` before the fork if possible\n",
      "\t- Explicitly set the environment variable TOKENIZERS_PARALLELISM=(true | false)\n",
      "Requirement already satisfied: datasets in /opt/conda/lib/python3.9/site-packages (1.14.0)\n",
      "Requirement already satisfied: fsspec[http]>=2021.05.0 in /opt/conda/lib/python3.9/site-packages (from datasets) (2021.11.1)\n",
      "Requirement already satisfied: pandas in /opt/conda/lib/python3.9/site-packages (from datasets) (1.3.3)\n",
      "Requirement already satisfied: pyarrow!=4.0.0,>=1.0.0 in /opt/conda/lib/python3.9/site-packages (from datasets) (6.0.1)\n",
      "Requirement already satisfied: huggingface-hub<0.1.0,>=0.0.19 in /opt/conda/lib/python3.9/site-packages (from datasets) (0.0.19)\n",
      "Requirement already satisfied: numpy>=1.17 in /opt/conda/lib/python3.9/site-packages (from datasets) (1.21.4)\n",
      "Requirement already satisfied: requests>=2.19.0 in /opt/conda/lib/python3.9/site-packages (from datasets) (2.26.0)\n",
      "Requirement already satisfied: dill in /opt/conda/lib/python3.9/site-packages (from datasets) (0.3.4)\n",
      "Requirement already satisfied: xxhash in /opt/conda/lib/python3.9/site-packages (from datasets) (2.0.2)\n",
      "Requirement already satisfied: tqdm>=4.62.1 in /opt/conda/lib/python3.9/site-packages (from datasets) (4.62.3)\n",
      "Requirement already satisfied: multiprocess in /opt/conda/lib/python3.9/site-packages (from datasets) (0.70.12.2)\n",
      "Requirement already satisfied: packaging in /opt/conda/lib/python3.9/site-packages (from datasets) (21.3)\n",
      "Requirement already satisfied: aiohttp in /opt/conda/lib/python3.9/site-packages (from datasets) (3.8.1)\n",
      "Requirement already satisfied: typing-extensions in /opt/conda/lib/python3.9/site-packages (from huggingface-hub<0.1.0,>=0.0.19->datasets) (4.5.0)\n",
      "Requirement already satisfied: pyyaml in /opt/conda/lib/python3.9/site-packages (from huggingface-hub<0.1.0,>=0.0.19->datasets) (6.0)\n",
      "Requirement already satisfied: filelock in /opt/conda/lib/python3.9/site-packages (from huggingface-hub<0.1.0,>=0.0.19->datasets) (3.4.0)\n",
      "Requirement already satisfied: pyparsing!=3.0.5,>=2.0.2 in /opt/conda/lib/python3.9/site-packages (from packaging->datasets) (3.0.6)\n",
      "Requirement already satisfied: urllib3<1.27,>=1.21.1 in /opt/conda/lib/python3.9/site-packages (from requests>=2.19.0->datasets) (1.26.7)\n",
      "Requirement already satisfied: charset-normalizer~=2.0.0 in /opt/conda/lib/python3.9/site-packages (from requests>=2.19.0->datasets) (2.0.8)\n",
      "Requirement already satisfied: idna<4,>=2.5 in /opt/conda/lib/python3.9/site-packages (from requests>=2.19.0->datasets) (2.10)\n",
      "Requirement already satisfied: certifi>=2017.4.17 in /opt/conda/lib/python3.9/site-packages (from requests>=2.19.0->datasets) (2021.10.8)\n",
      "Requirement already satisfied: attrs>=17.3.0 in /opt/conda/lib/python3.9/site-packages (from aiohttp->datasets) (21.2.0)\n",
      "Requirement already satisfied: yarl<2.0,>=1.0 in /opt/conda/lib/python3.9/site-packages (from aiohttp->datasets) (1.7.2)\n",
      "Requirement already satisfied: aiosignal>=1.1.2 in /opt/conda/lib/python3.9/site-packages (from aiohttp->datasets) (1.2.0)\n",
      "Requirement already satisfied: multidict<7.0,>=4.5 in /opt/conda/lib/python3.9/site-packages (from aiohttp->datasets) (5.2.0)\n",
      "Requirement already satisfied: frozenlist>=1.1.1 in /opt/conda/lib/python3.9/site-packages (from aiohttp->datasets) (1.2.0)\n",
      "Requirement already satisfied: async-timeout<5.0,>=4.0.0a3 in /opt/conda/lib/python3.9/site-packages (from aiohttp->datasets) (4.0.1)\n",
      "Requirement already satisfied: python-dateutil>=2.7.3 in /opt/conda/lib/python3.9/site-packages (from pandas->datasets) (2.8.2)\n",
      "Requirement already satisfied: pytz>=2017.3 in /opt/conda/lib/python3.9/site-packages (from pandas->datasets) (2021.3)\n",
      "Requirement already satisfied: six>=1.5 in /opt/conda/lib/python3.9/site-packages (from python-dateutil>=2.7.3->pandas->datasets) (1.16.0)\n",
      "\u001b[33mWARNING: Running pip as the 'root' user can result in broken permissions and conflicting behaviour with the system package manager. It is recommended to use a virtual environment instead: https://pip.pypa.io/warnings/venv\u001b[0m\n"
     ]
    }
   ],
   "source": [
    "!pip install datasets"
   ]
  },
  {
   "cell_type": "code",
   "execution_count": 26,
   "id": "e193e2aa",
   "metadata": {},
   "outputs": [
    {
     "name": "stdout",
     "output_type": "stream",
     "text": [
      "huggingface/tokenizers: The current process just got forked, after parallelism has already been used. Disabling parallelism to avoid deadlocks...\n",
      "To disable this warning, you can either:\n",
      "\t- Avoid using `tokenizers` before the fork if possible\n",
      "\t- Explicitly set the environment variable TOKENIZERS_PARALLELISM=(true | false)\n",
      "Requirement already satisfied: sacrebleu in /opt/conda/lib/python3.9/site-packages (2.3.1)\n",
      "Requirement already satisfied: regex in /opt/conda/lib/python3.9/site-packages (from sacrebleu) (2021.11.10)\n",
      "Requirement already satisfied: tabulate>=0.8.9 in /opt/conda/lib/python3.9/site-packages (from sacrebleu) (0.8.9)\n",
      "Requirement already satisfied: lxml in /opt/conda/lib/python3.9/site-packages (from sacrebleu) (4.6.3)\n",
      "Requirement already satisfied: colorama in /opt/conda/lib/python3.9/site-packages (from sacrebleu) (0.4.4)\n",
      "Requirement already satisfied: portalocker in /opt/conda/lib/python3.9/site-packages (from sacrebleu) (2.3.2)\n",
      "Requirement already satisfied: numpy>=1.17 in /opt/conda/lib/python3.9/site-packages (from sacrebleu) (1.21.4)\n",
      "\u001b[33mWARNING: Running pip as the 'root' user can result in broken permissions and conflicting behaviour with the system package manager. It is recommended to use a virtual environment instead: https://pip.pypa.io/warnings/venv\u001b[0m\n"
     ]
    }
   ],
   "source": [
    "!pip install sacrebleu"
   ]
  },
  {
   "cell_type": "code",
   "execution_count": 27,
   "id": "71fc1fa2",
   "metadata": {},
   "outputs": [],
   "source": [
    "from datasets import load_metric\n",
    "import pandas as pd\n",
    "import numpy as np"
   ]
  },
  {
   "cell_type": "code",
   "execution_count": 28,
   "id": "9c93f407",
   "metadata": {},
   "outputs": [],
   "source": [
    "reference=[\"\"\"저는 장애인과 비장애인이 서로 같은 처지에 있는 사람이라고 생각합니다. 왜냐하면 장애인들도 감정이 있고 생각만 다를 뿐이지 그런 이유 때문에 차별받는 것은 불합리하다고 생각합니다. 우리도 한 순간에 장애인이 될 수도 있고 그리고 입장을 바꿔서 생각할 때 자신이 장애인이라는 그 이유로 차별을 받아야 하나?라고 생각합니다. 이런 부당한 이유로 사회적으로 차별받고 대우받지 못하는 사회의 인식을 개선해야 할 필요가 있다고 생각합니다. 장애인들도 친구들과 어울려서 이야기도 할 수 있고 게임도 같이 할 수 있는데 장애인이라는 이유만으로 차별하는 건 불합리하다고 생각합니다. 그래서 나는 장애인에 대한 인식을 개선하기 위해서는 일반사람들의 인식을 개선해야 한다고 생각합니다. 우선 자신도 어느 한 순간의 사고로 인해 장애인이 될 수 있기 때문에 장에 대한 생각을 계속 머릿속에 경각심을 심어주어야 한다고 생각합니다. 장애인들도 몸만 불편할 뿐이지 우리와 다르지 않은 사람이라는 생각을 계속 머릿속에 심어주는 것입니다. 계속 반복적으로 머릿속에 이러한 인식들을 심어주면 무의식적인 행동을 하더라도 장애인들을 배려해주는 행동을 하게 된다고 생각합니다. 또 장애인들에게도 교육하는 것이 저는 필요하다고 생각합니다. 장애인들은 자신이 가진 장애 때문에 행동 하나하나가 위축되어서 소심해지는 경향이 있습니다. 저는 장애인들이 위축되거나 소심해지지 않았으면 좋겠습니다. 그래서 장애인들에게 당당해지는 그런 교육을 하는 것이 필요하다고 생각합니다. 그리고 우리 일반인들에게도 교육이 필요하다고 생각한다고 합니다. 학교에서나 회사에서 계속해서 장애인들이 겪는 차별과 부당함에 대해 설명해주고 어떻게 하면 그러한 차별과 부당함을 없앨 수 있을지에 대해 토론을 해본다거나 해결책을 논의 해보는 것도 일종의 방법이라고 생각합니다. 따라서 우리는 누구도 평등하고 인간이 누려야 할 권리는 제한하지말고 누려야 한다고 생각합니다.\"\"\"]"
   ]
  },
  {
   "cell_type": "code",
   "execution_count": 29,
   "id": "1275f270",
   "metadata": {},
   "outputs": [
    {
     "data": {
      "text/html": [
       "<div>\n",
       "<style scoped>\n",
       "    .dataframe tbody tr th:only-of-type {\n",
       "        vertical-align: middle;\n",
       "    }\n",
       "\n",
       "    .dataframe tbody tr th {\n",
       "        vertical-align: top;\n",
       "    }\n",
       "\n",
       "    .dataframe thead th {\n",
       "        text-align: right;\n",
       "    }\n",
       "</style>\n",
       "<table border=\"1\" class=\"dataframe\">\n",
       "  <thead>\n",
       "    <tr style=\"text-align: right;\">\n",
       "      <th></th>\n",
       "      <th>Value</th>\n",
       "    </tr>\n",
       "  </thead>\n",
       "  <tbody>\n",
       "    <tr>\n",
       "      <th>score</th>\n",
       "      <td>8.109589</td>\n",
       "    </tr>\n",
       "    <tr>\n",
       "      <th>counts</th>\n",
       "      <td>[70, 24, 10, 8]</td>\n",
       "    </tr>\n",
       "    <tr>\n",
       "      <th>totals</th>\n",
       "      <td>[191, 190, 189, 188]</td>\n",
       "    </tr>\n",
       "    <tr>\n",
       "      <th>precisions</th>\n",
       "      <td>[36.65, 12.63, 5.29, 4.26]</td>\n",
       "    </tr>\n",
       "    <tr>\n",
       "      <th>bp</th>\n",
       "      <td>0.802603</td>\n",
       "    </tr>\n",
       "    <tr>\n",
       "      <th>sys_len</th>\n",
       "      <td>191</td>\n",
       "    </tr>\n",
       "    <tr>\n",
       "      <th>ref_len</th>\n",
       "      <td>233</td>\n",
       "    </tr>\n",
       "  </tbody>\n",
       "</table>\n",
       "</div>"
      ],
      "text/plain": [
       "                                 Value\n",
       "score                         8.109589\n",
       "counts                 [70, 24, 10, 8]\n",
       "totals            [191, 190, 189, 188]\n",
       "precisions  [36.65, 12.63, 5.29, 4.26]\n",
       "bp                            0.802603\n",
       "sys_len                            191\n",
       "ref_len                            233"
      ]
     },
     "execution_count": 29,
     "metadata": {},
     "output_type": "execute_result"
    }
   ],
   "source": [
    "bleu_metric = load_metric(\"sacrebleu\")\n",
    "\n",
    "bleu_metric.add(\n",
    "    prediction=src_input, reference=reference)\n",
    "results = bleu_metric.compute(smooth_method=\"floor\", smooth_value=0)\n",
    "results[\"precisions\"] = [np.round(p, 2) for p in results[\"precisions\"]]\n",
    "pd.DataFrame.from_dict(results, orient=\"index\", columns=[\"Value\"])"
   ]
  },
  {
   "cell_type": "code",
   "execution_count": null,
   "id": "a1ff4517",
   "metadata": {},
   "outputs": [],
   "source": []
  }
 ],
 "metadata": {
  "kernelspec": {
   "display_name": "Python 3 (ipykernel)",
   "language": "python",
   "name": "python3"
  },
  "language_info": {
   "codemirror_mode": {
    "name": "ipython",
    "version": 3
   },
   "file_extension": ".py",
   "mimetype": "text/x-python",
   "name": "python",
   "nbconvert_exporter": "python",
   "pygments_lexer": "ipython3",
   "version": "3.9.7"
  }
 },
 "nbformat": 4,
 "nbformat_minor": 5
}
