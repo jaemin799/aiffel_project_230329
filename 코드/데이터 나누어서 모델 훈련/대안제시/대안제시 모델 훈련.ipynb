{
 "cells": [
  {
   "cell_type": "markdown",
   "id": "edbac7e1",
   "metadata": {},
   "source": [
    "# 알집 풀기"
   ]
  },
  {
   "cell_type": "code",
   "execution_count": 7,
   "id": "b1c56165",
   "metadata": {},
   "outputs": [],
   "source": [
    "from zipfile import ZipFile\n",
    "\n",
    "with ZipFile(\"soa_train.zip\", 'r') as zip:\n",
    "    zip.extractall(\"train\")"
   ]
  },
  {
   "cell_type": "code",
   "execution_count": 8,
   "id": "e7dc7381",
   "metadata": {},
   "outputs": [],
   "source": [
    "with ZipFile(\"sos_test.zip\", \"r\") as zip:\n",
    "    zip.extractall(\"test\")"
   ]
  },
  {
   "cell_type": "markdown",
   "id": "edd78291",
   "metadata": {},
   "source": [
    "# 데이터 불러오기"
   ]
  },
  {
   "cell_type": "code",
   "execution_count": 9,
   "id": "e6ece9c7",
   "metadata": {},
   "outputs": [
    {
     "name": "stdout",
     "output_type": "stream",
     "text": [
      "['/aiffel/aiffel/aiffel_project/Suggestion_of_alternative/train/┤δ╛╚┴ª╜├/┤δ╛╚┴ª╜├_┴▀╡ε_1╟╨│Γ_ESSAY_69269.json', '/aiffel/aiffel/aiffel_project/Suggestion_of_alternative/train/┤δ╛╚┴ª╜├/┤δ╛╚┴ª╜├_┴▀╡ε_1╟╨│Γ_ESSAY_66045.json', '/aiffel/aiffel/aiffel_project/Suggestion_of_alternative/train/┤δ╛╚┴ª╜├/┤δ╛╚┴ª╜├_┴▀╡ε_1╟╨│Γ_ESSAY_66651.json', '/aiffel/aiffel/aiffel_project/Suggestion_of_alternative/train/┤δ╛╚┴ª╜├/┤δ╛╚┴ª╜├_┴▀╡ε_2╟╨│Γ_ESSAY_81801.json', '/aiffel/aiffel/aiffel_project/Suggestion_of_alternative/train/┤δ╛╚┴ª╜├/┤δ╛╚┴ª╜├_┴▀╡ε_1╟╨│Γ_ESSAY_44096.json', '/aiffel/aiffel/aiffel_project/Suggestion_of_alternative/train/┤δ╛╚┴ª╜├/┤δ╛╚┴ª╜├_┴▀╡ε_1╟╨│Γ_ESSAY_66049.json', '/aiffel/aiffel/aiffel_project/Suggestion_of_alternative/train/┤δ╛╚┴ª╜├/┤δ╛╚┴ª╜├_░φ╡ε_1╟╨│Γ_ESSAY_40873.json', '/aiffel/aiffel/aiffel_project/Suggestion_of_alternative/train/┤δ╛╚┴ª╜├/┤δ╛╚┴ª╜├_┴▀╡ε_2╟╨│Γ_ESSAY_85151.json', '/aiffel/aiffel/aiffel_project/Suggestion_of_alternative/train/┤δ╛╚┴ª╜├/┤δ╛╚┴ª╜├_┴▀╡ε_1╟╨│Γ_ESSAY_69225.json', '/aiffel/aiffel/aiffel_project/Suggestion_of_alternative/train/┤δ╛╚┴ª╜├/┤δ╛╚┴ª╜├_┴▀╡ε_2╟╨│Γ_ESSAY_74478.json']\n"
     ]
    }
   ],
   "source": [
    "import os\n",
    "import glob\n",
    "\n",
    "train_dir = os.getenv(\"HOME\") + \"/aiffel/aiffel_project/Suggestion_of_alternative/train/┤δ╛╚┴ª╜├/*\"\n",
    "train_list = glob.glob(train_dir)\n",
    "\n",
    "print(train_list[:10])"
   ]
  },
  {
   "cell_type": "code",
   "execution_count": 11,
   "id": "5747b772",
   "metadata": {},
   "outputs": [
    {
     "name": "stdout",
     "output_type": "stream",
     "text": [
      "['/aiffel/aiffel/aiffel_project/Suggestion_of_alternative/test/┤δ╛╚┴ª╜├/┤δ╛╚┴ª╜├_┴▀╡ε_1╟╨│Γ_ESSAY_76476.json', '/aiffel/aiffel/aiffel_project/Suggestion_of_alternative/test/┤δ╛╚┴ª╜├/┤δ╛╚┴ª╜├_┴▀╡ε_1╟╨│Γ_ESSAY_59934.json', '/aiffel/aiffel/aiffel_project/Suggestion_of_alternative/test/┤δ╛╚┴ª╜├/┤δ╛╚┴ª╜├_░φ╡ε_2╟╨│Γ_ESSAY_86269.json', '/aiffel/aiffel/aiffel_project/Suggestion_of_alternative/test/┤δ╛╚┴ª╜├/┤δ╛╚┴ª╜├_░φ╡ε_2╟╨│Γ_ESSAY_86500.json', '/aiffel/aiffel/aiffel_project/Suggestion_of_alternative/test/┤δ╛╚┴ª╜├/┤δ╛╚┴ª╜├_░φ╡ε_1╟╨│Γ_ESSAY_62998.json', '/aiffel/aiffel/aiffel_project/Suggestion_of_alternative/test/┤δ╛╚┴ª╜├/┤δ╛╚┴ª╜├_┴▀╡ε_2╟╨│Γ_ESSAY_72590.json', '/aiffel/aiffel/aiffel_project/Suggestion_of_alternative/test/┤δ╛╚┴ª╜├/┤δ╛╚┴ª╜├_┴▀╡ε_1╟╨│Γ_ESSAY_65492.json', '/aiffel/aiffel/aiffel_project/Suggestion_of_alternative/test/┤δ╛╚┴ª╜├/┤δ╛╚┴ª╜├_┴▀╡ε_3╟╨│Γ_ESSAY_52298.json', '/aiffel/aiffel/aiffel_project/Suggestion_of_alternative/test/┤δ╛╚┴ª╜├/┤δ╛╚┴ª╜├_┴▀╡ε_2╟╨│Γ_ESSAY_58412.json', '/aiffel/aiffel/aiffel_project/Suggestion_of_alternative/test/┤δ╛╚┴ª╜├/┤δ╛╚┴ª╜├_░φ╡ε_2╟╨│Γ_ESSAY_86278.json']\n"
     ]
    }
   ],
   "source": [
    "test_dir = os.getenv(\"HOME\") + \"/aiffel/aiffel_project/Suggestion_of_alternative/test/┤δ╛╚┴ª╜├/*\"\n",
    "test_list = glob.glob(test_dir)\n",
    "\n",
    "print(test_list[:10])"
   ]
  },
  {
   "cell_type": "markdown",
   "id": "a805fdcd",
   "metadata": {},
   "source": [
    "# 데이터 전처리"
   ]
  },
  {
   "cell_type": "code",
   "execution_count": 12,
   "id": "1f4cdf4c",
   "metadata": {},
   "outputs": [
    {
     "name": "stdout",
     "output_type": "stream",
     "text": [
      "['저희 대한민국의 한류문화를 중국으로부터 지키기 위해서는 강력한 맞대응을 해야한다고 생각합니다. 우리나라 높은 분들은 마음이 약한 것인지 중국이 저렇게 버릇없게 나오는데도 아무런 대응을 하지 못하고 국민들에게 의존하고 있습니다. 국민들은 열불을 내면서 중국을 비판하고 뭐라하는데 막상 나라의 높은 사람들이 가만히 있으니까 중국이 더 판을 치는 것 같습니다. 중국으로부터 우리나라의 전통 문화를 지키기 위해서는 중국의 것이 아닌 우리나라의 전통 문화라는 것을 제 3의 나라에 사는 사람들에게 인증시켜주어야 한다고 생각합니다. 예를 들어 우리나라 사람들이 중국 사람들보다 더예전부터 김치를 만들고, 또 먹었다는 증거가 담긴 역사서나 이런 것들을 포함한 영상을 만들어서 방송 또는 전세계 사람들이 즐겨보는 유튜브를 이용하여 퍼트린다면 금방 중국을 제외한 전세계 사람들을 우리 편으로 만들 수 있을 것 같습니다. 그렇다면 중국도 다른 나라 사람들이 자신들을 향해 비판하는 것은 무섭기 때문에 더이상 억지 부리지 않고 우리나라의 전통 문화를  지킬 수 있을 것 같습니다.', '요즘 중국의 억지주장이 많아 지는 것을 어느 정도는 알고 있었지만 방송에서까지 한류가 자신들의 문화라고 주장할 정도로 심한지는 몰랐다. 나처럼 모르는 사람도 많을 것이기 때문에 여러 사람들에게 알려야 한다. 이것이 내가 생각한 첫번째 해결책이다. 두번째로 내가 생각한 해결책은 중국인을 설득 하는 것이다. 한류가 우리나라 문화 인것을 알고 일부러 우리나라의 문화를 동북공정을 위해 뺏을려고 할 수도 있지만 정말로 한류가 자신들의 문화라고 믿는 사람들도 있을 수 있다. 그렇다면 그런 사람들을비판하는 것이 아니라 설득해야 될 수 있다고 생각한다. 세번째해결책은 첫번째와 비슷한 해결방법이다. 첫번째해결책과 같은 경우에는 우리나라 사람에게 알려준다고 치면, 세번째 방법은 외국인에게 알려주는 것이다. 중국인들이 SNS와 같은 곳에 한류가 자신들의 문화라고 주장하기도 하고 그런 글이 많기때문에 외국인들이 중국인들의 억지주장을 믿는 외국인들이 많아 질 수 있다. 그런 것들을 막기위해서는 외국인들에게 한류가 우리나라 문화라는 것을 알려아 한다. 마지막으로 나는 이와같은 해결책으로 중국인들이 억지주장들을 막아야 된다고 생각한다. 또한 그럴리는 없겠지만, 중국인들을 억지주장을 믿지말고 한류가 누구의 것인지 모두가 알게끔 해야 한다. 한류는 한국한(韓)에 흐를류(流)자다.', \"한류를 가장 잘 알리고 지킬 수 있는 방법으로 많은 사람들이 드라마나 영화 등 미디어 제작이라고 말한다. 이 의견에 동의하는 바이지만 광범위한 사람들에게 잘못된 정보를 전달해 줄 수 있기에 더 조심해야 한다고 본다. 요즈음 계속 논란되는 콘텐츠로 '설강화'가 있다. 이는 한국의 광주 민주화 운동에 대한 비난으로 국내 여론이 악화되자 해외의 서비스를 이용해서 방영하기로 한 작품이다. 그러한 내용이 아니라고 제작사측에서는 지속적으로 해명해왔지만 이미 드러난 줄거리와 계속 고쳐진 역할과 내용이 이미 그 왜곡된 사실을 보여주고 있다. 아마도 이 작품의 수출로 많은 외국인들이 우리나라에 대한 잘못된 역사인식을 계속해서 가지고 갈 것이다. 아직 오래 지나지 않은 독재 정권의 내용을 다루었는데 그것이 잘못 왜곡되어 수출되어 많은 사람들에게 보이는 것에 대해서 미디어 제작의 민감성을 더 유의해야 한다고 생각한다. 잘못된 컨텐츠 대신 좋은 컨텐츠들이 많아져 한국에 대해 널리 알릴 수 있는 기회가 된다고 생각한다.\"]\n"
     ]
    }
   ],
   "source": [
    "import json\n",
    "\n",
    "corpus = []\n",
    "\n",
    "for file in train_list:\n",
    "    with open(file, 'r') as f:\n",
    "        json_file = json.load(f)\n",
    "        only_txt = json_file['essay_txt']\n",
    "        only_txt = only_txt.replace(\"#@문장구분#\", \"\")\n",
    "        only_txt = only_txt.replace(\"\\n\", \"\")\n",
    "        only_txt = only_txt.replace(\"\\b\", \"\")\n",
    "        corpus.append(only_txt)\n",
    "        \n",
    "print(corpus[:3])"
   ]
  },
  {
   "cell_type": "code",
   "execution_count": 13,
   "id": "7a10a17e",
   "metadata": {},
   "outputs": [
    {
     "name": "stdout",
     "output_type": "stream",
     "text": [
      "저희 대한민국의 한류문화를 중국으로부터 지키기 위해서는 강력한 맞대응을 해야한다고 생각합니다. 우리나라 높은 분들은 마음이 약한 것인지 중국이 저렇게 버릇없게 나오는데도 아무런 대\n"
     ]
    }
   ],
   "source": [
    "train_data = ' '.join(map(str, corpus))\n",
    "print(train_data[:100])"
   ]
  },
  {
   "cell_type": "code",
   "execution_count": 14,
   "id": "652e92f8",
   "metadata": {},
   "outputs": [
    {
     "name": "stdout",
     "output_type": "stream",
     "text": [
      "한국의 몇몇 연예인들은 동북공정을 인정하지 않고 sns와 해외 방송등 에서 김장을 하거나 한복을 입고, 한국의 문화와 전통은 대한민국의 것이라고 주장한다. 이러하듯이 우리들도 우리가 쉽게 접할수 있는 sns로 한국의 문화와 전통을 세계에 알려 중국의 동북공정을 실패로 돌아가게 해야한다. 또 국제적인 자리나 세계가 주목하는 회담 또는 올림픽 대회때 한국의 문화는 한반도에서 시작해 중국 지역까지 뻤쳐 나간 것이라는 증거를 밣켜 중국이 동북공정으로 우리 대한민국의 문화를 자신들의 것이라고 우기고 있다고, 알려 이 이야기가 세계에 확산화가 돼면 un과 다른 국제 기관에 도움을 받아 동북공정은 한국의 문화와 전통을 빼앗을려 하고, 고구려, 발해의 문화가 자신들의 것이라고 우기는 중국에게 논리있게 아니라고 밝히면 우리 한류문화 열풍을 지켜낼수 있다고 생각한다.\n"
     ]
    }
   ],
   "source": [
    "corpus = []\n",
    "\n",
    "for file in test_list:\n",
    "    with open(file, 'r') as f:\n",
    "        json_file = json.load(f)\n",
    "        only_txt = json_file[\"essay_txt\"]\n",
    "        only_txt = only_txt.replace(\"#@문장구분#\", \"\")\n",
    "        only_txt = only_txt.replace(\"\\n\", \"\")\n",
    "        only_txt = only_txt.replace(\"\\b\", \"\")\n",
    "        corpus.append(only_txt)\n",
    "        \n",
    "print(corpus[0])"
   ]
  },
  {
   "cell_type": "code",
   "execution_count": 15,
   "id": "c58feecf",
   "metadata": {},
   "outputs": [
    {
     "name": "stdout",
     "output_type": "stream",
     "text": [
      "한국의 몇몇 연예인들은 동북공정을 인정하지 않고 sns와 해외 방송등 에서 김장을 하거나 한복을 입고, 한국의 문화와 전통은 대한민국의 것이라고 주장한다. 이러하듯이 우리들도 우리\n"
     ]
    }
   ],
   "source": [
    "test_data = ' '.join(map(str, corpus))\n",
    "print(test_data[:100])"
   ]
  },
  {
   "cell_type": "markdown",
   "id": "1363e904",
   "metadata": {},
   "source": [
    "# 프리트레인 모델 불러오기"
   ]
  },
  {
   "cell_type": "code",
   "execution_count": 16,
   "id": "cd0aba95",
   "metadata": {},
   "outputs": [
    {
     "name": "stderr",
     "output_type": "stream",
     "text": [
      "The tokenizer class you load from this checkpoint is not the same type as the class this function is called from. It may result in unexpected tokenization. \n",
      "The tokenizer class you load from this checkpoint is 'GPT2Tokenizer'. \n",
      "The class this function is called from is 'PreTrainedTokenizerFast'.\n",
      "/opt/conda/lib/python3.9/site-packages/transformers/models/auto/modeling_auto.py:660: FutureWarning: The class `AutoModelWithLMHead` is deprecated and will be removed in a future version. Please use `AutoModelForCausalLM` for causal language models, `AutoModelForMaskedLM` for masked language models and `AutoModelForSeq2SeqLM` for encoder-decoder models.\n",
      "  warnings.warn(\n"
     ]
    }
   ],
   "source": [
    "from transformers import AutoModelWithLMHead, PreTrainedTokenizerFast\n",
    "\n",
    "tokenizer = PreTrainedTokenizerFast.from_pretrained(\"skt/kogpt2-base-v2\",\n",
    "                                                   bos_token=\"</s>\",\n",
    "                                                   eos_token=\"</s>\",\n",
    "                                                   unk_token=\"<unk>\",\n",
    "                                                   pad_token=\"<pad>\",\n",
    "                                                   mask_token=\"<mask>\")\n",
    "\n",
    "model = AutoModelWithLMHead.from_pretrained(\"skt/kogpt2-base-v2\")"
   ]
  },
  {
   "cell_type": "markdown",
   "id": "a69eb7a6",
   "metadata": {},
   "source": [
    "# 토큰화 작업"
   ]
  },
  {
   "cell_type": "code",
   "execution_count": 17,
   "id": "56e4df13",
   "metadata": {},
   "outputs": [
    {
     "name": "stdout",
     "output_type": "stream",
     "text": [
      "Requirement already satisfied: fastai in /opt/conda/lib/python3.9/site-packages (2.7.11)\n",
      "Requirement already satisfied: pillow>6.0.0 in /opt/conda/lib/python3.9/site-packages (from fastai) (8.3.2)\n",
      "Requirement already satisfied: torch<1.14,>=1.7 in /opt/conda/lib/python3.9/site-packages (from fastai) (1.9.1+cu111)\n",
      "Requirement already satisfied: fastprogress>=0.2.4 in /opt/conda/lib/python3.9/site-packages (from fastai) (1.0.3)\n",
      "Requirement already satisfied: pandas in /opt/conda/lib/python3.9/site-packages (from fastai) (1.3.3)\n",
      "Requirement already satisfied: matplotlib in /opt/conda/lib/python3.9/site-packages (from fastai) (3.4.3)\n",
      "Requirement already satisfied: scipy in /opt/conda/lib/python3.9/site-packages (from fastai) (1.7.1)\n",
      "Requirement already satisfied: requests in /opt/conda/lib/python3.9/site-packages (from fastai) (2.26.0)\n",
      "Requirement already satisfied: pyyaml in /opt/conda/lib/python3.9/site-packages (from fastai) (6.0)\n",
      "Requirement already satisfied: fastdownload<2,>=0.0.5 in /opt/conda/lib/python3.9/site-packages (from fastai) (0.0.7)\n",
      "Requirement already satisfied: torchvision>=0.8.2 in /opt/conda/lib/python3.9/site-packages (from fastai) (0.10.1+cu111)\n",
      "Requirement already satisfied: fastcore<1.6,>=1.4.5 in /opt/conda/lib/python3.9/site-packages (from fastai) (1.5.28)\n",
      "Requirement already satisfied: spacy<4 in /opt/conda/lib/python3.9/site-packages (from fastai) (3.5.1)\n",
      "Requirement already satisfied: packaging in /opt/conda/lib/python3.9/site-packages (from fastai) (21.3)\n",
      "Requirement already satisfied: pip in /opt/conda/lib/python3.9/site-packages (from fastai) (21.3.1)\n",
      "Requirement already satisfied: scikit-learn in /opt/conda/lib/python3.9/site-packages (from fastai) (1.0)\n",
      "Requirement already satisfied: cymem<2.1.0,>=2.0.2 in /opt/conda/lib/python3.9/site-packages (from spacy<4->fastai) (2.0.7)\n",
      "Requirement already satisfied: spacy-loggers<2.0.0,>=1.0.0 in /opt/conda/lib/python3.9/site-packages (from spacy<4->fastai) (1.0.4)\n",
      "Requirement already satisfied: spacy-legacy<3.1.0,>=3.0.11 in /opt/conda/lib/python3.9/site-packages (from spacy<4->fastai) (3.0.12)\n",
      "Requirement already satisfied: jinja2 in /opt/conda/lib/python3.9/site-packages (from spacy<4->fastai) (3.0.3)\n",
      "Requirement already satisfied: tqdm<5.0.0,>=4.38.0 in /opt/conda/lib/python3.9/site-packages (from spacy<4->fastai) (4.62.3)\n",
      "Requirement already satisfied: wasabi<1.2.0,>=0.9.1 in /opt/conda/lib/python3.9/site-packages (from spacy<4->fastai) (1.1.1)\n",
      "Requirement already satisfied: setuptools in /opt/conda/lib/python3.9/site-packages (from spacy<4->fastai) (59.4.0)\n",
      "Requirement already satisfied: pydantic!=1.8,!=1.8.1,<1.11.0,>=1.7.4 in /opt/conda/lib/python3.9/site-packages (from spacy<4->fastai) (1.10.6)\n",
      "Requirement already satisfied: murmurhash<1.1.0,>=0.28.0 in /opt/conda/lib/python3.9/site-packages (from spacy<4->fastai) (1.0.9)\n",
      "Requirement already satisfied: srsly<3.0.0,>=2.4.3 in /opt/conda/lib/python3.9/site-packages (from spacy<4->fastai) (2.4.6)\n",
      "Requirement already satisfied: typer<0.8.0,>=0.3.0 in /opt/conda/lib/python3.9/site-packages (from spacy<4->fastai) (0.7.0)\n",
      "Requirement already satisfied: pathy>=0.10.0 in /opt/conda/lib/python3.9/site-packages (from spacy<4->fastai) (0.10.1)\n",
      "Requirement already satisfied: numpy>=1.15.0 in /opt/conda/lib/python3.9/site-packages (from spacy<4->fastai) (1.21.4)\n",
      "Requirement already satisfied: catalogue<2.1.0,>=2.0.6 in /opt/conda/lib/python3.9/site-packages (from spacy<4->fastai) (2.0.8)\n",
      "Requirement already satisfied: preshed<3.1.0,>=3.0.2 in /opt/conda/lib/python3.9/site-packages (from spacy<4->fastai) (3.0.8)\n",
      "Requirement already satisfied: thinc<8.2.0,>=8.1.8 in /opt/conda/lib/python3.9/site-packages (from spacy<4->fastai) (8.1.9)\n",
      "Requirement already satisfied: smart-open<7.0.0,>=5.2.1 in /opt/conda/lib/python3.9/site-packages (from spacy<4->fastai) (5.2.1)\n",
      "Requirement already satisfied: langcodes<4.0.0,>=3.2.0 in /opt/conda/lib/python3.9/site-packages (from spacy<4->fastai) (3.3.0)\n",
      "Requirement already satisfied: pyparsing!=3.0.5,>=2.0.2 in /opt/conda/lib/python3.9/site-packages (from packaging->fastai) (3.0.6)\n",
      "Requirement already satisfied: charset-normalizer~=2.0.0 in /opt/conda/lib/python3.9/site-packages (from requests->fastai) (2.0.8)\n",
      "Requirement already satisfied: urllib3<1.27,>=1.21.1 in /opt/conda/lib/python3.9/site-packages (from requests->fastai) (1.26.7)\n",
      "Requirement already satisfied: idna<4,>=2.5 in /opt/conda/lib/python3.9/site-packages (from requests->fastai) (2.10)\n",
      "Requirement already satisfied: certifi>=2017.4.17 in /opt/conda/lib/python3.9/site-packages (from requests->fastai) (2021.10.8)\n",
      "Requirement already satisfied: typing-extensions in /opt/conda/lib/python3.9/site-packages (from torch<1.14,>=1.7->fastai) (4.5.0)\n",
      "Requirement already satisfied: cycler>=0.10 in /opt/conda/lib/python3.9/site-packages (from matplotlib->fastai) (0.11.0)\n",
      "Requirement already satisfied: kiwisolver>=1.0.1 in /opt/conda/lib/python3.9/site-packages (from matplotlib->fastai) (1.3.2)\n",
      "Requirement already satisfied: python-dateutil>=2.7 in /opt/conda/lib/python3.9/site-packages (from matplotlib->fastai) (2.8.2)\n",
      "Requirement already satisfied: pytz>=2017.3 in /opt/conda/lib/python3.9/site-packages (from pandas->fastai) (2021.3)\n",
      "Requirement already satisfied: threadpoolctl>=2.0.0 in /opt/conda/lib/python3.9/site-packages (from scikit-learn->fastai) (3.0.0)\n",
      "Requirement already satisfied: joblib>=0.11 in /opt/conda/lib/python3.9/site-packages (from scikit-learn->fastai) (1.1.0)\n",
      "Requirement already satisfied: six>=1.5 in /opt/conda/lib/python3.9/site-packages (from python-dateutil>=2.7->matplotlib->fastai) (1.16.0)\n",
      "Requirement already satisfied: blis<0.8.0,>=0.7.8 in /opt/conda/lib/python3.9/site-packages (from thinc<8.2.0,>=8.1.8->spacy<4->fastai) (0.7.9)\n",
      "Requirement already satisfied: confection<1.0.0,>=0.0.1 in /opt/conda/lib/python3.9/site-packages (from thinc<8.2.0,>=8.1.8->spacy<4->fastai) (0.0.4)\n",
      "Requirement already satisfied: click<9.0.0,>=7.1.1 in /opt/conda/lib/python3.9/site-packages (from typer<0.8.0,>=0.3.0->spacy<4->fastai) (8.0.3)\n",
      "Requirement already satisfied: MarkupSafe>=2.0 in /opt/conda/lib/python3.9/site-packages (from jinja2->spacy<4->fastai) (2.0.1)\n",
      "\u001b[33mWARNING: Running pip as the 'root' user can result in broken permissions and conflicting behaviour with the system package manager. It is recommended to use a virtual environment instead: https://pip.pypa.io/warnings/venv\u001b[0m\n"
     ]
    }
   ],
   "source": [
    "!pip install fastai"
   ]
  },
  {
   "cell_type": "code",
   "execution_count": 18,
   "id": "6ec6dc55",
   "metadata": {},
   "outputs": [],
   "source": [
    "from fastai.text.all import *"
   ]
  },
  {
   "cell_type": "code",
   "execution_count": 19,
   "id": "cc7eee2e",
   "metadata": {},
   "outputs": [],
   "source": [
    "class TransformersTokenizer(Transform):\n",
    "    def __init__(self, tokenizer):\n",
    "        self.tokenizer = tokenizer\n",
    "    def encodes(self, x):\n",
    "        toks = self.tokenizer.tokenize(x)\n",
    "        return tensor(self.tokenizer.convert_tokens_to_ids(toks))\n",
    "    def decodes(self, x):\n",
    "        return TitledStr(self.tokenizer.decode(x.cpu().numpy()))"
   ]
  },
  {
   "cell_type": "code",
   "execution_count": 20,
   "id": "75ca8651",
   "metadata": {},
   "outputs": [],
   "source": [
    "splits = [[0], [1]]\n",
    "\n",
    "tls = TfmdLists([train_data, test_data], TransformersTokenizer(tokenizer),\n",
    "               splits=splits, dl_type=LMDataLoader)\n",
    "batch, seq_len = 8, 256\n",
    "dls = tls.dataloaders(bs=batch, seq_len=seq_len)"
   ]
  },
  {
   "cell_type": "markdown",
   "id": "fca009ac",
   "metadata": {},
   "source": [
    "# 모델 훈련"
   ]
  },
  {
   "cell_type": "code",
   "execution_count": 21,
   "id": "42f8db24",
   "metadata": {},
   "outputs": [
    {
     "data": {
      "text/html": [
       "\n",
       "<style>\n",
       "    /* Turns off some styling */\n",
       "    progress {\n",
       "        /* gets rid of default border in Firefox and Opera. */\n",
       "        border: none;\n",
       "        /* Needs to be in here for Safari polyfill so background images work as expected. */\n",
       "        background-size: auto;\n",
       "    }\n",
       "    progress:not([value]), progress:not([value])::-webkit-progress-bar {\n",
       "        background: repeating-linear-gradient(45deg, #7e7e7e, #7e7e7e 10px, #5c5c5c 10px, #5c5c5c 20px);\n",
       "    }\n",
       "    .progress-bar-interrupted, .progress-bar-interrupted::-webkit-progress-bar {\n",
       "        background: #F44336;\n",
       "    }\n",
       "</style>\n"
      ],
      "text/plain": [
       "<IPython.core.display.HTML object>"
      ]
     },
     "metadata": {},
     "output_type": "display_data"
    },
    {
     "data": {
      "text/html": [],
      "text/plain": [
       "<IPython.core.display.HTML object>"
      ]
     },
     "metadata": {},
     "output_type": "display_data"
    },
    {
     "name": "stdout",
     "output_type": "stream",
     "text": [
      "SuggestedLRs(valley=3.630780702224001e-05)\n"
     ]
    },
    {
     "data": {
      "text/html": [
       "\n",
       "<style>\n",
       "    /* Turns off some styling */\n",
       "    progress {\n",
       "        /* gets rid of default border in Firefox and Opera. */\n",
       "        border: none;\n",
       "        /* Needs to be in here for Safari polyfill so background images work as expected. */\n",
       "        background-size: auto;\n",
       "    }\n",
       "    progress:not([value]), progress:not([value])::-webkit-progress-bar {\n",
       "        background: repeating-linear-gradient(45deg, #7e7e7e, #7e7e7e 10px, #5c5c5c 10px, #5c5c5c 20px);\n",
       "    }\n",
       "    .progress-bar-interrupted, .progress-bar-interrupted::-webkit-progress-bar {\n",
       "        background: #F44336;\n",
       "    }\n",
       "</style>\n"
      ],
      "text/plain": [
       "<IPython.core.display.HTML object>"
      ]
     },
     "metadata": {},
     "output_type": "display_data"
    },
    {
     "data": {
      "text/html": [
       "<table border=\"1\" class=\"dataframe\">\n",
       "  <thead>\n",
       "    <tr style=\"text-align: left;\">\n",
       "      <th>epoch</th>\n",
       "      <th>train_loss</th>\n",
       "      <th>valid_loss</th>\n",
       "      <th>perplexity</th>\n",
       "      <th>time</th>\n",
       "    </tr>\n",
       "  </thead>\n",
       "  <tbody>\n",
       "    <tr>\n",
       "      <td>0</td>\n",
       "      <td>5.283305</td>\n",
       "      <td>5.615593</td>\n",
       "      <td>274.676208</td>\n",
       "      <td>03:43</td>\n",
       "    </tr>\n",
       "  </tbody>\n",
       "</table>"
      ],
      "text/plain": [
       "<IPython.core.display.HTML object>"
      ]
     },
     "metadata": {},
     "output_type": "display_data"
    },
    {
     "data": {
      "text/html": [
       "\n",
       "<style>\n",
       "    /* Turns off some styling */\n",
       "    progress {\n",
       "        /* gets rid of default border in Firefox and Opera. */\n",
       "        border: none;\n",
       "        /* Needs to be in here for Safari polyfill so background images work as expected. */\n",
       "        background-size: auto;\n",
       "    }\n",
       "    progress:not([value]), progress:not([value])::-webkit-progress-bar {\n",
       "        background: repeating-linear-gradient(45deg, #7e7e7e, #7e7e7e 10px, #5c5c5c 10px, #5c5c5c 20px);\n",
       "    }\n",
       "    .progress-bar-interrupted, .progress-bar-interrupted::-webkit-progress-bar {\n",
       "        background: #F44336;\n",
       "    }\n",
       "</style>\n"
      ],
      "text/plain": [
       "<IPython.core.display.HTML object>"
      ]
     },
     "metadata": {},
     "output_type": "display_data"
    },
    {
     "data": {
      "text/html": [
       "<table border=\"1\" class=\"dataframe\">\n",
       "  <thead>\n",
       "    <tr style=\"text-align: left;\">\n",
       "      <th>epoch</th>\n",
       "      <th>train_loss</th>\n",
       "      <th>valid_loss</th>\n",
       "      <th>perplexity</th>\n",
       "      <th>time</th>\n",
       "    </tr>\n",
       "  </thead>\n",
       "  <tbody>\n",
       "    <tr>\n",
       "      <td>0</td>\n",
       "      <td>4.026889</td>\n",
       "      <td>5.029220</td>\n",
       "      <td>152.813721</td>\n",
       "      <td>03:44</td>\n",
       "    </tr>\n",
       "    <tr>\n",
       "      <td>1</td>\n",
       "      <td>3.714123</td>\n",
       "      <td>5.034615</td>\n",
       "      <td>153.640442</td>\n",
       "      <td>03:44</td>\n",
       "    </tr>\n",
       "    <tr>\n",
       "      <td>2</td>\n",
       "      <td>2.948321</td>\n",
       "      <td>5.056773</td>\n",
       "      <td>157.082825</td>\n",
       "      <td>03:43</td>\n",
       "    </tr>\n",
       "    <tr>\n",
       "      <td>3</td>\n",
       "      <td>2.031770</td>\n",
       "      <td>5.205570</td>\n",
       "      <td>182.284790</td>\n",
       "      <td>03:42</td>\n",
       "    </tr>\n",
       "    <tr>\n",
       "      <td>4</td>\n",
       "      <td>1.395022</td>\n",
       "      <td>5.194819</td>\n",
       "      <td>180.335495</td>\n",
       "      <td>03:45</td>\n",
       "    </tr>\n",
       "  </tbody>\n",
       "</table>"
      ],
      "text/plain": [
       "<IPython.core.display.HTML object>"
      ]
     },
     "metadata": {},
     "output_type": "display_data"
    },
    {
     "data": {
      "image/png": "[encoded data removed]",
      "text/plain": [
       "<Figure size 432x288 with 1 Axes>"
      ]
     },
     "metadata": {
      "needs_background": "light"
     },
     "output_type": "display_data"
    }
   ],
   "source": [
    "class DropOutput(Callback):\n",
    "    def after_pred(self):\n",
    "        self.learn.pred = self.pred[0]\n",
    "        \n",
    "learn = Learner(dls, model, loss_func=CrossEntropyLossFlat(),\n",
    "                cbs=[DropOutput], metrics=Perplexity()).to_fp16()\n",
    "lr = learn.lr_find()\n",
    "print(lr)\n",
    "learn.fine_tune(5)"
   ]
  },
  {
   "cell_type": "code",
   "execution_count": 22,
   "id": "70affc30",
   "metadata": {},
   "outputs": [
    {
     "data": {
      "text/plain": [
       "'한국의 몇몇 연예인들은 동북공정을 인정하지 않고 sns와 해외 방송등 에서 김장을 하거나 한복을 입고, 비빔밥, 쌈문화 등을 중국 소수민족의 문화로 편입시키려 하고 있습니다. 이런 일이 일어나는 것을 막기위해서는 한국이 중국과 우리나라 사이에 문화와 전통을 알려야합니다. 그리고 UN이나 국제적인 기관에 중국의 억지주장에대해서 호소하는 것도 좋은 방법입니다. 왜냐하면 인터넷에서 중국이 우리의 문화를 자기네 것이라고 우기고 있다는 기사를 본 적이 있기 때문이기 때문이죠. 그래서 저는 이러한 문제를 해결하기 위해서는 우리 문화에 대한 교육을 더욱 더 많이 해야한다고 생각됩니다. 예를 들어 독도가 우리나라의 땅이라는 증거들을 보여주고 알리면 우리가 할 수 있는 것들을'"
      ]
     },
     "execution_count": 22,
     "metadata": {},
     "output_type": "execute_result"
    }
   ],
   "source": [
    "prompt=\"한국의 몇몇 연예인들은 동북공정을 인정하지 않고 sns와 해외 방송등 에서 김장을 하거나 한복을 입고,\"\n",
    "prompt_ids = tokenizer.encode(prompt)\n",
    "inp = tensor(prompt_ids)[None].cuda()\n",
    "preds = learn.model.generate(inp,\n",
    "                           max_length=128,\n",
    "                           pad_token_id=tokenizer.pad_token_id,\n",
    "                           eos_token_id=tokenizer.eos_token_id,\n",
    "                           bos_token_id=tokenizer.bos_token_id,\n",
    "                           repetition_penalty=2.0,       \n",
    "                           use_cache=True\n",
    "                          ) \n",
    "tokenizer.decode(preds[0].cpu().numpy())"
   ]
  },
  {
   "cell_type": "code",
   "execution_count": 23,
   "id": "b7966cbf",
   "metadata": {},
   "outputs": [],
   "source": [
    "import pickle\n",
    "\n",
    "with open('soa_model.pkl', 'wb') as file:\n",
    "    pickle.dump(learn, file)"
   ]
  }
 ],
 "metadata": {
  "kernelspec": {
   "display_name": "Python 3 (ipykernel)",
   "language": "python",
   "name": "python3"
  },
  "language_info": {
   "codemirror_mode": {
    "name": "ipython",
    "version": 3
   },
   "file_extension": ".py",
   "mimetype": "text/x-python",
   "name": "python",
   "nbconvert_exporter": "python",
   "pygments_lexer": "ipython3",
   "version": "3.9.7"
  }
 },
 "nbformat": 4,
 "nbformat_minor": 5
}
