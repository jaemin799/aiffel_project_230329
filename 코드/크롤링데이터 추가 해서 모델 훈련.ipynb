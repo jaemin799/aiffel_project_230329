{
 "cells": [
  {
   "cell_type": "markdown",
   "id": "396d2bc8",
   "metadata": {},
   "source": [
    "# 훈련 데이터"
   ]
  },
  {
   "cell_type": "code",
   "execution_count": 1,
   "id": "decf364f",
   "metadata": {},
   "outputs": [],
   "source": [
    "import os\n",
    "import glob"
   ]
  },
  {
   "cell_type": "code",
   "execution_count": 4,
   "id": "30ec888c",
   "metadata": {},
   "outputs": [],
   "source": [
    "train_dir = os.getenv(\"HOME\") + \"/aiffel/aiffel_project/fianl_model_train_all_data/all_train/*\""
   ]
  },
  {
   "cell_type": "code",
   "execution_count": 5,
   "id": "3b012001",
   "metadata": {},
   "outputs": [
    {
     "name": "stdout",
     "output_type": "stream",
     "text": [
      "['/aiffel/aiffel/aiffel_project/fianl_model_train_all_data/all_train/▒█┴■▒Γ_░φ╡ε_1╟╨│Γ_ESSAY_66134.json', '/aiffel/aiffel/aiffel_project/fianl_model_train_all_data/all_train/┤δ╛╚┴ª╜├_┴▀╡ε_1╟╨│Γ_ESSAY_69269.json', '/aiffel/aiffel/aiffel_project/fianl_model_train_all_data/all_train/╝│╕φ▒█_┴▀╡ε_2╟╨│Γ_ESSAY_54110.json', '/aiffel/aiffel/aiffel_project/fianl_model_train_all_data/all_train/╝│╕φ▒█_░φ╡ε_3╟╨│Γ_ESSAY_64358.json', '/aiffel/aiffel/aiffel_project/fianl_model_train_all_data/all_train/┬∙╝║╣▌┤δ_┴▀╡ε_3╟╨│Γ_ESSAY_82563.json', '/aiffel/aiffel/aiffel_project/fianl_model_train_all_data/all_train/┬∙╝║╣▌┤δ_┴▀╡ε_1╟╨│Γ_ESSAY_66466.json', '/aiffel/aiffel/aiffel_project/fianl_model_train_all_data/all_train/┴╓└σ_░φ╡ε_2╟╨│Γ_ESSAY_53067.json', '/aiffel/aiffel/aiffel_project/fianl_model_train_all_data/all_train/┴╓└σ_┴▀╡ε_3╟╨│Γ_ESSAY_65078.json', '/aiffel/aiffel/aiffel_project/fianl_model_train_all_data/all_train/▒█┴■▒Γ_┴▀╡ε_1╟╨│Γ_ESSAY_42019.json', '/aiffel/aiffel/aiffel_project/fianl_model_train_all_data/all_train/▒█┴■▒Γ_┴▀╡ε_2╟╨│Γ_ESSAY_82321.json']\n"
     ]
    }
   ],
   "source": [
    "train_list = glob.glob(train_dir)\n",
    "print(train_list[:10])"
   ]
  },
  {
   "cell_type": "code",
   "execution_count": 6,
   "id": "cf0d726a",
   "metadata": {},
   "outputs": [],
   "source": [
    "import json"
   ]
  },
  {
   "cell_type": "code",
   "execution_count": 18,
   "id": "d889237d",
   "metadata": {},
   "outputs": [],
   "source": [
    "corpus = []\n",
    "\n",
    "for file in train_list:\n",
    "    with open(file, 'r') as f:\n",
    "        json_file = json.load(f)\n",
    "        only_txt = json_file['essay_txt']\n",
    "        only_txt = only_txt.replace(\"#@문장구분#\", \"\")\n",
    "        only_txt = only_txt.replace(\"\\b\", \"\")\n",
    "        only_txt = only_txt.replace(\"\\n\", \"\")\n",
    "        corpus.append(only_txt)"
   ]
  },
  {
   "cell_type": "code",
   "execution_count": 9,
   "id": "b4f03ff0",
   "metadata": {},
   "outputs": [
    {
     "data": {
      "text/plain": [
       "'우리는 살면서 아주 당연하게 생각하고 있는 것들이 있습니다. 그러나 당연하다고 여겼던 것이 알고 보니 정말이지 소중하고 중요한 존재였다는 것을 뒤늦게 깨닫곤 합니다. 소중한 것은 너무나도 많지만 그 중 한 가지 예는 바로 병원에서 볼수 있습니다. 바로, 사람의 건강이라고 할 수 있겠습니다. 건강 할 때에는 건강의 소중함에 대해 알지 못합니다. 당연히 누려야 할 권리라고 생각합니다. 그런데 어느 날 허리라도 아픈 상황이 찾아온다면? 의자에 앉아 있는 것도 곤욕이고 서서 어딘가 움직이는 것도 힘들 수 있습니다. 하루 종일 누워서 생활하다 보면 비로소 건강이 얼마나 중요한지 깨달을 수 있습니다. 우리는 건강의 소중함에 대해 뼈저리게 느끼는 일이 평소에 없습니다. 건강할 때 건강을 챙기는 현명한 모습을 보였으면 합니다. 건강을 챙긴다는 것에 의미는 두 가지가 있을 것입니다. 하나는 애초에 문제가 생기지 않게 잘하는 것이고 또 하나는 문제가 생기게 되었을 때, 더 큰 문제로 번지지 않게 빠르게 진압하는 것입니다. 노화는 자연스러운 현상이므로 배제하고, 모두가 공평한 상황에서 갑작스럽게 건강에 찾아올 수 있는 위기 상황으로는 교통사고가 대표적일 것입니다. 갑자기 사고라도 당하게 되면 우리의 건강은 크게 흔들릴 것입니다. 말 그대로 갑작스럽게 건강에 적신호가 켜지는 것입니다. 당장에는 별 문제 없다가 서서히 나타나 점점 심해지는 경우도 있습니다. 건강이 우리의 가장 소중한 것입니다. 그래야 소중한 것을 잃지 않습니다.'"
      ]
     },
     "execution_count": 9,
     "metadata": {},
     "output_type": "execute_result"
    }
   ],
   "source": [
    "corpus[0]"
   ]
  },
  {
   "cell_type": "code",
   "execution_count": 10,
   "id": "18794922",
   "metadata": {},
   "outputs": [],
   "source": [
    "train_data = ' '.join(map(str, corpus))"
   ]
  },
  {
   "cell_type": "code",
   "execution_count": 11,
   "id": "f0b4d41d",
   "metadata": {},
   "outputs": [
    {
     "data": {
      "text/plain": [
       "16981714"
      ]
     },
     "execution_count": 11,
     "metadata": {},
     "output_type": "execute_result"
    }
   ],
   "source": [
    "len(train_data)"
   ]
  },
  {
   "cell_type": "markdown",
   "id": "dc0343ca",
   "metadata": {},
   "source": [
    "# 훈련 데이터에 크롤링 데이터 추가"
   ]
  },
  {
   "cell_type": "code",
   "execution_count": 12,
   "id": "9d4b37a8",
   "metadata": {},
   "outputs": [],
   "source": [
    "csv_dir = os.getenv(\"HOME\") + '/aiffel/aiffel_project/모델 저장 및 불러오기, 추가학습 연습/csv_data/*'"
   ]
  },
  {
   "cell_type": "code",
   "execution_count": 13,
   "id": "0fdfbd8f",
   "metadata": {},
   "outputs": [
    {
     "name": "stdout",
     "output_type": "stream",
     "text": [
      "['/aiffel/aiffel/aiffel_project/모델 저장 및 불러오기, 추가학습 연습/csv_data/20230320.csv', '/aiffel/aiffel/aiffel_project/모델 저장 및 불러오기, 추가학습 연습/csv_data/20230318.csv', '/aiffel/aiffel/aiffel_project/모델 저장 및 불러오기, 추가학습 연습/csv_data/20230327.csv', '/aiffel/aiffel/aiffel_project/모델 저장 및 불러오기, 추가학습 연습/csv_data/20230325.csv', '/aiffel/aiffel/aiffel_project/모델 저장 및 불러오기, 추가학습 연습/csv_data/20230326.csv', '/aiffel/aiffel/aiffel_project/모델 저장 및 불러오기, 추가학습 연습/csv_data/20230317.csv', '/aiffel/aiffel/aiffel_project/모델 저장 및 불러오기, 추가학습 연습/csv_data/20230321.csv', '/aiffel/aiffel/aiffel_project/모델 저장 및 불러오기, 추가학습 연습/csv_data/20230324.csv', '/aiffel/aiffel/aiffel_project/모델 저장 및 불러오기, 추가학습 연습/csv_data/20230322.csv', '/aiffel/aiffel/aiffel_project/모델 저장 및 불러오기, 추가학습 연습/csv_data/20230319.csv', '/aiffel/aiffel/aiffel_project/모델 저장 및 불러오기, 추가학습 연습/csv_data/20230328.csv', '/aiffel/aiffel/aiffel_project/모델 저장 및 불러오기, 추가학습 연습/csv_data/20230323.csv']\n"
     ]
    }
   ],
   "source": [
    "csv_list = glob.glob(csv_dir)\n",
    "print(csv_list)"
   ]
  },
  {
   "cell_type": "code",
   "execution_count": 14,
   "id": "d8b6a4e4",
   "metadata": {},
   "outputs": [
    {
     "data": {
      "text/plain": [
       "12"
      ]
     },
     "execution_count": 14,
     "metadata": {},
     "output_type": "execute_result"
    }
   ],
   "source": [
    "len(csv_list)"
   ]
  },
  {
   "cell_type": "code",
   "execution_count": 19,
   "id": "d36f5b55",
   "metadata": {},
   "outputs": [],
   "source": [
    "import pandas as pd\n",
    "\n",
    "for file in csv_list[:11]:\n",
    "    csv_file = pd.read_csv(file)\n",
    "    only_news = csv_file['news']\n",
    "    corpus.append(only_news)"
   ]
  },
  {
   "cell_type": "code",
   "execution_count": 21,
   "id": "70b5222d",
   "metadata": {},
   "outputs": [],
   "source": [
    "train_data = ' '.join(map(str, corpus))"
   ]
  },
  {
   "cell_type": "code",
   "execution_count": 22,
   "id": "f7bd4ad5",
   "metadata": {},
   "outputs": [
    {
     "data": {
      "text/plain": [
       "16989040"
      ]
     },
     "execution_count": 22,
     "metadata": {},
     "output_type": "execute_result"
    }
   ],
   "source": [
    "len(train_data)"
   ]
  },
  {
   "cell_type": "markdown",
   "id": "822fdcfe",
   "metadata": {},
   "source": [
    "# 테스트 데이터 불러오기"
   ]
  },
  {
   "cell_type": "code",
   "execution_count": 23,
   "id": "70ab4077",
   "metadata": {},
   "outputs": [],
   "source": [
    "test_dir = os.getenv('HOME') + '/aiffel/aiffel_project/fianl_model_train_all_data/all_test/*'"
   ]
  },
  {
   "cell_type": "code",
   "execution_count": 24,
   "id": "a23add33",
   "metadata": {},
   "outputs": [
    {
     "name": "stdout",
     "output_type": "stream",
     "text": [
      "['/aiffel/aiffel/aiffel_project/fianl_model_train_all_data/all_test/╝│╕φ▒█_░φ╡ε_1╟╨│Γ_ESSAY_35026.json', '/aiffel/aiffel/aiffel_project/fianl_model_train_all_data/all_test/┴╓└σ_░φ╡ε_2╟╨│Γ_ESSAY_85982.json', '/aiffel/aiffel/aiffel_project/fianl_model_train_all_data/all_test/▒█┴■▒Γ_░φ╡ε_2╟╨│Γ_ESSAY_79392.json', '/aiffel/aiffel/aiffel_project/fianl_model_train_all_data/all_test/┬∙╝║╣▌┤δ_┴▀╡ε_3╟╨│Γ_ESSAY_72972.json', '/aiffel/aiffel/aiffel_project/fianl_model_train_all_data/all_test/┬∙╝║╣▌┤δ_░φ╡ε_2╟╨│Γ_ESSAY_86610.json', '/aiffel/aiffel/aiffel_project/fianl_model_train_all_data/all_test/┬∙╝║╣▌┤δ_░φ╡ε_1╟╨│Γ_ESSAY_76758.json', '/aiffel/aiffel/aiffel_project/fianl_model_train_all_data/all_test/┴╓└σ_░φ╡ε_2╟╨│Γ_ESSAY_86782.json', '/aiffel/aiffel/aiffel_project/fianl_model_train_all_data/all_test/┬∙╝║╣▌┤δ_┴▀╡ε_3╟╨│Γ_ESSAY_82641.json', '/aiffel/aiffel/aiffel_project/fianl_model_train_all_data/all_test/┴╓└σ_░φ╡ε_2╟╨│Γ_ESSAY_86088.json', '/aiffel/aiffel/aiffel_project/fianl_model_train_all_data/all_test/╝│╕φ▒█_░φ╡ε_1╟╨│Γ_ESSAY_42660.json']\n"
     ]
    }
   ],
   "source": [
    "test_list = glob.glob(test_dir)\n",
    "print(test_list[:10])"
   ]
  },
  {
   "cell_type": "code",
   "execution_count": 25,
   "id": "fc73ffe1",
   "metadata": {},
   "outputs": [],
   "source": [
    "corpus = []\n",
    "\n",
    "for file in test_list:\n",
    "    with open(file, 'r') as f:\n",
    "        json_file = json.load(f)\n",
    "        only_txt = json_file['essay_txt']\n",
    "        only_txt = only_txt.replace(\"#@문장구분#\", \"\")\n",
    "        only_txt = only_txt.replace(\"\\b\", \"\")\n",
    "        only_txt = only_txt.replace(\"\\n\", \"\")\n",
    "        corpus.append(only_txt)"
   ]
  },
  {
   "cell_type": "code",
   "execution_count": 26,
   "id": "7b3c894f",
   "metadata": {},
   "outputs": [],
   "source": [
    "for file in csv_list[11:]:\n",
    "    csv_file = pd.read_csv(file)\n",
    "    only_news = csv_file['news']\n",
    "    corpus.append(only_news)"
   ]
  },
  {
   "cell_type": "code",
   "execution_count": 27,
   "id": "471f5857",
   "metadata": {},
   "outputs": [],
   "source": [
    "test_data = ' '.join(map(str, corpus))"
   ]
  },
  {
   "cell_type": "code",
   "execution_count": 28,
   "id": "544fb4ad",
   "metadata": {},
   "outputs": [
    {
     "data": {
      "text/plain": [
       "2678241"
      ]
     },
     "execution_count": 28,
     "metadata": {},
     "output_type": "execute_result"
    }
   ],
   "source": [
    "len(test_data)"
   ]
  },
  {
   "cell_type": "markdown",
   "id": "3e15dcbf",
   "metadata": {},
   "source": [
    "# 프리트레인 모델 불러오기"
   ]
  },
  {
   "cell_type": "code",
   "execution_count": 29,
   "id": "e3f0140c",
   "metadata": {},
   "outputs": [
    {
     "data": {
      "application/vnd.jupyter.widget-view+json": {
       "model_id": "5c816b3edad14274a8b0ec76c0351a24",
       "version_major": 2,
       "version_minor": 0
      },
      "text/plain": [
       "Downloading:   0%|          | 0.00/2.69M [00:00<?, ?B/s]"
      ]
     },
     "metadata": {},
     "output_type": "display_data"
    },
    {
     "data": {
      "application/vnd.jupyter.widget-view+json": {
       "model_id": "0f4a89e39ce842c5ba5544df0c4d6ab3",
       "version_major": 2,
       "version_minor": 0
      },
      "text/plain": [
       "Downloading:   0%|          | 0.00/0.98k [00:00<?, ?B/s]"
      ]
     },
     "metadata": {},
     "output_type": "display_data"
    },
    {
     "name": "stderr",
     "output_type": "stream",
     "text": [
      "The tokenizer class you load from this checkpoint is not the same type as the class this function is called from. It may result in unexpected tokenization. \n",
      "The tokenizer class you load from this checkpoint is 'GPT2Tokenizer'. \n",
      "The class this function is called from is 'PreTrainedTokenizerFast'.\n",
      "Special tokens have been added in the vocabulary, make sure the associated word embeddings are fine-tuned or trained.\n",
      "/opt/conda/lib/python3.9/site-packages/transformers/models/auto/modeling_auto.py:660: FutureWarning: The class `AutoModelWithLMHead` is deprecated and will be removed in a future version. Please use `AutoModelForCausalLM` for causal language models, `AutoModelForMaskedLM` for masked language models and `AutoModelForSeq2SeqLM` for encoder-decoder models.\n",
      "  warnings.warn(\n"
     ]
    },
    {
     "data": {
      "application/vnd.jupyter.widget-view+json": {
       "model_id": "2792ccd423ce4317bb876646bf0a5ea8",
       "version_major": 2,
       "version_minor": 0
      },
      "text/plain": [
       "Downloading:   0%|          | 0.00/490M [00:00<?, ?B/s]"
      ]
     },
     "metadata": {},
     "output_type": "display_data"
    }
   ],
   "source": [
    "from transformers import PreTrainedTokenizerFast, AutoModelWithLMHead\n",
    "\n",
    "tokenizer = PreTrainedTokenizerFast.from_pretrained(\"skt/kogpt2-base-v2\",\n",
    "                                                   bos_token=\"</s>\",\n",
    "                                                   eos_token=\"</s>\",\n",
    "                                                   unk_token=\"<unk>\",\n",
    "                                                   pad_token=\"<pad>\",\n",
    "                                                   mask_token=\"<mask\")\n",
    "\n",
    "model = AutoModelWithLMHead.from_pretrained(\"skt/kogpt2-base-v2\")"
   ]
  },
  {
   "cell_type": "markdown",
   "id": "78cf3f3a",
   "metadata": {},
   "source": [
    "# 토크나이저 함수"
   ]
  },
  {
   "cell_type": "code",
   "execution_count": 30,
   "id": "844f589a",
   "metadata": {},
   "outputs": [
    {
     "name": "stdout",
     "output_type": "stream",
     "text": [
      "Collecting fastai\n",
      "  Downloading fastai-2.7.11-py3-none-any.whl (232 kB)\n",
      "     |████████████████████████████████| 232 kB 8.1 MB/s            \n",
      "\u001b[?25hCollecting fastdownload<2,>=0.0.5\n",
      "  Downloading fastdownload-0.0.7-py3-none-any.whl (12 kB)\n",
      "Collecting fastprogress>=0.2.4\n",
      "  Downloading fastprogress-1.0.3-py3-none-any.whl (12 kB)\n",
      "Requirement already satisfied: packaging in /opt/conda/lib/python3.9/site-packages (from fastai) (21.3)\n",
      "Collecting fastcore<1.6,>=1.4.5\n",
      "  Downloading fastcore-1.5.28-py3-none-any.whl (67 kB)\n",
      "     |████████████████████████████████| 67 kB 8.9 MB/s             \n",
      "\u001b[?25hRequirement already satisfied: requests in /opt/conda/lib/python3.9/site-packages (from fastai) (2.26.0)\n",
      "Requirement already satisfied: scikit-learn in /opt/conda/lib/python3.9/site-packages (from fastai) (1.0)\n",
      "Requirement already satisfied: pillow>6.0.0 in /opt/conda/lib/python3.9/site-packages (from fastai) (8.3.2)\n",
      "Requirement already satisfied: scipy in /opt/conda/lib/python3.9/site-packages (from fastai) (1.7.1)\n",
      "Collecting spacy<4\n",
      "  Downloading spacy-3.5.1-cp39-cp39-manylinux_2_17_x86_64.manylinux2014_x86_64.whl (6.6 MB)\n",
      "     |████████████████████████████████| 6.6 MB 75.7 MB/s            \n",
      "\u001b[?25hRequirement already satisfied: torchvision>=0.8.2 in /opt/conda/lib/python3.9/site-packages (from fastai) (0.10.1+cu111)\n",
      "Requirement already satisfied: torch<1.14,>=1.7 in /opt/conda/lib/python3.9/site-packages (from fastai) (1.9.1+cu111)\n",
      "Requirement already satisfied: pip in /opt/conda/lib/python3.9/site-packages (from fastai) (21.3.1)\n",
      "Requirement already satisfied: matplotlib in /opt/conda/lib/python3.9/site-packages (from fastai) (3.4.3)\n",
      "Requirement already satisfied: pyyaml in /opt/conda/lib/python3.9/site-packages (from fastai) (6.0)\n",
      "Requirement already satisfied: pandas in /opt/conda/lib/python3.9/site-packages (from fastai) (1.3.3)\n",
      "Collecting wasabi<1.2.0,>=0.9.1\n",
      "  Downloading wasabi-1.1.1-py3-none-any.whl (27 kB)\n",
      "Collecting spacy-legacy<3.1.0,>=3.0.11\n",
      "  Downloading spacy_legacy-3.0.12-py2.py3-none-any.whl (29 kB)\n",
      "Collecting cymem<2.1.0,>=2.0.2\n",
      "  Downloading cymem-2.0.7-cp39-cp39-manylinux_2_17_x86_64.manylinux2014_x86_64.whl (35 kB)\n",
      "Collecting thinc<8.2.0,>=8.1.8\n",
      "  Downloading thinc-8.1.9-cp39-cp39-manylinux_2_17_x86_64.manylinux2014_x86_64.whl (922 kB)\n",
      "     |████████████████████████████████| 922 kB 59.1 MB/s            \n",
      "\u001b[?25hRequirement already satisfied: tqdm<5.0.0,>=4.38.0 in /opt/conda/lib/python3.9/site-packages (from spacy<4->fastai) (4.62.3)\n",
      "Collecting pathy>=0.10.0\n",
      "  Downloading pathy-0.10.1-py3-none-any.whl (48 kB)\n",
      "     |████████████████████████████████| 48 kB 9.9 MB/s             \n",
      "\u001b[?25hRequirement already satisfied: numpy>=1.15.0 in /opt/conda/lib/python3.9/site-packages (from spacy<4->fastai) (1.21.4)\n",
      "Collecting langcodes<4.0.0,>=3.2.0\n",
      "  Downloading langcodes-3.3.0-py3-none-any.whl (181 kB)\n",
      "     |████████████████████████████████| 181 kB 80.2 MB/s            \n",
      "\u001b[?25hRequirement already satisfied: setuptools in /opt/conda/lib/python3.9/site-packages (from spacy<4->fastai) (59.4.0)\n",
      "Requirement already satisfied: smart-open<7.0.0,>=5.2.1 in /opt/conda/lib/python3.9/site-packages (from spacy<4->fastai) (5.2.1)\n",
      "Collecting catalogue<2.1.0,>=2.0.6\n",
      "  Downloading catalogue-2.0.8-py3-none-any.whl (17 kB)\n",
      "Collecting srsly<3.0.0,>=2.4.3\n",
      "  Downloading srsly-2.4.6-cp39-cp39-manylinux_2_17_x86_64.manylinux2014_x86_64.whl (491 kB)\n",
      "     |████████████████████████████████| 491 kB 101.5 MB/s            \n",
      "\u001b[?25hCollecting spacy-loggers<2.0.0,>=1.0.0\n",
      "  Downloading spacy_loggers-1.0.4-py3-none-any.whl (11 kB)\n",
      "Requirement already satisfied: jinja2 in /opt/conda/lib/python3.9/site-packages (from spacy<4->fastai) (3.0.3)\n",
      "Collecting typer<0.8.0,>=0.3.0\n",
      "  Downloading typer-0.7.0-py3-none-any.whl (38 kB)\n",
      "Collecting murmurhash<1.1.0,>=0.28.0\n",
      "  Downloading murmurhash-1.0.9-cp39-cp39-manylinux_2_5_x86_64.manylinux1_x86_64.manylinux_2_17_x86_64.manylinux2014_x86_64.whl (21 kB)\n",
      "Collecting preshed<3.1.0,>=3.0.2\n",
      "  Downloading preshed-3.0.8-cp39-cp39-manylinux_2_5_x86_64.manylinux1_x86_64.manylinux_2_17_x86_64.manylinux2014_x86_64.whl (128 kB)\n",
      "     |████████████████████████████████| 128 kB 74.5 MB/s            \n",
      "\u001b[?25hCollecting pydantic!=1.8,!=1.8.1,<1.11.0,>=1.7.4\n",
      "  Downloading pydantic-1.10.7-cp39-cp39-manylinux_2_17_x86_64.manylinux2014_x86_64.whl (3.2 MB)\n",
      "     |████████████████████████████████| 3.2 MB 46.7 MB/s            \n",
      "\u001b[?25hRequirement already satisfied: pyparsing!=3.0.5,>=2.0.2 in /opt/conda/lib/python3.9/site-packages (from packaging->fastai) (3.0.6)\n",
      "Requirement already satisfied: charset-normalizer~=2.0.0 in /opt/conda/lib/python3.9/site-packages (from requests->fastai) (2.0.8)\n",
      "Requirement already satisfied: urllib3<1.27,>=1.21.1 in /opt/conda/lib/python3.9/site-packages (from requests->fastai) (1.26.7)\n",
      "Requirement already satisfied: certifi>=2017.4.17 in /opt/conda/lib/python3.9/site-packages (from requests->fastai) (2021.10.8)\n",
      "Requirement already satisfied: idna<4,>=2.5 in /opt/conda/lib/python3.9/site-packages (from requests->fastai) (2.10)\n",
      "Requirement already satisfied: typing-extensions in /opt/conda/lib/python3.9/site-packages (from torch<1.14,>=1.7->fastai) (4.0.1)\n",
      "Requirement already satisfied: python-dateutil>=2.7 in /opt/conda/lib/python3.9/site-packages (from matplotlib->fastai) (2.8.2)\n",
      "Requirement already satisfied: cycler>=0.10 in /opt/conda/lib/python3.9/site-packages (from matplotlib->fastai) (0.11.0)\n",
      "Requirement already satisfied: kiwisolver>=1.0.1 in /opt/conda/lib/python3.9/site-packages (from matplotlib->fastai) (1.3.2)\n",
      "Requirement already satisfied: pytz>=2017.3 in /opt/conda/lib/python3.9/site-packages (from pandas->fastai) (2021.3)\n",
      "Requirement already satisfied: joblib>=0.11 in /opt/conda/lib/python3.9/site-packages (from scikit-learn->fastai) (1.1.0)\n",
      "Requirement already satisfied: threadpoolctl>=2.0.0 in /opt/conda/lib/python3.9/site-packages (from scikit-learn->fastai) (3.0.0)\n",
      "Collecting typing-extensions\n",
      "  Downloading typing_extensions-4.5.0-py3-none-any.whl (27 kB)\n",
      "Requirement already satisfied: six>=1.5 in /opt/conda/lib/python3.9/site-packages (from python-dateutil>=2.7->matplotlib->fastai) (1.16.0)\n",
      "Collecting blis<0.8.0,>=0.7.8\n",
      "  Downloading blis-0.7.9-cp39-cp39-manylinux_2_17_x86_64.manylinux2014_x86_64.whl (10.2 MB)\n",
      "     |████████████████████████████████| 10.2 MB 65.7 MB/s            \n",
      "\u001b[?25hCollecting confection<1.0.0,>=0.0.1\n",
      "  Downloading confection-0.0.4-py3-none-any.whl (32 kB)\n",
      "Requirement already satisfied: click<9.0.0,>=7.1.1 in /opt/conda/lib/python3.9/site-packages (from typer<0.8.0,>=0.3.0->spacy<4->fastai) (8.0.3)\n",
      "Requirement already satisfied: MarkupSafe>=2.0 in /opt/conda/lib/python3.9/site-packages (from jinja2->spacy<4->fastai) (2.0.1)\n",
      "Installing collected packages: typing-extensions, catalogue, srsly, pydantic, murmurhash, cymem, wasabi, typer, preshed, confection, blis, thinc, spacy-loggers, spacy-legacy, pathy, langcodes, fastprogress, fastcore, spacy, fastdownload, fastai\n",
      "  Attempting uninstall: typing-extensions\n",
      "    Found existing installation: typing-extensions 4.0.1\n",
      "    Uninstalling typing-extensions-4.0.1:\n",
      "      Successfully uninstalled typing-extensions-4.0.1\n",
      "\u001b[31mERROR: pip's dependency resolver does not currently take into account all the packages that are installed. This behaviour is the source of the following dependency conflicts.\n",
      "tensorflow-gpu 2.6.0 requires numpy~=1.19.2, but you have numpy 1.21.4 which is incompatible.\n",
      "tensorflow-gpu 2.6.0 requires six~=1.15.0, but you have six 1.16.0 which is incompatible.\n",
      "tensorflow-gpu 2.6.0 requires typing-extensions~=3.7.4, but you have typing-extensions 4.5.0 which is incompatible.\u001b[0m\n",
      "Successfully installed blis-0.7.9 catalogue-2.0.8 confection-0.0.4 cymem-2.0.7 fastai-2.7.11 fastcore-1.5.28 fastdownload-0.0.7 fastprogress-1.0.3 langcodes-3.3.0 murmurhash-1.0.9 pathy-0.10.1 preshed-3.0.8 pydantic-1.10.7 spacy-3.5.1 spacy-legacy-3.0.12 spacy-loggers-1.0.4 srsly-2.4.6 thinc-8.1.9 typer-0.7.0 typing-extensions-4.5.0 wasabi-1.1.1\n",
      "\u001b[33mWARNING: Running pip as the 'root' user can result in broken permissions and conflicting behaviour with the system package manager. It is recommended to use a virtual environment instead: https://pip.pypa.io/warnings/venv\u001b[0m\n"
     ]
    }
   ],
   "source": [
    "!pip install fastai\n",
    "\n",
    "import fastai\n",
    "from fastai.text.all import *\n",
    "import torch"
   ]
  },
  {
   "cell_type": "code",
   "execution_count": 31,
   "id": "1c9f1ac4",
   "metadata": {},
   "outputs": [],
   "source": [
    "class TransformersTokenizer(Transform):\n",
    "    def __init__(self, tokenizer):\n",
    "        self.tokenizer = tokenizer\n",
    "        \n",
    "    def encodes(self, x):\n",
    "        toks = self.tokenizer.tokenize(x)\n",
    "        return tensor(self.tokenizer.convert_tokens_to_ids(toks))\n",
    "    \n",
    "    def decodes(self, x):\n",
    "        return TitledStr(self.tokenizer.decode(x.cpu().numpy()))"
   ]
  },
  {
   "cell_type": "code",
   "execution_count": 32,
   "id": "03225bf8",
   "metadata": {},
   "outputs": [],
   "source": [
    "splits =[[0], [1]]\n",
    "\n",
    "tls = TfmdLists([train_data, test_data], TransformersTokenizer(tokenizer), \n",
    "                splits=splits, dl_type=LMDataLoader)\n",
    "batch, seq_len = 8, 256\n",
    "dls = tls.dataloaders(bs=batch, seq_len=seq_len)"
   ]
  },
  {
   "cell_type": "markdown",
   "id": "adef901b",
   "metadata": {},
   "source": [
    "# 모델 학습"
   ]
  },
  {
   "cell_type": "code",
   "execution_count": 33,
   "id": "2c25f3de",
   "metadata": {},
   "outputs": [
    {
     "data": {
      "text/html": [
       "\n",
       "<style>\n",
       "    /* Turns off some styling */\n",
       "    progress {\n",
       "        /* gets rid of default border in Firefox and Opera. */\n",
       "        border: none;\n",
       "        /* Needs to be in here for Safari polyfill so background images work as expected. */\n",
       "        background-size: auto;\n",
       "    }\n",
       "    progress:not([value]), progress:not([value])::-webkit-progress-bar {\n",
       "        background: repeating-linear-gradient(45deg, #7e7e7e, #7e7e7e 10px, #5c5c5c 10px, #5c5c5c 20px);\n",
       "    }\n",
       "    .progress-bar-interrupted, .progress-bar-interrupted::-webkit-progress-bar {\n",
       "        background: #F44336;\n",
       "    }\n",
       "</style>\n"
      ],
      "text/plain": [
       "<IPython.core.display.HTML object>"
      ]
     },
     "metadata": {},
     "output_type": "display_data"
    },
    {
     "data": {
      "text/html": [],
      "text/plain": [
       "<IPython.core.display.HTML object>"
      ]
     },
     "metadata": {},
     "output_type": "display_data"
    },
    {
     "name": "stdout",
     "output_type": "stream",
     "text": [
      "SuggestedLRs(valley=2.511886486900039e-05)\n"
     ]
    },
    {
     "data": {
      "text/html": [
       "\n",
       "<style>\n",
       "    /* Turns off some styling */\n",
       "    progress {\n",
       "        /* gets rid of default border in Firefox and Opera. */\n",
       "        border: none;\n",
       "        /* Needs to be in here for Safari polyfill so background images work as expected. */\n",
       "        background-size: auto;\n",
       "    }\n",
       "    progress:not([value]), progress:not([value])::-webkit-progress-bar {\n",
       "        background: repeating-linear-gradient(45deg, #7e7e7e, #7e7e7e 10px, #5c5c5c 10px, #5c5c5c 20px);\n",
       "    }\n",
       "    .progress-bar-interrupted, .progress-bar-interrupted::-webkit-progress-bar {\n",
       "        background: #F44336;\n",
       "    }\n",
       "</style>\n"
      ],
      "text/plain": [
       "<IPython.core.display.HTML object>"
      ]
     },
     "metadata": {},
     "output_type": "display_data"
    },
    {
     "data": {
      "text/html": [
       "<table border=\"1\" class=\"dataframe\">\n",
       "  <thead>\n",
       "    <tr style=\"text-align: left;\">\n",
       "      <th>epoch</th>\n",
       "      <th>train_loss</th>\n",
       "      <th>valid_loss</th>\n",
       "      <th>perplexity</th>\n",
       "      <th>time</th>\n",
       "    </tr>\n",
       "  </thead>\n",
       "  <tbody>\n",
       "    <tr>\n",
       "      <td>0</td>\n",
       "      <td>5.085859</td>\n",
       "      <td>5.052178</td>\n",
       "      <td>156.362640</td>\n",
       "      <td>18:56</td>\n",
       "    </tr>\n",
       "  </tbody>\n",
       "</table>"
      ],
      "text/plain": [
       "<IPython.core.display.HTML object>"
      ]
     },
     "metadata": {},
     "output_type": "display_data"
    },
    {
     "data": {
      "text/html": [
       "\n",
       "<style>\n",
       "    /* Turns off some styling */\n",
       "    progress {\n",
       "        /* gets rid of default border in Firefox and Opera. */\n",
       "        border: none;\n",
       "        /* Needs to be in here for Safari polyfill so background images work as expected. */\n",
       "        background-size: auto;\n",
       "    }\n",
       "    progress:not([value]), progress:not([value])::-webkit-progress-bar {\n",
       "        background: repeating-linear-gradient(45deg, #7e7e7e, #7e7e7e 10px, #5c5c5c 10px, #5c5c5c 20px);\n",
       "    }\n",
       "    .progress-bar-interrupted, .progress-bar-interrupted::-webkit-progress-bar {\n",
       "        background: #F44336;\n",
       "    }\n",
       "</style>\n"
      ],
      "text/plain": [
       "<IPython.core.display.HTML object>"
      ]
     },
     "metadata": {},
     "output_type": "display_data"
    },
    {
     "data": {
      "text/html": [
       "<table border=\"1\" class=\"dataframe\">\n",
       "  <thead>\n",
       "    <tr style=\"text-align: left;\">\n",
       "      <th>epoch</th>\n",
       "      <th>train_loss</th>\n",
       "      <th>valid_loss</th>\n",
       "      <th>perplexity</th>\n",
       "      <th>time</th>\n",
       "    </tr>\n",
       "  </thead>\n",
       "  <tbody>\n",
       "    <tr>\n",
       "      <td>0</td>\n",
       "      <td>4.094170</td>\n",
       "      <td>4.561879</td>\n",
       "      <td>95.763222</td>\n",
       "      <td>18:54</td>\n",
       "    </tr>\n",
       "    <tr>\n",
       "      <td>1</td>\n",
       "      <td>3.914303</td>\n",
       "      <td>4.462321</td>\n",
       "      <td>86.688461</td>\n",
       "      <td>18:59</td>\n",
       "    </tr>\n",
       "    <tr>\n",
       "      <td>2</td>\n",
       "      <td>3.390499</td>\n",
       "      <td>4.333539</td>\n",
       "      <td>76.213531</td>\n",
       "      <td>19:09</td>\n",
       "    </tr>\n",
       "    <tr>\n",
       "      <td>3</td>\n",
       "      <td>2.763298</td>\n",
       "      <td>4.263552</td>\n",
       "      <td>71.061928</td>\n",
       "      <td>19:15</td>\n",
       "    </tr>\n",
       "    <tr>\n",
       "      <td>4</td>\n",
       "      <td>2.351820</td>\n",
       "      <td>4.371142</td>\n",
       "      <td>79.133942</td>\n",
       "      <td>19:27</td>\n",
       "    </tr>\n",
       "  </tbody>\n",
       "</table>"
      ],
      "text/plain": [
       "<IPython.core.display.HTML object>"
      ]
     },
     "metadata": {},
     "output_type": "display_data"
    },
    {
     "data": {
      "image/png": "[encoded data removed]",
      "text/plain": [
       "<Figure size 432x288 with 1 Axes>"
      ]
     },
     "metadata": {
      "needs_background": "light"
     },
     "output_type": "display_data"
    }
   ],
   "source": [
    "class DropOutput(Callback):\n",
    "    def after_pred(self):\n",
    "        self.learn.pred = self.pred[0]\n",
    "        \n",
    "learn = Learner(dls, model, loss_func=CrossEntropyLossFlat(), cbs=[DropOutput],\n",
    "               metrics=Perplexity()).to_fp16()\n",
    "lr = learn.lr_find()\n",
    "print(lr)\n",
    "learn.fine_tune(5)"
   ]
  },
  {
   "cell_type": "markdown",
   "id": "027d6cb1",
   "metadata": {},
   "source": [
    "# 문장 생성"
   ]
  },
  {
   "cell_type": "code",
   "execution_count": 34,
   "id": "e6eba57b",
   "metadata": {},
   "outputs": [
    {
     "name": "stdout",
     "output_type": "stream",
     "text": [
      "저는 장애인과 비장애인이 서로 같은 처지에 있는 사람이라고 생각합니다. 그렇기 때문에 장애인들도 우리와 다를바 없는 사람이고, 또 다른 사람에 의해 배우게 되는 것입니다. 그래서 우리는 이러한 이유로 인해 차별과 차이를 두어야 한다고 생각하고, 그리고 또, 이렇게라도 해야한다고 생각을 합니다. 왜냐하면 장애를 가진 사람들에 대한 인식을 바꿀 수 있기 때문입니다. 예를 들면, 사람들은 모두 똑같은 눈으로 보고, 어떤 사람은 눈이 안떠서 쳐다보는 것 보다는 보통의 상황에서 그러한 장면을 볼 것이라고 생각하고 있습니다. 하지만 그 사람들이 가지고 있던 편견이나 선입견을 깨부술 방법은 아직 없습니다. 괜히 자신이 직접 겪어보지 않은 일들인데도 불구하고 말리지 않고 그냥 아무렇지 않게 일상생활을 하면서 누군가를 도와주고자 하는 마음가짐으로 살아가야 할 필요가 있다고 생각이 들기 때문에, 이런 사람들의 인식부터 바꾸어서 생각하는 것이 가장 좋은 방법일 거라고 생각해서, 모든사람들이 그런 행동을 하지 않았으면 좋겠고 그러면 지금보다는 더 나은 생활을 했음 좋을거 같기때문에, 그러니까 앞으로는 더욱더 개선이 필요하다고생각합니다, 나는 카피레프트 운동에 대해서 반대한다.왜냐하면 아무리 사회적 자산을 기반으로 만들어졌다고 하더라도 결국엔 사회에 도움이 될만한 기술들을 만들었을 것이기 때문이다.하지만 그렇다고 해서 무조건적으로 저작권을 인정해주면 아무도 발명을 못할\n"
     ]
    }
   ],
   "source": [
    "prompt = \"저는 장애인과 비장애인이 서로 같은 처지에 있는 사람이라고 생각합니다.\"\n",
    "prompt_ids = tokenizer.encode(prompt)\n",
    "inp = tensor(prompt_ids)[None].cuda()\n",
    "preds = model.generate(inp,\n",
    "                            max_length=250,\n",
    "                            pad_token_id=tokenizer.pad_token_id,\n",
    "                            eos_token_id=tokenizer.eos_token_id,\n",
    "                            bos_token_id=tokenizer.bos_token_id,\n",
    "                            repetition_penalty=2.0,\n",
    "                            use_cache=True)\n",
    "src_input = tokenizer.decode(preds[0].cpu().numpy())\n",
    "print(src_input)"
   ]
  },
  {
   "cell_type": "markdown",
   "id": "5387f508",
   "metadata": {},
   "source": [
    "# 블루 스코어"
   ]
  },
  {
   "cell_type": "code",
   "execution_count": 35,
   "id": "5afa4e18",
   "metadata": {},
   "outputs": [
    {
     "name": "stdout",
     "output_type": "stream",
     "text": [
      "huggingface/tokenizers: The current process just got forked, after parallelism has already been used. Disabling parallelism to avoid deadlocks...\n",
      "To disable this warning, you can either:\n",
      "\t- Avoid using `tokenizers` before the fork if possible\n",
      "\t- Explicitly set the environment variable TOKENIZERS_PARALLELISM=(true | false)\n",
      "Requirement already satisfied: datasets in /opt/conda/lib/python3.9/site-packages (1.14.0)\n",
      "Requirement already satisfied: requests>=2.19.0 in /opt/conda/lib/python3.9/site-packages (from datasets) (2.26.0)\n",
      "Requirement already satisfied: multiprocess in /opt/conda/lib/python3.9/site-packages (from datasets) (0.70.12.2)\n",
      "Requirement already satisfied: xxhash in /opt/conda/lib/python3.9/site-packages (from datasets) (2.0.2)\n",
      "Requirement already satisfied: huggingface-hub<0.1.0,>=0.0.19 in /opt/conda/lib/python3.9/site-packages (from datasets) (0.0.19)\n",
      "Requirement already satisfied: dill in /opt/conda/lib/python3.9/site-packages (from datasets) (0.3.4)\n",
      "Requirement already satisfied: fsspec[http]>=2021.05.0 in /opt/conda/lib/python3.9/site-packages (from datasets) (2021.11.1)\n",
      "Requirement already satisfied: pandas in /opt/conda/lib/python3.9/site-packages (from datasets) (1.3.3)\n",
      "Requirement already satisfied: numpy>=1.17 in /opt/conda/lib/python3.9/site-packages (from datasets) (1.21.4)\n",
      "Requirement already satisfied: packaging in /opt/conda/lib/python3.9/site-packages (from datasets) (21.3)\n",
      "Requirement already satisfied: aiohttp in /opt/conda/lib/python3.9/site-packages (from datasets) (3.8.1)\n",
      "Requirement already satisfied: pyarrow!=4.0.0,>=1.0.0 in /opt/conda/lib/python3.9/site-packages (from datasets) (6.0.1)\n",
      "Requirement already satisfied: tqdm>=4.62.1 in /opt/conda/lib/python3.9/site-packages (from datasets) (4.62.3)\n",
      "Requirement already satisfied: pyyaml in /opt/conda/lib/python3.9/site-packages (from huggingface-hub<0.1.0,>=0.0.19->datasets) (6.0)\n",
      "Requirement already satisfied: typing-extensions in /opt/conda/lib/python3.9/site-packages (from huggingface-hub<0.1.0,>=0.0.19->datasets) (4.5.0)\n",
      "Requirement already satisfied: filelock in /opt/conda/lib/python3.9/site-packages (from huggingface-hub<0.1.0,>=0.0.19->datasets) (3.4.0)\n",
      "Requirement already satisfied: pyparsing!=3.0.5,>=2.0.2 in /opt/conda/lib/python3.9/site-packages (from packaging->datasets) (3.0.6)\n",
      "Requirement already satisfied: idna<4,>=2.5 in /opt/conda/lib/python3.9/site-packages (from requests>=2.19.0->datasets) (2.10)\n",
      "Requirement already satisfied: certifi>=2017.4.17 in /opt/conda/lib/python3.9/site-packages (from requests>=2.19.0->datasets) (2021.10.8)\n",
      "Requirement already satisfied: urllib3<1.27,>=1.21.1 in /opt/conda/lib/python3.9/site-packages (from requests>=2.19.0->datasets) (1.26.7)\n",
      "Requirement already satisfied: charset-normalizer~=2.0.0 in /opt/conda/lib/python3.9/site-packages (from requests>=2.19.0->datasets) (2.0.8)\n",
      "Requirement already satisfied: yarl<2.0,>=1.0 in /opt/conda/lib/python3.9/site-packages (from aiohttp->datasets) (1.7.2)\n",
      "Requirement already satisfied: aiosignal>=1.1.2 in /opt/conda/lib/python3.9/site-packages (from aiohttp->datasets) (1.2.0)\n",
      "Requirement already satisfied: async-timeout<5.0,>=4.0.0a3 in /opt/conda/lib/python3.9/site-packages (from aiohttp->datasets) (4.0.1)\n",
      "Requirement already satisfied: attrs>=17.3.0 in /opt/conda/lib/python3.9/site-packages (from aiohttp->datasets) (21.2.0)\n",
      "Requirement already satisfied: multidict<7.0,>=4.5 in /opt/conda/lib/python3.9/site-packages (from aiohttp->datasets) (5.2.0)\n",
      "Requirement already satisfied: frozenlist>=1.1.1 in /opt/conda/lib/python3.9/site-packages (from aiohttp->datasets) (1.2.0)\n",
      "Requirement already satisfied: python-dateutil>=2.7.3 in /opt/conda/lib/python3.9/site-packages (from pandas->datasets) (2.8.2)\n",
      "Requirement already satisfied: pytz>=2017.3 in /opt/conda/lib/python3.9/site-packages (from pandas->datasets) (2021.3)\n",
      "Requirement already satisfied: six>=1.5 in /opt/conda/lib/python3.9/site-packages (from python-dateutil>=2.7.3->pandas->datasets) (1.16.0)\n",
      "\u001b[33mWARNING: Running pip as the 'root' user can result in broken permissions and conflicting behaviour with the system package manager. It is recommended to use a virtual environment instead: https://pip.pypa.io/warnings/venv\u001b[0m\n"
     ]
    }
   ],
   "source": [
    "!pip install datasets"
   ]
  },
  {
   "cell_type": "code",
   "execution_count": 36,
   "id": "922bf882",
   "metadata": {},
   "outputs": [
    {
     "name": "stdout",
     "output_type": "stream",
     "text": [
      "huggingface/tokenizers: The current process just got forked, after parallelism has already been used. Disabling parallelism to avoid deadlocks...\n",
      "To disable this warning, you can either:\n",
      "\t- Avoid using `tokenizers` before the fork if possible\n",
      "\t- Explicitly set the environment variable TOKENIZERS_PARALLELISM=(true | false)\n",
      "Collecting sacrebleu\n",
      "  Downloading sacrebleu-2.3.1-py3-none-any.whl (118 kB)\n",
      "     |████████████████████████████████| 118 kB 5.9 MB/s            \n",
      "\u001b[?25hRequirement already satisfied: colorama in /opt/conda/lib/python3.9/site-packages (from sacrebleu) (0.4.4)\n",
      "Requirement already satisfied: numpy>=1.17 in /opt/conda/lib/python3.9/site-packages (from sacrebleu) (1.21.4)\n",
      "Requirement already satisfied: tabulate>=0.8.9 in /opt/conda/lib/python3.9/site-packages (from sacrebleu) (0.8.9)\n",
      "Requirement already satisfied: portalocker in /opt/conda/lib/python3.9/site-packages (from sacrebleu) (2.3.2)\n",
      "Requirement already satisfied: lxml in /opt/conda/lib/python3.9/site-packages (from sacrebleu) (4.6.3)\n",
      "Requirement already satisfied: regex in /opt/conda/lib/python3.9/site-packages (from sacrebleu) (2021.11.10)\n",
      "Installing collected packages: sacrebleu\n",
      "Successfully installed sacrebleu-2.3.1\n",
      "\u001b[33mWARNING: Running pip as the 'root' user can result in broken permissions and conflicting behaviour with the system package manager. It is recommended to use a virtual environment instead: https://pip.pypa.io/warnings/venv\u001b[0m\n"
     ]
    }
   ],
   "source": [
    "!pip install sacrebleu"
   ]
  },
  {
   "cell_type": "code",
   "execution_count": 37,
   "id": "0664c539",
   "metadata": {},
   "outputs": [],
   "source": [
    "from datasets import load_metric\n",
    "import pandas as pd\n",
    "import numpy as np"
   ]
  },
  {
   "cell_type": "code",
   "execution_count": 38,
   "id": "e89cad58",
   "metadata": {},
   "outputs": [],
   "source": [
    "reference=[\"\"\"저는 장애인과 비장애인이 서로 같은 처지에 있는 사람이라고 생각합니다. 왜냐하면 장애인들도 감정이 있고 생각만 다를 뿐이지 그런 이유 때문에 차별받는 것은 불합리하다고 생각합니다. 우리도 한 순간에 장애인이 될 수도 있고 그리고 입장을 바꿔서 생각할 때 자신이 장애인이라는 그 이유로 차별을 받아야 하나?라고 생각합니다. 이런 부당한 이유로 사회적으로 차별받고 대우받지 못하는 사회의 인식을 개선해야 할 필요가 있다고 생각합니다. 장애인들도 친구들과 어울려서 이야기도 할 수 있고 게임도 같이 할 수 있는데 장애인이라는 이유만으로 차별하는 건 불합리하다고 생각합니다. 그래서 나는 장애인에 대한 인식을 개선하기 위해서는 일반사람들의 인식을 개선해야 한다고 생각합니다. 우선 자신도 어느 한 순간의 사고로 인해 장애인이 될 수 있기 때문에 장에 대한 생각을 계속 머릿속에 경각심을 심어주어야 한다고 생각합니다. 장애인들도 몸만 불편할 뿐이지 우리와 다르지 않은 사람이라는 생각을 계속 머릿속에 심어주는 것입니다. 계속 반복적으로 머릿속에 이러한 인식들을 심어주면 무의식적인 행동을 하더라도 장애인들을 배려해주는 행동을 하게 된다고 생각합니다. 또 장애인들에게도 교육하는 것이 저는 필요하다고 생각합니다. 장애인들은 자신이 가진 장애 때문에 행동 하나하나가 위축되어서 소심해지는 경향이 있습니다. 저는 장애인들이 위축되거나 소심해지지 않았으면 좋겠습니다. 그래서 장애인들에게 당당해지는 그런 교육을 하는 것이 필요하다고 생각합니다. 그리고 우리 일반인들에게도 교육이 필요하다고 생각한다고 합니다. 학교에서나 회사에서 계속해서 장애인들이 겪는 차별과 부당함에 대해 설명해주고 어떻게 하면 그러한 차별과 부당함을 없앨 수 있을지에 대해 토론을 해본다거나 해결책을 논의 해보는 것도 일종의 방법이라고 생각합니다. 따라서 우리는 누구도 평등하고 인간이 누려야 할 권리는 제한하지말고 누려야 한다고 생각합니다.\"\"\"]"
   ]
  },
  {
   "cell_type": "code",
   "execution_count": 39,
   "id": "812015fe",
   "metadata": {},
   "outputs": [
    {
     "data": {
      "application/vnd.jupyter.widget-view+json": {
       "model_id": "8468cd9b57354edda5f441764d9cf967",
       "version_major": 2,
       "version_minor": 0
      },
      "text/plain": [
       "Downloading:   0%|          | 0.00/2.37k [00:00<?, ?B/s]"
      ]
     },
     "metadata": {},
     "output_type": "display_data"
    },
    {
     "data": {
      "text/html": [
       "<div>\n",
       "<style scoped>\n",
       "    .dataframe tbody tr th:only-of-type {\n",
       "        vertical-align: middle;\n",
       "    }\n",
       "\n",
       "    .dataframe tbody tr th {\n",
       "        vertical-align: top;\n",
       "    }\n",
       "\n",
       "    .dataframe thead th {\n",
       "        text-align: right;\n",
       "    }\n",
       "</style>\n",
       "<table border=\"1\" class=\"dataframe\">\n",
       "  <thead>\n",
       "    <tr style=\"text-align: right;\">\n",
       "      <th></th>\n",
       "      <th>Value</th>\n",
       "    </tr>\n",
       "  </thead>\n",
       "  <tbody>\n",
       "    <tr>\n",
       "      <th>score</th>\n",
       "      <td>6.625457</td>\n",
       "    </tr>\n",
       "    <tr>\n",
       "      <th>counts</th>\n",
       "      <td>[55, 18, 9, 7]</td>\n",
       "    </tr>\n",
       "    <tr>\n",
       "      <th>totals</th>\n",
       "      <td>[183, 182, 181, 180]</td>\n",
       "    </tr>\n",
       "    <tr>\n",
       "      <th>precisions</th>\n",
       "      <td>[30.05, 9.89, 4.97, 3.89]</td>\n",
       "    </tr>\n",
       "    <tr>\n",
       "      <th>bp</th>\n",
       "      <td>0.760922</td>\n",
       "    </tr>\n",
       "    <tr>\n",
       "      <th>sys_len</th>\n",
       "      <td>183</td>\n",
       "    </tr>\n",
       "    <tr>\n",
       "      <th>ref_len</th>\n",
       "      <td>233</td>\n",
       "    </tr>\n",
       "  </tbody>\n",
       "</table>\n",
       "</div>"
      ],
      "text/plain": [
       "                                Value\n",
       "score                        6.625457\n",
       "counts                 [55, 18, 9, 7]\n",
       "totals           [183, 182, 181, 180]\n",
       "precisions  [30.05, 9.89, 4.97, 3.89]\n",
       "bp                           0.760922\n",
       "sys_len                           183\n",
       "ref_len                           233"
      ]
     },
     "execution_count": 39,
     "metadata": {},
     "output_type": "execute_result"
    }
   ],
   "source": [
    "bleu_metric = load_metric(\"sacrebleu\")\n",
    "\n",
    "bleu_metric.add(\n",
    "    prediction=src_input, reference=reference)\n",
    "results = bleu_metric.compute(smooth_method=\"floor\", smooth_value=0)\n",
    "results[\"precisions\"] = [np.round(p, 2) for p in results[\"precisions\"]]\n",
    "pd.DataFrame.from_dict(results, orient=\"index\", columns=[\"Value\"])"
   ]
  }
 ],
 "metadata": {
  "kernelspec": {
   "display_name": "Python 3 (ipykernel)",
   "language": "python",
   "name": "python3"
  },
  "language_info": {
   "codemirror_mode": {
    "name": "ipython",
    "version": 3
   },
   "file_extension": ".py",
   "mimetype": "text/x-python",
   "name": "python",
   "nbconvert_exporter": "python",
   "pygments_lexer": "ipython3",
   "version": "3.9.7"
  }
 },
 "nbformat": 4,
 "nbformat_minor": 5
}
