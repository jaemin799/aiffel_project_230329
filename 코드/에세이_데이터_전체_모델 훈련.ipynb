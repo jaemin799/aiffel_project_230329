{
 "cells": [
  {
   "cell_type": "markdown",
   "id": "e214e729",
   "metadata": {},
   "source": [
    "# 알집 풀기 "
   ]
  },
  {
   "cell_type": "code",
   "execution_count": 1,
   "id": "6b0598f1",
   "metadata": {},
   "outputs": [],
   "source": [
    "from zipfile import ZipFile\n",
    "\n",
    "with ZipFile('all_train.zip', 'r') as zip:\n",
    "    zip.extractall()"
   ]
  },
  {
   "cell_type": "code",
   "execution_count": 2,
   "id": "5601c829",
   "metadata": {},
   "outputs": [],
   "source": [
    "with ZipFile(\"all_test.zip\", 'r') as zip:\n",
    "    zip.extractall()"
   ]
  },
  {
   "cell_type": "markdown",
   "id": "2954e6a6",
   "metadata": {},
   "source": [
    "# 데이터 불러오기"
   ]
  },
  {
   "cell_type": "code",
   "execution_count": 3,
   "id": "19aa3796",
   "metadata": {},
   "outputs": [],
   "source": [
    "import os\n",
    "import glob"
   ]
  },
  {
   "cell_type": "code",
   "execution_count": 4,
   "id": "4614a58a",
   "metadata": {},
   "outputs": [
    {
     "name": "stdout",
     "output_type": "stream",
     "text": [
      "/aiffel/aiffel/aiffel_project/fianl_model_train_all_data/all_train/*\n",
      "/aiffel/aiffel/aiffel_project/fianl_model_train_all_data/all_test/*\n"
     ]
    }
   ],
   "source": [
    "train_dir = os.getenv(\"HOME\") + \"/aiffel/aiffel_project/fianl_model_train_all_data/all_train/*\"\n",
    "test_dir = os.getenv(\"HOME\") + \"/aiffel/aiffel_project/fianl_model_train_all_data/all_test/*\"\n",
    "\n",
    "print(train_dir)\n",
    "print(test_dir)"
   ]
  },
  {
   "cell_type": "code",
   "execution_count": 5,
   "id": "a1b5c966",
   "metadata": {},
   "outputs": [
    {
     "name": "stdout",
     "output_type": "stream",
     "text": [
      "훈련 데이터 리스트\n",
      "['/aiffel/aiffel/aiffel_project/fianl_model_train_all_data/all_train/▒█┴■▒Γ_░φ╡ε_1╟╨│Γ_ESSAY_66134.json', '/aiffel/aiffel/aiffel_project/fianl_model_train_all_data/all_train/┤δ╛╚┴ª╜├_┴▀╡ε_1╟╨│Γ_ESSAY_69269.json', '/aiffel/aiffel/aiffel_project/fianl_model_train_all_data/all_train/╝│╕φ▒█_┴▀╡ε_2╟╨│Γ_ESSAY_54110.json', '/aiffel/aiffel/aiffel_project/fianl_model_train_all_data/all_train/╝│╕φ▒█_░φ╡ε_3╟╨│Γ_ESSAY_64358.json', '/aiffel/aiffel/aiffel_project/fianl_model_train_all_data/all_train/┬∙╝║╣▌┤δ_┴▀╡ε_3╟╨│Γ_ESSAY_82563.json']\n",
      "\n",
      "\n",
      "테스트 데이터 리스트\n",
      "['/aiffel/aiffel/aiffel_project/fianl_model_train_all_data/all_test/╝│╕φ▒█_░φ╡ε_1╟╨│Γ_ESSAY_35026.json', '/aiffel/aiffel/aiffel_project/fianl_model_train_all_data/all_test/┴╓└σ_░φ╡ε_2╟╨│Γ_ESSAY_85982.json', '/aiffel/aiffel/aiffel_project/fianl_model_train_all_data/all_test/▒█┴■▒Γ_░φ╡ε_2╟╨│Γ_ESSAY_79392.json', '/aiffel/aiffel/aiffel_project/fianl_model_train_all_data/all_test/┬∙╝║╣▌┤δ_┴▀╡ε_3╟╨│Γ_ESSAY_72972.json', '/aiffel/aiffel/aiffel_project/fianl_model_train_all_data/all_test/┬∙╝║╣▌┤δ_░φ╡ε_2╟╨│Γ_ESSAY_86610.json']\n"
     ]
    }
   ],
   "source": [
    "train_list = glob.glob(train_dir)\n",
    "test_list = glob.glob(test_dir)\n",
    "\n",
    "print(\"훈련 데이터 리스트\")\n",
    "print(train_list[:5])\n",
    "print(\"\\n\")\n",
    "print(\"테스트 데이터 리스트\")\n",
    "print(test_list[:5])"
   ]
  },
  {
   "cell_type": "markdown",
   "id": "d11c5f0a",
   "metadata": {},
   "source": [
    "# 데이터 전처리"
   ]
  },
  {
   "cell_type": "code",
   "execution_count": 6,
   "id": "f6c6d2b7",
   "metadata": {},
   "outputs": [
    {
     "name": "stdout",
     "output_type": "stream",
     "text": [
      "['우리는 살면서 아주 당연하게 생각하고 있는 것들이 있습니다. 그러나 당연하다고 여겼던 것이 알고 보니 정말이지 소중하고 중요한 존재였다는 것을 뒤늦게 깨닫곤 합니다. 소중한 것은 너무나도 많지만 그 중 한 가지 예는 바로 병원에서 볼수 있습니다. 바로, 사람의 건강이라고 할 수 있겠습니다. 건강 할 때에는 건강의 소중함에 대해 알지 못합니다. 당연히 누려야 할 권리라고 생각합니다. 그런데 어느 날 허리라도 아픈 상황이 찾아온다면? 의자에 앉아 있는 것도 곤욕이고 서서 어딘가 움직이는 것도 힘들 수 있습니다. 하루 종일 누워서 생활하다 보면 비로소 건강이 얼마나 중요한지 깨달을 수 있습니다. 우리는 건강의 소중함에 대해 뼈저리게 느끼는 일이 평소에 없습니다. 건강할 때 건강을 챙기는 현명한 모습을 보였으면 합니다. 건강을 챙긴다는 것에 의미는 두 가지가 있을 것입니다. 하나는 애초에 문제가 생기지 않게 잘하는 것이고 또 하나는 문제가 생기게 되었을 때, 더 큰 문제로 번지지 않게 빠르게 진압하는 것입니다. 노화는 자연스러운 현상이므로 배제하고, 모두가 공평한 상황에서 갑작스럽게 건강에 찾아올 수 있는 위기 상황으로는 교통사고가 대표적일 것입니다. 갑자기 사고라도 당하게 되면 우리의 건강은 크게 흔들릴 것입니다. 말 그대로 갑작스럽게 건강에 적신호가 켜지는 것입니다. 당장에는 별 문제 없다가 서서히 나타나 점점 심해지는 경우도 있습니다. 건강이 우리의 가장 소중한 것입니다. 그래야 소중한 것을 잃지 않습니다.', '저희 대한민국의 한류문화를 중국으로부터 지키기 위해서는 강력한 맞대응을 해야한다고 생각합니다. 우리나라 높은 분들은 마음이 약한 것인지 중국이 저렇게 버릇없게 나오는데도 아무런 대응을 하지 못하고 국민들에게 의존하고 있습니다. 국민들은 열불을 내면서 중국을 비판하고 뭐라하는데 막상 나라의 높은 사람들이 가만히 있으니까 중국이 더 판을 치는 것 같습니다. 중국으로부터 우리나라의 전통 문화를 지키기 위해서는 중국의 것이 아닌 우리나라의 전통 문화라는 것을 제 3의 나라에 사는 사람들에게 인증시켜주어야 한다고 생각합니다. 예를 들어 우리나라 사람들이 중국 사람들보다 더예전부터 김치를 만들고, 또 먹었다는 증거가 담긴 역사서나 이런 것들을 포함한 영상을 만들어서 방송 또는 전세계 사람들이 즐겨보는 유튜브를 이용하여 퍼트린다면 금방 중국을 제외한 전세계 사람들을 우리 편으로 만들 수 있을 것 같습니다. 그렇다면 중국도 다른 나라 사람들이 자신들을 향해 비판하는 것은 무섭기 때문에 더이상 억지 부리지 않고 우리나라의 전통 문화를  지킬 수 있을 것 같습니다.', '나는 이상형이 있기는 하다. 내가 게임을 좋아하듯이 나는 게임을 좋아하고 잘하는 사람이 이상형이다. 게임을 좋아하면 나와 게임도 같이할 수 있고 많은 이야기들을 나누고 정보도 공유할 수 있을 것 같기 때문이다. 또 키가 크고 손이 큰 사람이 이상형이다. 나는 손이 작은 편인데 손이 크면 마우스를 잡기도 좋고 키보드도 넓게 누를 수 있어서 게임을 더 잘할 것 같다. 그래서 나는 게임을 잘하고 손이 큰 사람이 이상형이다. 나는 이상형에게 잘 보이기 위해 노력을 해본 것은 없다. 왜냐하면 아직 이상형이다라고 생각하는 사람이 없었기 때문이다. 그래서 나는 나 스스로 만족하기 위해 노력하였다.  먼저 여러가지의 게임을 해보고 잘하려고 노력하였다. 그렇다고 게임만 하면 나중에 게임관련 회사에 들어가기 어려우니 공부도 열심히 하려고 노력하였다. 게임 관련회사에 대해서도 공부하고 있다. 또 건강이 나빠지면 아무것도 할 수 없다고 생각하여 운동을 꾸준히 하고 있다. 또 나는 그림에 약한 편이라 게임을 직접 디자인하게 되면 그림을 그리게 될 수도 있으니 그림도 꾸준히 그리고 있다.']\n"
     ]
    }
   ],
   "source": [
    "train_corpus = []\n",
    "\n",
    "import json\n",
    "\n",
    "for file in train_list:\n",
    "    with open(file, 'r') as f:\n",
    "        json_file = json.load(f)\n",
    "        only_txt = json_file['essay_txt']\n",
    "        only_txt = only_txt.replace(\"#@문장구분#\", \"\")\n",
    "        only_txt = only_txt.replace(\"\\b\", \"\")\n",
    "        only_txt = only_txt.replace(\"\\n\", \"\")\n",
    "        train_corpus.append(only_txt)\n",
    "        \n",
    "print(train_corpus[:3])"
   ]
  },
  {
   "cell_type": "code",
   "execution_count": 7,
   "id": "697514a1",
   "metadata": {},
   "outputs": [
    {
     "data": {
      "text/plain": [
       "'우리는 살면서 아주 당연하게 생각하고 있는 것들이 있습니다. 그러나 당연하다고 여겼던 것이 알고 보니 정말이지 소중하고 중요한 존재였다는 것을 뒤늦게 깨닫곤 합니다. 소중한 것은 '"
      ]
     },
     "execution_count": 7,
     "metadata": {},
     "output_type": "execute_result"
    }
   ],
   "source": [
    "train_data = ' '.join(map(str, train_corpus))\n",
    "train_data[:100]"
   ]
  },
  {
   "cell_type": "code",
   "execution_count": 8,
   "id": "40581c33",
   "metadata": {},
   "outputs": [
    {
     "name": "stdout",
     "output_type": "stream",
     "text": [
      "['흔히 미적분이라고 하면 교과서에 있는 재미없는 떠올리기 쉽상이다. 하지만 이책은 달랐다. 이책에서는 생활 속에서의 많은 부분을수학과 관련지어 나타냈다. 커피속에서도 고속도수로속에서도 심지어는 밤하늘에서도 미적분을 발견하기도 하며 하루 하루 겪는 일들을 통하여 일상속에서 숨어 있는 미적분을 찾아내었다. 처음 책을 읽을때는 미적분을 잘몰라 이해하기 어려울거라고 생각했다. 하지만 책에서는 각 개념을 일상생활의 예시로 들어 쉽게 설명해주었고 미적분은 모르지만 책에서는 미적분만 다룬것이아니라 함수와도함수 극한 등 우리가 배운것도 일상생활에서 찾아내 생각보다 어렵지 않게 느끼고 책을 읽을 수 있었다.책에서는 많은 흥미로운 내용이많았다. 우리는 삼각함수 모형에 따른 숙면을 취하고, 교통체증의 이유, 집으로 돌아가는 최적의 길,영화관에서 간격, 의자의 높이,스크린 까지의 거리, 스크린의 높이등을 고려해 최적의 자리를 찾을 수 있고 물리학에서는 적분을 통해 아인슈타인의 중력파이론,르메트르의 우주의 팽창, 우주의 나이등을 알 수 있었다. 이외에도 일상에는 많은 수학이 숨어있었는데 라디오 소리는 사실 압력파의로그함수를 듣는 것이고 우리가 바라보는 빛은 실제로 전자기파의 삼각함수를 보는것과 같다고 한다. 이책을 통해 교과서로 배운 삼각함수 로그함수 미분 적분이 어렵다고만 느껴졌었는데 이책에서 말해주는 일상의 수학은 어렵지않고 쉽게 이해 할 수 있었다. 가장신기한 부분은 우리가 함수를 들을 수 있다는 부분에서 흥미로웠다. 함수는 단지 그래프를 그리고 식을 알기 위해서 배우는 줄 알았는데 이책을 읽어보며 내 주변에도 많은 부분이 수학과 관련되어 있다는 것을 알게되었다. 중간 중간마다 식을 전개하면서 배우지않은부분이 있었지만 그래도 일상생활과 관련되어 있어 신기했다.', \"전세계적인 백신 생산체계를 갖추는 것은 코로나19가 종식된 이후에도 중요하다. 이미 지구촌은 코로나19 전에 메르스, 싸스라는 전염병의 대유행을 겪었다. 바이러스 창궐은 주기적 양상을 보이고 있고 외국여행을 이웃집에 가듯이 하는 유사일에 없었던 발전된 현대인의 삶의 방식은 전염병의 확산을 가속화 시킨다. 앞으로도 전세계는 계속되는 전염병과 싸워야 한다. 사람이 죽어 나가는데 모든 가능성을 찾아보는 것은 고사하고 백신 지식재산권(지적재산권, 특허권) 반대만 외치는 것은 황당하기 그지없지만 바이러스로 부터 살아남을 수 있는 미래의 조건은 전세계적인 백신의 생산체계를 갖추었느냐 아니냐에 달린 문제인데도 이를 부정하는 것은 어떤 합리적 주장을 내세워도 인정될수 없다. 사람의 생명이 가장 우선한다는 인류의 합의된 전제는 어디갔는가? 백신 지식재산권 면제는 현재의 생명뿐만 아니라 미래의 생명을 살리는 길이기도 하다. 그러기 위해서는 백신이 특정 국가나 회사의 독점물로 가 아니라 일류의 공영재가 되지 않으면 안된다. 답은 명백하다. 전염병이 창궐하는 상황에 '나'만 '우리'만 살겠다는 생존 논리는 성공할 수 없다. 오직 모두가 함께 산다는 방법을 통해서만 나와 우리의 생존도 보장받을 수 있다. 이기심을 내려놓고 돈의 논리, 시장의 논리 밖에서 생각할 때 인간의 생명이 가장 우선한다는 인도주의가 보일 것이다. 그래서 어서 빨리 백신에 대한 지적재산권이 완화되어 전 세계적으로 유행하는 코로나가 빨리 종식되었으면 좋겠습니다.\", '위성 인터넷으로 전세계를 연결하겠다는 일론 머스크 테슬라 창업자의 \\'스타링크\\' 프로젝트에 대한 반발이 나날이 확산되고 있는 추세이다. 소유권이 없고, 특별한 규제도 없는 우주 공간을 개인이 선점하고 사업에 활용하도록 방치해서는 안된다는 것이다. 요제프 아슈바허 유럽우주국 사무총장은 영국 파이낸셜타임스 인터뷰에서 다음과 같은 인터뷰를 하였다. \"전세계 위성의 절반을 머스크라는 한 사람이 차지하고 있다\"면서 \"머스크가 우주 경제를 지배하는 것을 막기 위해 규제를 도입해야 한다\"고 말했다. 머스크가 세운 민간우주회사 스페이스X는 4만개 이상의 위성을 지구 저궤도에 쏘아올려 전세계 어디에서나 기지국 없이 인터넷을 서비스하는 스타링크 사업을 진행하고 있다. 이미 2000대의 위성을 쏘아올렸고 지난해부터 상용 서비스도 시작했다. 하지만 스페이스X가 한정된 지구 궤도에 지나치게 많은 위성을 쏘아 올리면서 공간을 선점하고 있는 데에다, 다른 위성과의 충돌 위험도 높아졌다는 불만이 높아지고 있다. 프란츠 파이요 룩셈부르크 경제장관은 지난달 열린 뉴스페이스 컨퍼런스에서 \"우주에는 새 규제가 필수적\"이라며 \"우주의  식민지화를 막아야 한다\"고 했다. 과학자들도 비판에 동참했다. 영국 왕립천문학회는 지난 12월 2일 \"스페이스X가 소형 인공위성을 대량으로 쏘아 올리면서 광공해가 생겨, 천체를 분별하기 어려워졌다\"면서 \"위성이 전파를 방해해 우주 관측에 악영향을 끼칠 수 있다\"고 지적했다. 그의 이상과 그걸 행동하는 행동력은 항상 박수를 쳐주고 싶을 정도이다. 실제로 국제 사회에 중요한 역할을 맡고 있다고 생각하기 때문인데, 하지만 그도 이렇게 영향력있는 인물이 된 만큼 나무만을 볼 것이 아닌 숲을 봐야 할 시기가 되었다고 생각하는 바이며 많은 사람들이 우려하고 있는 부분을 놓쳐서는 안 된다고 생각한다.']\n"
     ]
    }
   ],
   "source": [
    "test_corpus = []\n",
    "\n",
    "for file in test_list:\n",
    "    with open(file, 'r') as f:\n",
    "        json_file = json.load(f)\n",
    "        only_txt = json_file['essay_txt']\n",
    "        only_txt = only_txt.replace(\"#@문장구분#\", \"\")\n",
    "        only_txt = only_txt.replace(\"\\b\", \"\")\n",
    "        only_txt = only_txt.replace(\"\\n\", \"\")\n",
    "        test_corpus.append(only_txt)\n",
    "        \n",
    "print(test_corpus[:3])"
   ]
  },
  {
   "cell_type": "code",
   "execution_count": 9,
   "id": "11cde1a5",
   "metadata": {},
   "outputs": [
    {
     "name": "stdout",
     "output_type": "stream",
     "text": [
      "흔히 미적분이라고 하면 교과서에 있는 재미없는 떠올리기 쉽상이다. 하지만 이책은 달랐다. 이책에서는 생활 속에서의 많은 부분을수학과 관련지어 나타냈다. 커피속에서도 고속도수로속에서\n"
     ]
    }
   ],
   "source": [
    "test_data = ' '.join(map(str, test_corpus))\n",
    "print(test_data[:100])"
   ]
  },
  {
   "cell_type": "markdown",
   "id": "8c97b673",
   "metadata": {},
   "source": [
    "# 사전 훈련된 모델 불러오기"
   ]
  },
  {
   "cell_type": "code",
   "execution_count": 10,
   "id": "c89f00a0",
   "metadata": {},
   "outputs": [
    {
     "data": {
      "application/vnd.jupyter.widget-view+json": {
       "model_id": "bc7fa136ebbc44beb9effe94227e38ca",
       "version_major": 2,
       "version_minor": 0
      },
      "text/plain": [
       "Downloading:   0%|          | 0.00/2.69M [00:00<?, ?B/s]"
      ]
     },
     "metadata": {},
     "output_type": "display_data"
    },
    {
     "data": {
      "application/vnd.jupyter.widget-view+json": {
       "model_id": "550a6ea3fcb84c5399559f3a575a0882",
       "version_major": 2,
       "version_minor": 0
      },
      "text/plain": [
       "Downloading:   0%|          | 0.00/0.98k [00:00<?, ?B/s]"
      ]
     },
     "metadata": {},
     "output_type": "display_data"
    },
    {
     "name": "stderr",
     "output_type": "stream",
     "text": [
      "The tokenizer class you load from this checkpoint is not the same type as the class this function is called from. It may result in unexpected tokenization. \n",
      "The tokenizer class you load from this checkpoint is 'GPT2Tokenizer'. \n",
      "The class this function is called from is 'PreTrainedTokenizerFast'.\n",
      "Special tokens have been added in the vocabulary, make sure the associated word embeddings are fine-tuned or trained.\n",
      "/opt/conda/lib/python3.9/site-packages/transformers/models/auto/modeling_auto.py:660: FutureWarning: The class `AutoModelWithLMHead` is deprecated and will be removed in a future version. Please use `AutoModelForCausalLM` for causal language models, `AutoModelForMaskedLM` for masked language models and `AutoModelForSeq2SeqLM` for encoder-decoder models.\n",
      "  warnings.warn(\n"
     ]
    },
    {
     "data": {
      "application/vnd.jupyter.widget-view+json": {
       "model_id": "da8b2862b5ae489985c70b6d4feeeaf4",
       "version_major": 2,
       "version_minor": 0
      },
      "text/plain": [
       "Downloading:   0%|          | 0.00/490M [00:00<?, ?B/s]"
      ]
     },
     "metadata": {},
     "output_type": "display_data"
    }
   ],
   "source": [
    "from transformers import PreTrainedTokenizerFast, AutoModelWithLMHead\n",
    "\n",
    "tokenizer = PreTrainedTokenizerFast.from_pretrained(\"skt/kogpt2-base-v2\",\n",
    "                                                   bos_token=\"</s>\",\n",
    "                                                   eos_token=\"</s>\",\n",
    "                                                   unk_token=\"<unk>\",\n",
    "                                                   pad_token=\"<pad>\",\n",
    "                                                   mask_token=\"<mask\")\n",
    "\n",
    "model = AutoModelWithLMHead.from_pretrained(\"skt/kogpt2-base-v2\")"
   ]
  },
  {
   "cell_type": "markdown",
   "id": "0d85cb8c",
   "metadata": {},
   "source": [
    "# 토크나이저 함수"
   ]
  },
  {
   "cell_type": "code",
   "execution_count": 11,
   "id": "df667f2c",
   "metadata": {},
   "outputs": [
    {
     "name": "stdout",
     "output_type": "stream",
     "text": [
      "Collecting fastai\n",
      "  Downloading fastai-2.7.11-py3-none-any.whl (232 kB)\n",
      "     |████████████████████████████████| 232 kB 6.6 MB/s            \n",
      "\u001b[?25hRequirement already satisfied: pip in /opt/conda/lib/python3.9/site-packages (from fastai) (21.3.1)\n",
      "Requirement already satisfied: torchvision>=0.8.2 in /opt/conda/lib/python3.9/site-packages (from fastai) (0.10.1+cu111)\n",
      "Collecting spacy<4\n",
      "  Downloading spacy-3.5.1-cp39-cp39-manylinux_2_17_x86_64.manylinux2014_x86_64.whl (6.6 MB)\n",
      "     |████████████████████████████████| 6.6 MB 89.1 MB/s            \n",
      "\u001b[?25hRequirement already satisfied: packaging in /opt/conda/lib/python3.9/site-packages (from fastai) (21.3)\n",
      "Collecting fastcore<1.6,>=1.4.5\n",
      "  Downloading fastcore-1.5.28-py3-none-any.whl (67 kB)\n",
      "     |████████████████████████████████| 67 kB 9.0 MB/s             \n",
      "\u001b[?25hRequirement already satisfied: scipy in /opt/conda/lib/python3.9/site-packages (from fastai) (1.7.1)\n",
      "Collecting fastdownload<2,>=0.0.5\n",
      "  Downloading fastdownload-0.0.7-py3-none-any.whl (12 kB)\n",
      "Requirement already satisfied: requests in /opt/conda/lib/python3.9/site-packages (from fastai) (2.26.0)\n",
      "Collecting fastprogress>=0.2.4\n",
      "  Downloading fastprogress-1.0.3-py3-none-any.whl (12 kB)\n",
      "Requirement already satisfied: matplotlib in /opt/conda/lib/python3.9/site-packages (from fastai) (3.4.3)\n",
      "Requirement already satisfied: pandas in /opt/conda/lib/python3.9/site-packages (from fastai) (1.3.3)\n",
      "Requirement already satisfied: scikit-learn in /opt/conda/lib/python3.9/site-packages (from fastai) (1.0)\n",
      "Requirement already satisfied: torch<1.14,>=1.7 in /opt/conda/lib/python3.9/site-packages (from fastai) (1.9.1+cu111)\n",
      "Requirement already satisfied: pyyaml in /opt/conda/lib/python3.9/site-packages (from fastai) (6.0)\n",
      "Requirement already satisfied: pillow>6.0.0 in /opt/conda/lib/python3.9/site-packages (from fastai) (8.3.2)\n",
      "Collecting srsly<3.0.0,>=2.4.3\n",
      "  Downloading srsly-2.4.6-cp39-cp39-manylinux_2_17_x86_64.manylinux2014_x86_64.whl (491 kB)\n",
      "     |████████████████████████████████| 491 kB 71.5 MB/s            \n",
      "\u001b[?25hCollecting typer<0.8.0,>=0.3.0\n",
      "  Downloading typer-0.7.0-py3-none-any.whl (38 kB)\n",
      "Requirement already satisfied: numpy>=1.15.0 in /opt/conda/lib/python3.9/site-packages (from spacy<4->fastai) (1.21.4)\n",
      "Collecting murmurhash<1.1.0,>=0.28.0\n",
      "  Downloading murmurhash-1.0.9-cp39-cp39-manylinux_2_5_x86_64.manylinux1_x86_64.manylinux_2_17_x86_64.manylinux2014_x86_64.whl (21 kB)\n",
      "Collecting cymem<2.1.0,>=2.0.2\n",
      "  Downloading cymem-2.0.7-cp39-cp39-manylinux_2_17_x86_64.manylinux2014_x86_64.whl (35 kB)\n",
      "Collecting spacy-legacy<3.1.0,>=3.0.11\n",
      "  Downloading spacy_legacy-3.0.12-py2.py3-none-any.whl (29 kB)\n",
      "Requirement already satisfied: jinja2 in /opt/conda/lib/python3.9/site-packages (from spacy<4->fastai) (3.0.3)\n",
      "Collecting pathy>=0.10.0\n",
      "  Downloading pathy-0.10.1-py3-none-any.whl (48 kB)\n",
      "     |████████████████████████████████| 48 kB 9.1 MB/s             \n",
      "\u001b[?25hCollecting catalogue<2.1.0,>=2.0.6\n",
      "  Downloading catalogue-2.0.8-py3-none-any.whl (17 kB)\n",
      "Collecting preshed<3.1.0,>=3.0.2\n",
      "  Downloading preshed-3.0.8-cp39-cp39-manylinux_2_5_x86_64.manylinux1_x86_64.manylinux_2_17_x86_64.manylinux2014_x86_64.whl (128 kB)\n",
      "     |████████████████████████████████| 128 kB 67.7 MB/s            \n",
      "\u001b[?25hRequirement already satisfied: smart-open<7.0.0,>=5.2.1 in /opt/conda/lib/python3.9/site-packages (from spacy<4->fastai) (5.2.1)\n",
      "Collecting thinc<8.2.0,>=8.1.8\n",
      "  Downloading thinc-8.1.9-cp39-cp39-manylinux_2_17_x86_64.manylinux2014_x86_64.whl (922 kB)\n",
      "     |████████████████████████████████| 922 kB 88.0 MB/s            \n",
      "\u001b[?25hRequirement already satisfied: tqdm<5.0.0,>=4.38.0 in /opt/conda/lib/python3.9/site-packages (from spacy<4->fastai) (4.62.3)\n",
      "Collecting wasabi<1.2.0,>=0.9.1\n",
      "  Downloading wasabi-1.1.1-py3-none-any.whl (27 kB)\n",
      "Collecting spacy-loggers<2.0.0,>=1.0.0\n",
      "  Downloading spacy_loggers-1.0.4-py3-none-any.whl (11 kB)\n",
      "Collecting pydantic!=1.8,!=1.8.1,<1.11.0,>=1.7.4\n",
      "  Downloading pydantic-1.10.7-cp39-cp39-manylinux_2_17_x86_64.manylinux2014_x86_64.whl (3.2 MB)\n",
      "     |████████████████████████████████| 3.2 MB 76.3 MB/s            \n",
      "\u001b[?25hRequirement already satisfied: setuptools in /opt/conda/lib/python3.9/site-packages (from spacy<4->fastai) (59.4.0)\n",
      "Collecting langcodes<4.0.0,>=3.2.0\n",
      "  Downloading langcodes-3.3.0-py3-none-any.whl (181 kB)\n",
      "     |████████████████████████████████| 181 kB 85.0 MB/s            \n",
      "\u001b[?25hRequirement already satisfied: pyparsing!=3.0.5,>=2.0.2 in /opt/conda/lib/python3.9/site-packages (from packaging->fastai) (3.0.6)\n",
      "Requirement already satisfied: urllib3<1.27,>=1.21.1 in /opt/conda/lib/python3.9/site-packages (from requests->fastai) (1.26.7)\n",
      "Requirement already satisfied: charset-normalizer~=2.0.0 in /opt/conda/lib/python3.9/site-packages (from requests->fastai) (2.0.8)\n",
      "Requirement already satisfied: certifi>=2017.4.17 in /opt/conda/lib/python3.9/site-packages (from requests->fastai) (2021.10.8)\n",
      "Requirement already satisfied: idna<4,>=2.5 in /opt/conda/lib/python3.9/site-packages (from requests->fastai) (2.10)\n",
      "Requirement already satisfied: typing-extensions in /opt/conda/lib/python3.9/site-packages (from torch<1.14,>=1.7->fastai) (4.0.1)\n",
      "Requirement already satisfied: kiwisolver>=1.0.1 in /opt/conda/lib/python3.9/site-packages (from matplotlib->fastai) (1.3.2)\n",
      "Requirement already satisfied: cycler>=0.10 in /opt/conda/lib/python3.9/site-packages (from matplotlib->fastai) (0.11.0)\n",
      "Requirement already satisfied: python-dateutil>=2.7 in /opt/conda/lib/python3.9/site-packages (from matplotlib->fastai) (2.8.2)\n",
      "Requirement already satisfied: pytz>=2017.3 in /opt/conda/lib/python3.9/site-packages (from pandas->fastai) (2021.3)\n",
      "Requirement already satisfied: joblib>=0.11 in /opt/conda/lib/python3.9/site-packages (from scikit-learn->fastai) (1.1.0)\n",
      "Requirement already satisfied: threadpoolctl>=2.0.0 in /opt/conda/lib/python3.9/site-packages (from scikit-learn->fastai) (3.0.0)\n",
      "Collecting typing-extensions\n",
      "  Downloading typing_extensions-4.5.0-py3-none-any.whl (27 kB)\n",
      "Requirement already satisfied: six>=1.5 in /opt/conda/lib/python3.9/site-packages (from python-dateutil>=2.7->matplotlib->fastai) (1.16.0)\n",
      "Collecting confection<1.0.0,>=0.0.1\n",
      "  Downloading confection-0.0.4-py3-none-any.whl (32 kB)\n",
      "Collecting blis<0.8.0,>=0.7.8\n",
      "  Downloading blis-0.7.9-cp39-cp39-manylinux_2_17_x86_64.manylinux2014_x86_64.whl (10.2 MB)\n",
      "     |████████████████████████████████| 10.2 MB 66.6 MB/s            \n",
      "\u001b[?25hRequirement already satisfied: click<9.0.0,>=7.1.1 in /opt/conda/lib/python3.9/site-packages (from typer<0.8.0,>=0.3.0->spacy<4->fastai) (8.0.3)\n",
      "Requirement already satisfied: MarkupSafe>=2.0 in /opt/conda/lib/python3.9/site-packages (from jinja2->spacy<4->fastai) (2.0.1)\n",
      "Installing collected packages: typing-extensions, catalogue, srsly, pydantic, murmurhash, cymem, wasabi, typer, preshed, confection, blis, thinc, spacy-loggers, spacy-legacy, pathy, langcodes, fastprogress, fastcore, spacy, fastdownload, fastai\n",
      "  Attempting uninstall: typing-extensions\n",
      "    Found existing installation: typing-extensions 4.0.1\n",
      "    Uninstalling typing-extensions-4.0.1:\n",
      "      Successfully uninstalled typing-extensions-4.0.1\n",
      "\u001b[31mERROR: pip's dependency resolver does not currently take into account all the packages that are installed. This behaviour is the source of the following dependency conflicts.\n",
      "tensorflow-gpu 2.6.0 requires numpy~=1.19.2, but you have numpy 1.21.4 which is incompatible.\n",
      "tensorflow-gpu 2.6.0 requires six~=1.15.0, but you have six 1.16.0 which is incompatible.\n",
      "tensorflow-gpu 2.6.0 requires typing-extensions~=3.7.4, but you have typing-extensions 4.5.0 which is incompatible.\u001b[0m\n",
      "Successfully installed blis-0.7.9 catalogue-2.0.8 confection-0.0.4 cymem-2.0.7 fastai-2.7.11 fastcore-1.5.28 fastdownload-0.0.7 fastprogress-1.0.3 langcodes-3.3.0 murmurhash-1.0.9 pathy-0.10.1 preshed-3.0.8 pydantic-1.10.7 spacy-3.5.1 spacy-legacy-3.0.12 spacy-loggers-1.0.4 srsly-2.4.6 thinc-8.1.9 typer-0.7.0 typing-extensions-4.5.0 wasabi-1.1.1\n",
      "\u001b[33mWARNING: Running pip as the 'root' user can result in broken permissions and conflicting behaviour with the system package manager. It is recommended to use a virtual environment instead: https://pip.pypa.io/warnings/venv\u001b[0m\n"
     ]
    }
   ],
   "source": [
    "!pip install fastai\n",
    "\n",
    "import fastai\n",
    "from fastai.text.all import *\n",
    "import torch"
   ]
  },
  {
   "cell_type": "code",
   "execution_count": 12,
   "id": "d71123fd",
   "metadata": {},
   "outputs": [],
   "source": [
    "class TransformersTokenizer(Transform):\n",
    "    def __init__(self, tokenizer):\n",
    "        self.tokenizer = tokenizer\n",
    "        \n",
    "    def encodes(self, x):\n",
    "        toks = self.tokenizer.tokenize(x)\n",
    "        return tensor(self.tokenizer.convert_tokens_to_ids(toks))\n",
    "    \n",
    "    def decodes(self, x):\n",
    "        return TitledStr(self.tokenizer.decode(x.cpu().numpy()))"
   ]
  },
  {
   "cell_type": "code",
   "execution_count": 13,
   "id": "8b0214ec",
   "metadata": {},
   "outputs": [],
   "source": [
    "splits =[[0], [1]]\n",
    "\n",
    "tls = TfmdLists([train_data, test_data], TransformersTokenizer(tokenizer), \n",
    "                splits=splits, dl_type=LMDataLoader)\n",
    "batch, seq_len = 8, 256\n",
    "dls = tls.dataloaders(bs=batch, seq_len=seq_len)"
   ]
  },
  {
   "cell_type": "markdown",
   "id": "2b19ed81",
   "metadata": {},
   "source": [
    "# 모델 학습"
   ]
  },
  {
   "cell_type": "code",
   "execution_count": 14,
   "id": "b7bd670d",
   "metadata": {},
   "outputs": [
    {
     "data": {
      "text/html": [
       "\n",
       "<style>\n",
       "    /* Turns off some styling */\n",
       "    progress {\n",
       "        /* gets rid of default border in Firefox and Opera. */\n",
       "        border: none;\n",
       "        /* Needs to be in here for Safari polyfill so background images work as expected. */\n",
       "        background-size: auto;\n",
       "    }\n",
       "    progress:not([value]), progress:not([value])::-webkit-progress-bar {\n",
       "        background: repeating-linear-gradient(45deg, #7e7e7e, #7e7e7e 10px, #5c5c5c 10px, #5c5c5c 20px);\n",
       "    }\n",
       "    .progress-bar-interrupted, .progress-bar-interrupted::-webkit-progress-bar {\n",
       "        background: #F44336;\n",
       "    }\n",
       "</style>\n"
      ],
      "text/plain": [
       "<IPython.core.display.HTML object>"
      ]
     },
     "metadata": {},
     "output_type": "display_data"
    },
    {
     "data": {
      "text/html": [],
      "text/plain": [
       "<IPython.core.display.HTML object>"
      ]
     },
     "metadata": {},
     "output_type": "display_data"
    },
    {
     "name": "stdout",
     "output_type": "stream",
     "text": [
      "SuggestedLRs(valley=4.365158383734524e-05)\n"
     ]
    },
    {
     "data": {
      "text/html": [
       "\n",
       "<style>\n",
       "    /* Turns off some styling */\n",
       "    progress {\n",
       "        /* gets rid of default border in Firefox and Opera. */\n",
       "        border: none;\n",
       "        /* Needs to be in here for Safari polyfill so background images work as expected. */\n",
       "        background-size: auto;\n",
       "    }\n",
       "    progress:not([value]), progress:not([value])::-webkit-progress-bar {\n",
       "        background: repeating-linear-gradient(45deg, #7e7e7e, #7e7e7e 10px, #5c5c5c 10px, #5c5c5c 20px);\n",
       "    }\n",
       "    .progress-bar-interrupted, .progress-bar-interrupted::-webkit-progress-bar {\n",
       "        background: #F44336;\n",
       "    }\n",
       "</style>\n"
      ],
      "text/plain": [
       "<IPython.core.display.HTML object>"
      ]
     },
     "metadata": {},
     "output_type": "display_data"
    },
    {
     "data": {
      "text/html": [
       "<table border=\"1\" class=\"dataframe\">\n",
       "  <thead>\n",
       "    <tr style=\"text-align: left;\">\n",
       "      <th>epoch</th>\n",
       "      <th>train_loss</th>\n",
       "      <th>valid_loss</th>\n",
       "      <th>perplexity</th>\n",
       "      <th>time</th>\n",
       "    </tr>\n",
       "  </thead>\n",
       "  <tbody>\n",
       "    <tr>\n",
       "      <td>0</td>\n",
       "      <td>5.045368</td>\n",
       "      <td>5.036009</td>\n",
       "      <td>153.854721</td>\n",
       "      <td>18:45</td>\n",
       "    </tr>\n",
       "  </tbody>\n",
       "</table>"
      ],
      "text/plain": [
       "<IPython.core.display.HTML object>"
      ]
     },
     "metadata": {},
     "output_type": "display_data"
    },
    {
     "data": {
      "text/html": [
       "\n",
       "<style>\n",
       "    /* Turns off some styling */\n",
       "    progress {\n",
       "        /* gets rid of default border in Firefox and Opera. */\n",
       "        border: none;\n",
       "        /* Needs to be in here for Safari polyfill so background images work as expected. */\n",
       "        background-size: auto;\n",
       "    }\n",
       "    progress:not([value]), progress:not([value])::-webkit-progress-bar {\n",
       "        background: repeating-linear-gradient(45deg, #7e7e7e, #7e7e7e 10px, #5c5c5c 10px, #5c5c5c 20px);\n",
       "    }\n",
       "    .progress-bar-interrupted, .progress-bar-interrupted::-webkit-progress-bar {\n",
       "        background: #F44336;\n",
       "    }\n",
       "</style>\n"
      ],
      "text/plain": [
       "<IPython.core.display.HTML object>"
      ]
     },
     "metadata": {},
     "output_type": "display_data"
    },
    {
     "data": {
      "text/html": [
       "<table border=\"1\" class=\"dataframe\">\n",
       "  <thead>\n",
       "    <tr style=\"text-align: left;\">\n",
       "      <th>epoch</th>\n",
       "      <th>train_loss</th>\n",
       "      <th>valid_loss</th>\n",
       "      <th>perplexity</th>\n",
       "      <th>time</th>\n",
       "    </tr>\n",
       "  </thead>\n",
       "  <tbody>\n",
       "    <tr>\n",
       "      <td>0</td>\n",
       "      <td>4.073796</td>\n",
       "      <td>4.561238</td>\n",
       "      <td>95.701866</td>\n",
       "      <td>18:46</td>\n",
       "    </tr>\n",
       "    <tr>\n",
       "      <td>1</td>\n",
       "      <td>3.912939</td>\n",
       "      <td>4.444392</td>\n",
       "      <td>85.148071</td>\n",
       "      <td>18:50</td>\n",
       "    </tr>\n",
       "    <tr>\n",
       "      <td>2</td>\n",
       "      <td>3.404622</td>\n",
       "      <td>4.309067</td>\n",
       "      <td>74.371048</td>\n",
       "      <td>18:55</td>\n",
       "    </tr>\n",
       "    <tr>\n",
       "      <td>3</td>\n",
       "      <td>2.780066</td>\n",
       "      <td>4.290527</td>\n",
       "      <td>73.004921</td>\n",
       "      <td>19:01</td>\n",
       "    </tr>\n",
       "    <tr>\n",
       "      <td>4</td>\n",
       "      <td>2.366638</td>\n",
       "      <td>4.365911</td>\n",
       "      <td>78.721046</td>\n",
       "      <td>19:08</td>\n",
       "    </tr>\n",
       "  </tbody>\n",
       "</table>"
      ],
      "text/plain": [
       "<IPython.core.display.HTML object>"
      ]
     },
     "metadata": {},
     "output_type": "display_data"
    },
    {
     "data": {
      "image/png": "[encoded data removed]",
      "text/plain": [
       "<Figure size 432x288 with 1 Axes>"
      ]
     },
     "metadata": {
      "needs_background": "light"
     },
     "output_type": "display_data"
    }
   ],
   "source": [
    "class DropOutput(Callback):\n",
    "    def after_pred(self):\n",
    "        self.learn.pred = self.pred[0]\n",
    "        \n",
    "learn = Learner(dls, model, loss_func=CrossEntropyLossFlat(), cbs=[DropOutput],\n",
    "               metrics=Perplexity()).to_fp16()\n",
    "lr = learn.lr_find()\n",
    "print(lr)\n",
    "learn.fine_tune(5)"
   ]
  },
  {
   "cell_type": "markdown",
   "id": "93e9e334",
   "metadata": {},
   "source": [
    "# 문장 생성"
   ]
  },
  {
   "cell_type": "code",
   "execution_count": 15,
   "id": "a74a2dba",
   "metadata": {},
   "outputs": [
    {
     "name": "stdout",
     "output_type": "stream",
     "text": [
      "한국의 몇몇 연예인들은 동북공정을 인정하지 않고 sns와 해외 방송등 에서 김장을 하거나 한복을 입고, 일상생활 속으로 중국꺼를 왜곡하고 있다. 이러한 행동들이 계속 우리 사회에 만연하게 퍼져나가고 있다는 것을 알 수 있었다. 그래서 나는 이런 중국의 행동에 대해 적극적으로 대응해야 한다고 생각한다. 중국이 우리나라 문화를 빼앗아 가려고 하는 것은 정말 말도 안되는 소리라고 생각을 한다. 그렇기 때문에 우리는 우리의 문화에 대해서 더욱 더 관심을 가져야 하고 또 우리가 먼저 우리나라의 문화와 전통에 대한 지식을 가지고 있어야 할 것이다. 그리고 그렇게 해야만 다른 나라 사람들이 자신의 문화나 문화유산에 대하여 제대로 알고 있을 것이라고 생각이 된다. 왜냐하면 그래야지 모두가 당당하게 주장할 것이기 때문이다. 저\n"
     ]
    }
   ],
   "source": [
    "prompt = \"한국의 몇몇 연예인들은 동북공정을 인정하지 않고 sns와 해외 방송등 에서 김장을 하거나 한복을 입고,\"\n",
    "prompt_ids = tokenizer.encode(prompt)\n",
    "inp = tensor(prompt_ids)[None].cuda()\n",
    "preds = learn.model.generate(inp,\n",
    "                            max_length=128,\n",
    "                            pad_token_id=tokenizer.pad_token_id,\n",
    "                            eos_token_id=tokenizer.eos_token_id,\n",
    "                            bos_token_id=tokenizer.bos_token_id,\n",
    "                            repetition_penalty=2.0,\n",
    "                            use_cache=True)\n",
    "src_input = tokenizer.decode(preds[0].cpu().numpy())\n",
    "print(src_input)"
   ]
  },
  {
   "cell_type": "markdown",
   "id": "ec96ecc8",
   "metadata": {},
   "source": [
    "# BLEU Score"
   ]
  },
  {
   "cell_type": "code",
   "execution_count": 16,
   "id": "261556b6",
   "metadata": {},
   "outputs": [
    {
     "name": "stdout",
     "output_type": "stream",
     "text": [
      "huggingface/tokenizers: The current process just got forked, after parallelism has already been used. Disabling parallelism to avoid deadlocks...\n",
      "To disable this warning, you can either:\n",
      "\t- Avoid using `tokenizers` before the fork if possible\n",
      "\t- Explicitly set the environment variable TOKENIZERS_PARALLELISM=(true | false)\n",
      "Requirement already satisfied: datasets in /opt/conda/lib/python3.9/site-packages (1.14.0)\n",
      "Requirement already satisfied: pandas in /opt/conda/lib/python3.9/site-packages (from datasets) (1.3.3)\n",
      "Requirement already satisfied: packaging in /opt/conda/lib/python3.9/site-packages (from datasets) (21.3)\n",
      "Requirement already satisfied: requests>=2.19.0 in /opt/conda/lib/python3.9/site-packages (from datasets) (2.26.0)\n",
      "Requirement already satisfied: numpy>=1.17 in /opt/conda/lib/python3.9/site-packages (from datasets) (1.21.4)\n",
      "Requirement already satisfied: pyarrow!=4.0.0,>=1.0.0 in /opt/conda/lib/python3.9/site-packages (from datasets) (6.0.1)\n",
      "Requirement already satisfied: tqdm>=4.62.1 in /opt/conda/lib/python3.9/site-packages (from datasets) (4.62.3)\n",
      "Requirement already satisfied: fsspec[http]>=2021.05.0 in /opt/conda/lib/python3.9/site-packages (from datasets) (2021.11.1)\n",
      "Requirement already satisfied: aiohttp in /opt/conda/lib/python3.9/site-packages (from datasets) (3.8.1)\n",
      "Requirement already satisfied: xxhash in /opt/conda/lib/python3.9/site-packages (from datasets) (2.0.2)\n",
      "Requirement already satisfied: huggingface-hub<0.1.0,>=0.0.19 in /opt/conda/lib/python3.9/site-packages (from datasets) (0.0.19)\n",
      "Requirement already satisfied: multiprocess in /opt/conda/lib/python3.9/site-packages (from datasets) (0.70.12.2)\n",
      "Requirement already satisfied: dill in /opt/conda/lib/python3.9/site-packages (from datasets) (0.3.4)\n",
      "Requirement already satisfied: filelock in /opt/conda/lib/python3.9/site-packages (from huggingface-hub<0.1.0,>=0.0.19->datasets) (3.4.0)\n",
      "Requirement already satisfied: typing-extensions in /opt/conda/lib/python3.9/site-packages (from huggingface-hub<0.1.0,>=0.0.19->datasets) (4.5.0)\n",
      "Requirement already satisfied: pyyaml in /opt/conda/lib/python3.9/site-packages (from huggingface-hub<0.1.0,>=0.0.19->datasets) (6.0)\n",
      "Requirement already satisfied: pyparsing!=3.0.5,>=2.0.2 in /opt/conda/lib/python3.9/site-packages (from packaging->datasets) (3.0.6)\n",
      "Requirement already satisfied: charset-normalizer~=2.0.0 in /opt/conda/lib/python3.9/site-packages (from requests>=2.19.0->datasets) (2.0.8)\n",
      "Requirement already satisfied: certifi>=2017.4.17 in /opt/conda/lib/python3.9/site-packages (from requests>=2.19.0->datasets) (2021.10.8)\n",
      "Requirement already satisfied: urllib3<1.27,>=1.21.1 in /opt/conda/lib/python3.9/site-packages (from requests>=2.19.0->datasets) (1.26.7)\n",
      "Requirement already satisfied: idna<4,>=2.5 in /opt/conda/lib/python3.9/site-packages (from requests>=2.19.0->datasets) (2.10)\n",
      "Requirement already satisfied: yarl<2.0,>=1.0 in /opt/conda/lib/python3.9/site-packages (from aiohttp->datasets) (1.7.2)\n",
      "Requirement already satisfied: frozenlist>=1.1.1 in /opt/conda/lib/python3.9/site-packages (from aiohttp->datasets) (1.2.0)\n",
      "Requirement already satisfied: multidict<7.0,>=4.5 in /opt/conda/lib/python3.9/site-packages (from aiohttp->datasets) (5.2.0)\n",
      "Requirement already satisfied: aiosignal>=1.1.2 in /opt/conda/lib/python3.9/site-packages (from aiohttp->datasets) (1.2.0)\n",
      "Requirement already satisfied: attrs>=17.3.0 in /opt/conda/lib/python3.9/site-packages (from aiohttp->datasets) (21.2.0)\n",
      "Requirement already satisfied: async-timeout<5.0,>=4.0.0a3 in /opt/conda/lib/python3.9/site-packages (from aiohttp->datasets) (4.0.1)\n",
      "Requirement already satisfied: pytz>=2017.3 in /opt/conda/lib/python3.9/site-packages (from pandas->datasets) (2021.3)\n",
      "Requirement already satisfied: python-dateutil>=2.7.3 in /opt/conda/lib/python3.9/site-packages (from pandas->datasets) (2.8.2)\n",
      "Requirement already satisfied: six>=1.5 in /opt/conda/lib/python3.9/site-packages (from python-dateutil>=2.7.3->pandas->datasets) (1.16.0)\n",
      "\u001b[33mWARNING: Running pip as the 'root' user can result in broken permissions and conflicting behaviour with the system package manager. It is recommended to use a virtual environment instead: https://pip.pypa.io/warnings/venv\u001b[0m\n"
     ]
    }
   ],
   "source": [
    "!pip install datasets\n",
    "\n",
    "from datasets import load_metric"
   ]
  },
  {
   "cell_type": "code",
   "execution_count": 17,
   "id": "891c4ddf",
   "metadata": {},
   "outputs": [
    {
     "name": "stdout",
     "output_type": "stream",
     "text": [
      "huggingface/tokenizers: The current process just got forked, after parallelism has already been used. Disabling parallelism to avoid deadlocks...\n",
      "To disable this warning, you can either:\n",
      "\t- Avoid using `tokenizers` before the fork if possible\n",
      "\t- Explicitly set the environment variable TOKENIZERS_PARALLELISM=(true | false)\n",
      "Collecting sacrebleu\n",
      "  Downloading sacrebleu-2.3.1-py3-none-any.whl (118 kB)\n",
      "     |████████████████████████████████| 118 kB 7.8 MB/s            \n",
      "\u001b[?25hRequirement already satisfied: portalocker in /opt/conda/lib/python3.9/site-packages (from sacrebleu) (2.3.2)\n",
      "Requirement already satisfied: colorama in /opt/conda/lib/python3.9/site-packages (from sacrebleu) (0.4.4)\n",
      "Requirement already satisfied: lxml in /opt/conda/lib/python3.9/site-packages (from sacrebleu) (4.6.3)\n",
      "Requirement already satisfied: numpy>=1.17 in /opt/conda/lib/python3.9/site-packages (from sacrebleu) (1.21.4)\n",
      "Requirement already satisfied: regex in /opt/conda/lib/python3.9/site-packages (from sacrebleu) (2021.11.10)\n",
      "Requirement already satisfied: tabulate>=0.8.9 in /opt/conda/lib/python3.9/site-packages (from sacrebleu) (0.8.9)\n",
      "Installing collected packages: sacrebleu\n",
      "Successfully installed sacrebleu-2.3.1\n",
      "\u001b[33mWARNING: Running pip as the 'root' user can result in broken permissions and conflicting behaviour with the system package manager. It is recommended to use a virtual environment instead: https://pip.pypa.io/warnings/venv\u001b[0m\n"
     ]
    }
   ],
   "source": [
    "!pip install sacrebleu"
   ]
  },
  {
   "cell_type": "code",
   "execution_count": 18,
   "id": "b0d11770",
   "metadata": {},
   "outputs": [],
   "source": [
    "import pandas as pd\n",
    "import numpy as np"
   ]
  },
  {
   "cell_type": "code",
   "execution_count": 19,
   "id": "d47c7f07",
   "metadata": {},
   "outputs": [],
   "source": [
    "reference = [\"\"\"한국의 몇몇 연예인들은 동북공정을 인정하지 않고 sns와 해외 방송등 에서 김장을 하거나 한복을 입고, 한국의 문화와 전통은 대한민국의 것이라고 주장한다. 이러하듯이 우리들도 우리가 쉽게 접할수 있는 sns로 한국의 문화와 전통을 세계에 알려 중국의 동북공정을 실패로 돌아가게 해야한다. 또 국제적인 자리나 세계가 주목하는 회담 또는 올림픽 대회때 한국의 문화는 한반도에서 시작해 중국 지역까지 뻤쳐 나간 것이라는 증거를 밣켜 중국이 동북공정으로 우리 대한민국의 문화를 자신들의 것이라고 우기고 있다고, 알려 이 이야기가 세계에 확산화가 돼면 un과 다른 국제 기관에 도움을 받아 동북공정은 한국의 문화와 전통을 빼앗을려 하고, 고구려, 발해의 문화가 자신들의 것이라고 우기는 중국에게 논리있게 아니라고 밝히면 우리 한류문화 열풍을 지켜낼수 있다고 생각한다.\"\"\"]"
   ]
  },
  {
   "cell_type": "code",
   "execution_count": 20,
   "id": "545ec115",
   "metadata": {},
   "outputs": [
    {
     "data": {
      "application/vnd.jupyter.widget-view+json": {
       "model_id": "2ac7c5652a9b46c39597dc59fa0d06f0",
       "version_major": 2,
       "version_minor": 0
      },
      "text/plain": [
       "Downloading:   0%|          | 0.00/2.37k [00:00<?, ?B/s]"
      ]
     },
     "metadata": {},
     "output_type": "display_data"
    },
    {
     "data": {
      "text/html": [
       "<div>\n",
       "<style scoped>\n",
       "    .dataframe tbody tr th:only-of-type {\n",
       "        vertical-align: middle;\n",
       "    }\n",
       "\n",
       "    .dataframe tbody tr th {\n",
       "        vertical-align: top;\n",
       "    }\n",
       "\n",
       "    .dataframe thead th {\n",
       "        text-align: right;\n",
       "    }\n",
       "</style>\n",
       "<table border=\"1\" class=\"dataframe\">\n",
       "  <thead>\n",
       "    <tr style=\"text-align: right;\">\n",
       "      <th></th>\n",
       "      <th>Value</th>\n",
       "    </tr>\n",
       "  </thead>\n",
       "  <tbody>\n",
       "    <tr>\n",
       "      <th>score</th>\n",
       "      <td>15.014763</td>\n",
       "    </tr>\n",
       "    <tr>\n",
       "      <th>counts</th>\n",
       "      <td>[29, 15, 13, 12]</td>\n",
       "    </tr>\n",
       "    <tr>\n",
       "      <th>totals</th>\n",
       "      <td>[109, 108, 107, 106]</td>\n",
       "    </tr>\n",
       "    <tr>\n",
       "      <th>precisions</th>\n",
       "      <td>[26.61, 13.89, 12.15, 11.32]</td>\n",
       "    </tr>\n",
       "    <tr>\n",
       "      <th>bp</th>\n",
       "      <td>1.0</td>\n",
       "    </tr>\n",
       "    <tr>\n",
       "      <th>sys_len</th>\n",
       "      <td>109</td>\n",
       "    </tr>\n",
       "    <tr>\n",
       "      <th>ref_len</th>\n",
       "      <td>107</td>\n",
       "    </tr>\n",
       "  </tbody>\n",
       "</table>\n",
       "</div>"
      ],
      "text/plain": [
       "                                   Value\n",
       "score                          15.014763\n",
       "counts                  [29, 15, 13, 12]\n",
       "totals              [109, 108, 107, 106]\n",
       "precisions  [26.61, 13.89, 12.15, 11.32]\n",
       "bp                                   1.0\n",
       "sys_len                              109\n",
       "ref_len                              107"
      ]
     },
     "execution_count": 20,
     "metadata": {},
     "output_type": "execute_result"
    }
   ],
   "source": [
    "bleu_metric = load_metric(\"sacrebleu\")\n",
    "\n",
    "bleu_metric.add(\n",
    "    prediction=src_input, reference=reference)\n",
    "results = bleu_metric.compute(smooth_method=\"floor\", smooth_value=0)\n",
    "results[\"precisions\"] = [np.round(p, 2) for p in results[\"precisions\"]]\n",
    "pd.DataFrame.from_dict(results, orient=\"index\", columns=[\"Value\"])"
   ]
  },
  {
   "cell_type": "markdown",
   "id": "b5df78d7",
   "metadata": {},
   "source": [
    "# pickle 모듈로 저장"
   ]
  },
  {
   "cell_type": "code",
   "execution_count": 24,
   "id": "8d0c420b",
   "metadata": {},
   "outputs": [],
   "source": [
    "import pickle\n",
    "\n",
    "with open('all_model.pkl', 'wb') as file:\n",
    "    pickle.dump(learn, file)"
   ]
  },
  {
   "cell_type": "markdown",
   "id": "a6ec4c94",
   "metadata": {},
   "source": [
    "# 파이토치 모델 저장"
   ]
  },
  {
   "cell_type": "code",
   "execution_count": 22,
   "id": "70a3fd11",
   "metadata": {},
   "outputs": [],
   "source": [
    "torch.save(learn.state_dict(), \"model_weights.pth\")"
   ]
  },
  {
   "cell_type": "markdown",
   "id": "7695c341",
   "metadata": {},
   "source": [
    "# 파이토치 모델 저장2"
   ]
  },
  {
   "cell_type": "code",
   "execution_count": 23,
   "id": "490092d2",
   "metadata": {},
   "outputs": [],
   "source": [
    "torch.save(learn, \"model.pth\")"
   ]
  },
  {
   "cell_type": "markdown",
   "id": "bb5d0891",
   "metadata": {},
   "source": [
    "# 체크포인트 저장 "
   ]
  },
  {
   "cell_type": "code",
   "execution_count": 31,
   "id": "633b8e58",
   "metadata": {},
   "outputs": [],
   "source": [
    "torch.save({\n",
    "    'epoch' : 5,\n",
    "    'mode_state_dict' : model.state_dict(),\n",
    "    'loss' : CrossEntropyLossFlat(),\n",
    "}, \"check_point.tar\")"
   ]
  }
 ],
 "metadata": {
  "kernelspec": {
   "display_name": "Python 3 (ipykernel)",
   "language": "python",
   "name": "python3"
  },
  "language_info": {
   "codemirror_mode": {
    "name": "ipython",
    "version": 3
   },
   "file_extension": ".py",
   "mimetype": "text/x-python",
   "name": "python",
   "nbconvert_exporter": "python",
   "pygments_lexer": "ipython3",
   "version": "3.9.7"
  }
 },
 "nbformat": 4,
 "nbformat_minor": 5
}
